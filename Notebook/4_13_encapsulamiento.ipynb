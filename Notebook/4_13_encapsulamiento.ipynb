{
  "cells": [
    {
      "cell_type": "markdown",
      "metadata": {},
      "source": [
        "## Introducción al Encapsulamiento y acceso a miembros\n",
        "\n",
        "El encapsulamiento es uno de los cuatro pilares fundamentales de la Programación Orientada a Objetos (POO). Se refiere a la restricción del acceso a ciertos componentes de un objeto, asegurando que solo se pueda acceder a ciertos atributos y métodos de un objeto desde fuera de la clase de la manera deseada.\n",
        "\n",
        "### Pregunta problema: \n",
        "Imagina que estás diseñando una clase Autor para una biblioteca. ¿Cómo puedes garantizar que ciertos atributos, como el nombre, la nacionalidad o la fecha de nacimiento, no sean modificados accidentalmente o accedidos de manera inapropiada?"
      ]
    },
    {
      "cell_type": "markdown",
      "metadata": {},
      "source": [
        "## Conceptos clave\n",
        "\n",
        "_Encapsulamiento:_ Es la técnica de hacer que los campos de una clase sean privados o protegidos y proporcionar acceso a través de métodos públicos.\n",
        "\n",
        "Diferencias entre \"_\" y \"__\" en Python:\n",
        "\n",
        "_: Se utiliza para indicar que un atributo o método es protegido. Aunque técnicamente aún es accesible desde fuera de la clase, por convención se entiende que no debe ser accedido directamente. Sin embargo, esta protección es solo una convención y no impide realmente el acceso.\n",
        "\n",
        "__: Se utiliza para indicar que un atributo o método es privado. Esto modifica el nombre del atributo/método de manera que es más difícil de acceder desde fuera de la clase, proporcionando una capa adicional de seguridad."
      ]
    },
    {
      "cell_type": "markdown",
      "metadata": {},
      "source": [
        "## Ejemplos prácticos"
      ]
    },
    {
      "cell_type": "markdown",
      "metadata": {},
      "source": [
        "### Clase Autor con atributos públicos:"
      ]
    },
    {
      "cell_type": "code",
      "execution_count": null,
      "metadata": {},
      "outputs": [],
      "source": [
        "class Autor:\n",
        "    def __init__(self, nombre, nacionalidad):\n",
        "        self.nombre = nombre\n",
        "        self.nacionalidad = nacionalidad\n",
        "\n",
        "    def mostrar_autor(self):\n",
        "        print(f\"Nombre: {self.nombre}\")\n",
        "        print(f\"Nacionalidad: {self.nacionalidad}\")\n"
      ]
    },
    {
      "cell_type": "markdown",
      "metadata": {},
      "source": [
        "Este diseño, aunque funcional, no protege los atributos nombre y nacionalidad de modificaciones no deseadas.\n",
        "\n",
        "### Clase Autor con atributos protegidos:"
      ]
    },
    {
      "cell_type": "code",
      "execution_count": null,
      "metadata": {},
      "outputs": [],
      "source": [
        "class Autor:\n",
        "    def __init__(self, nombre, nacionalidad):\n",
        "        self._nombre = nombre\n",
        "        self._nacionalidad = nacionalidad\n"
      ]
    },
    {
      "cell_type": "markdown",
      "metadata": {},
      "source": [
        "Aquí, hemos marcado los atributos como protegidos usando un solo guion bajo. Esto indica que no deben ser accedidos directamente, pero aún es posible hacerlo.\n",
        "\n",
        "### Clase Autor con atributos privados y métodos getter y setter:"
      ]
    },
    {
      "cell_type": "code",
      "execution_count": null,
      "metadata": {},
      "outputs": [],
      "source": [
        "class Autor:\n",
        "    def __init__(self, nombre, nacionalidad):\n",
        "        self.__nombre = nombre\n",
        "        self.__nacionalidad = nacionalidad\n",
        "\n",
        "    def get_nombre(self):\n",
        "        return self.__nombre\n",
        "\n",
        "    def set_nombre(self, nombre):\n",
        "        self.__nombre = nombre\n",
        "\n",
        "    def get_nacionalidad(self):\n",
        "        return self.__nacionalidad\n",
        "\n",
        "    def set_nacionalidad(self, nacionalidad):\n",
        "        self.__nacionalidad = nacionalidad\n"
      ]
    },
    {
      "cell_type": "markdown",
      "metadata": {},
      "source": [
        "Con los atributos marcados como privados, ahora es mucho más difícil acceder a ellos desde fuera de la clase. Los métodos getter y setter nos permiten controlar cómo se accede y modifica la información."
      ]
    },
    {
      "cell_type": "markdown",
      "metadata": {},
      "source": [
        "## Encapsulamiento de métodos\n",
        "\n",
        "El encapsulamiento no se limita solo a los atributos; también podemos encapsular métodos. Esto será explorado en profundidad en el tema de polimorfismo."
      ]
    },
    {
      "cell_type": "markdown",
      "metadata": {},
      "source": [
        "## Desafíos"
      ]
    },
    {
      "cell_type": "markdown",
      "metadata": {},
      "source": [
        "### Desafío 1: \n",
        "Crea una clase Libro que tenga atributos privados para el título, autor y ISBN. Proporciona métodos getter y setter para cada atributo.\n",
        "\n",
        "### Desafío 2: \n",
        "Modifica la clase Autor para que pueda tener una lista de libros escritos por el autor. Proporciona un método para agregar libros a esta lista.\n",
        "\n",
        "### Desafío 3: \n",
        "Basándote en el código proporcionado en el repositorio, crea una función que tome un objeto Autor y devuelva el libro con el ISBN más largo."
      ]
    },
    {
      "cell_type": "markdown",
      "metadata": {},
      "source": [
        "## Referencias"
      ]
    },
    {
      "cell_type": "markdown",
      "metadata": {},
      "source": [
        "- [Enlace a Recurso 1](#)\n",
        "- [Enlace a Recurso 2](#)"
      ]
    }
  ],
  "metadata": {
    "kernelspec": {
      "display_name": "Python 3",
      "language": "python",
      "name": "python3"
    },
    "language_info": {
      "codemirror_mode": {
        "name": "ipython",
        "version": 3
      },
      "file_extension": ".py",
      "mimetype": "text/x-python",
      "name": "python",
      "nbconvert_exporter": "python",
      "pygments_lexer": "ipython3",
      "version": "3.8.5"
    }
  },
  "nbformat": 4,
  "nbformat_minor": 4
}
