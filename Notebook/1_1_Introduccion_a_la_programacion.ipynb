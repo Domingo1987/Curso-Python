{
 "cells": [
  {
   "cell_type": "markdown",
   "metadata": {},
   "source": [
    "# 1.1 Introducción a la Programación\n",
    "\n",
    "## Bienvenido a \"101 Desafíos y Bloques de Programación en Python\"\n",
    "\n",
    "¡Bienvenido a \"101 Desafíos y Bloques de Programación en Python\"! Este libro está diseñado para introducirte en el fascinante mundo de la programación utilizando el lenguaje Python. A lo largo de estas páginas, aprenderás los conceptos fundamentales de la programación y cómo aplicarlos para resolver problemas de manera efectiva.\n",
    "\n",
    "Python es un lenguaje de programación poderoso y fácil de aprender, ideal tanto para principiantes como para programadores experimentados. Con su sintaxis clara y su amplia gama de bibliotecas, Python te permitirá desarrollar una gran variedad de aplicaciones, desde simples scripts hasta complejas soluciones de software.\n",
    "\n",
    "Este libro está estructurado en cinco (101<sub>2</sub>) bloques temáticos, cada uno compuesto por varios desafíos y también problemas ya resueltos que te ayudarán a consolidar tus conocimientos y habilidades en Python. A medida que avances, los desafíos se volverán más complejos, permitiéndote aplicar y profundizar en los conceptos aprendidos.\n",
    "\n",
    "¡Prepárate para un viaje emocionante a través del mundo de la programación en Python!\n",
    "\n",
    "\n",
    "## ¿Qué es la programación?\n",
    "La programación es el proceso de escribir instrucciones que una computadora puede ejecutar para realizar una tarea específica. Estas instrucciones se escriben en lenguajes de programación, que son lenguajes especialmente diseñados para comunicarse con las computadoras.\n",
    "\n",
    "\"Programar una computadora no significa más ni menos que comunicarse con ella en un lenguaje que tanto ella como el usuario humano puedan 'entender'. Y aprender lenguajes es una de las cosas que los niños hacen mejor. Todo niño aprende a hablar. Entonces, ¿por qué un niño no debería aprender a 'hablar' con una computadora?\" (Papert, 1980, p. 6).\n",
    "\n",
    "Esta pregunta, planteada en 1980 por Seymour Papert, sigue siendo relevante hoy en día. Compartimos el espíritu de la pregunta y creemos firmemente en su enfoque. Por ello, te invitamos a dar respuesta a este primer desafío: aprender a \"hablar\" con una computadora a través de la programación.\n",
    "\n",
    "\n",
    "## Lenguajes de Programación\n",
    "\n",
    "### Python\n",
    "\n",
    "Python es un lenguaje de programación de alto nivel conocido por su sintaxis clara y legible. Es ampliamente utilizado en diversas áreas como el desarrollo web, análisis de datos, inteligencia artificial y más. Aquí tienes un ejemplo sencillo en Python:\n"
   ]
  },
  {
   "cell_type": "code",
   "execution_count": null,
   "metadata": {},
   "outputs": [],
   "source": [
    "print(\"¡Hola, Mundo!\")"
   ]
  },
  {
   "cell_type": "markdown",
   "metadata": {},
   "source": [
    "### C\n",
    "C es un lenguaje de programación de propósito general que ha sido muy influyente en el desarrollo de muchos otros lenguajes. Es conocido por su eficiencia y control sobre el hardware. Aquí tienes un ejemplo sencillo en C:\n",
    "\n",
    "```c\n",
    "#include <stdio.h>\n",
    "\n",
    "int main() {\n",
    "    printf(\"¡Hola, Mundo!\\n\");\n",
    "    return 0;\n",
    "}"
   ]
  },
  {
   "cell_type": "markdown",
   "metadata": {},
   "source": [
    "## Entornos de Desarrollo\n",
    "\n",
    "Para escribir y ejecutar programas, utilizamos entornos de desarrollo. Algunos de los más populares incluyen:\n",
    "\n",
    "- **VSCode**: Un entorno de desarrollo integrado (IDE) que soporta múltiples lenguajes de programación.\n",
    "- **IDLE**: El entorno de desarrollo estándar para Python.\n",
    "- **Codeblocks**: Un IDE para C y C++.\n",
    "- **Replit**: Una plataforma en línea que permite escribir y ejecutar código desde el navegador.\n",
    "- **Ideone**: Otra plataforma en línea que soporta varios lenguajes de programación.\n",
    "\n",
    "## Algoritmos y Pseudocódigo\n",
    "\n",
    "Un algoritmo es una secuencia de pasos que describe cómo realizar una tarea. El pseudocódigo es una manera de escribir algoritmos de forma que sean fáciles de entender, sin la sintaxis estricta de un lenguaje de programación. Aquí tienes un ejemplo de pseudocódigo para sumar dos números:\n",
    "\n",
    "```plaintext\n",
    "Inicio\n",
    "Leer número1, número2\n",
    "Sumar número1 y número2\n",
    "Mostrar resultado\n",
    "Fin\n",
    "\n",
    "\n",
    "A continuación, veamos cómo se implementa este pseudocódigo en Python y C."
   ]
  },
  {
   "cell_type": "markdown",
   "metadata": {},
   "source": [
    "### Python"
   ]
  },
  {
   "cell_type": "code",
   "execution_count": null,
   "metadata": {},
   "outputs": [],
   "source": [
    "# Código en Python basado en el pseudocódigo\n",
    "numero1 = float(input(\"Ingrese el primer número: \"))\n",
    "numero2 = float(input(\"Ingrese el segundo número: \"))\n",
    "resultado = numero1 + numero2\n",
    "print(\"La suma es:\", resultado)"
   ]
  },
  {
   "cell_type": "markdown",
   "metadata": {},
   "source": [
    "```c\n",
    "\n",
    "// Código en C basado en el pseudocódigo\n",
    "#include <stdio.h>\n",
    "\n",
    "int main() {\n",
    "    float numero1, numero2, resultado;\n",
    "    printf(\"Ingrese el primer número: \");\n",
    "    scanf(\"%f\", &numero1);\n",
    "    printf(\"Ingrese el segundo número: \");\n",
    "    scanf(\"%f\", &numero2);\n",
    "    resultado = numero1 + numero2;\n",
    "    printf(\"La suma es: %f\\n\", resultado);\n",
    "    return 0;\n",
    "}\n",
    "\n",
    "Aunque cualquier desafío de programación se puede resolver en múltiples lenguajes, en este libro nos centraremos particularmente en Python. Como ya se mencionó, Python es conocido por su simplicidad y legibilidad, lo que lo convierte en una excelente opción tanto para principiantes como para programadores experimentados.\n",
    "\n"
   ]
  },
  {
   "cell_type": "markdown",
   "metadata": {},
   "source": [
    "## Desafío 1: Modificar el Mensaje de Hola Mundo\n",
    "\n",
    "Modifica el código de ejemplo \"¡Hola, Mundo!\" para que imprima \"Bienvenido al Curso\".\n",
    "\n",
    "## Desafío 2: Imprimir un Mensaje de Bienvenida con Tabulador\n",
    "\n",
    "Modifica el siguiente código para que en lugar de \"NOMBRE\" aparezca tu nombre, utilizando un tabulador antes del nombre, y muestre el mensaje en dos líneas:\n",
    "\n",
    "```plaintext\n",
    "Bienvenido    NOMBRE\n",
    "al Curso de Programación\n",
    "\n"
   ]
  },
  {
   "cell_type": "markdown",
   "metadata": {},
   "source": [
    "# Bibliografía\n",
    "\n",
    "Papert, S. (1980). Mindstorms: Children, Computers, and Powerful Ideas (1st ed., p. 6). Basic Books.\n",
    "\n",
    "\n"
   ]
  }
 ],
 "metadata": {
  "kernelspec": {
   "display_name": "Python 3",
   "language": "python",
   "name": "python3"
  },
  "language_info": {
   "codemirror_mode": {
    "name": "ipython",
    "version": 3
   },
   "file_extension": ".py",
   "mimetype": "text/x-python",
   "name": "python",
   "nbconvert_exporter": "python",
   "pygments_lexer": "ipython3",
   "version": "3.11.1"
  }
 },
 "nbformat": 4,
 "nbformat_minor": 2
}
