{
 "cells": [
  {
   "cell_type": "markdown",
   "metadata": {},
   "source": [
    "# Excepciones y errores"
   ]
  },
  {
   "cell_type": "markdown",
   "metadata": {},
   "source": [
    "## Excepciones\n",
    "\n",
    "La excepciones son errores en tiempo de ejecución de un programa, o sea durante la ejecución del programa.\n",
    "Un error muy común es el de la sintaxis.\n",
    "Incluso si una declaración o expresión es sintácticamente correcta, puede generar un error cuando se intenta ejecutar. Los errores detectados durante la ejecución no son incondicionalmente fatales. Sin embargo, la mayoría de las excepciones no son gestionadas por el código, y resultan en mensajes de error como los mostrados aquí:"
   ]
  },
  {
   "cell_type": "code",
   "execution_count": null,
   "metadata": {},
   "outputs": [],
   "source": [
    "10 * (1/0)"
   ]
  },
  {
   "cell_type": "code",
   "execution_count": null,
   "metadata": {},
   "outputs": [],
   "source": [
    "4 + spam*3"
   ]
  },
  {
   "cell_type": "code",
   "execution_count": null,
   "metadata": {},
   "outputs": [],
   "source": [
    "'2' + 2"
   ]
  },
  {
   "cell_type": "markdown",
   "metadata": {},
   "source": [
    "La última línea del mensaje de error es crucial, ya que indica qué tipo de excepción ha ocurrido. Cada tipo de excepción tiene un propósito específico y se utiliza para señalar un tipo particular de error."
   ]
  },
  {
   "cell_type": "markdown",
   "metadata": {},
   "source": [
    "Explicar las caracteristicas propias de los errores cometidos en los codigos anteriores..."
   ]
  },
  {
   "cell_type": "markdown",
   "metadata": {},
   "source": []
  },
  {
   "cell_type": "markdown",
   "metadata": {},
   "source": [
    "# Como corregir esas excepciones"
   ]
  },
  {
   "cell_type": "code",
   "execution_count": 14,
   "metadata": {},
   "outputs": [
    {
     "ename": "ZeroDivisionError",
     "evalue": "division by zero",
     "output_type": "error",
     "traceback": [
      "\u001b[1;31m---------------------------------------------------------------------------\u001b[0m",
      "\u001b[1;31mZeroDivisionError\u001b[0m                         Traceback (most recent call last)",
      "\u001b[1;32md:\\_VSCode\\_Programacion1-C\\Curso-Python\\Notebook\\4_14_excepciones.ipynb Celda 10\u001b[0m line \u001b[0;36m3\n\u001b[0;32m      <a href='vscode-notebook-cell:/d%3A/_VSCode/_Programacion1-C/Curso-Python/Notebook/4_14_excepciones.ipynb#X14sZmlsZQ%3D%3D?line=0'>1</a>\u001b[0m a \u001b[39m=\u001b[39m (\u001b[39mint\u001b[39m) (\u001b[39minput\u001b[39m(\u001b[39m\"\u001b[39m\u001b[39mIngrese el dividendo: \u001b[39m\u001b[39m\"\u001b[39m))\n\u001b[0;32m      <a href='vscode-notebook-cell:/d%3A/_VSCode/_Programacion1-C/Curso-Python/Notebook/4_14_excepciones.ipynb#X14sZmlsZQ%3D%3D?line=1'>2</a>\u001b[0m b \u001b[39m=\u001b[39m (\u001b[39mint\u001b[39m) (\u001b[39minput\u001b[39m(\u001b[39m\"\u001b[39m\u001b[39mIngrese el divisor: \u001b[39m\u001b[39m\"\u001b[39m))\n\u001b[1;32m----> <a href='vscode-notebook-cell:/d%3A/_VSCode/_Programacion1-C/Curso-Python/Notebook/4_14_excepciones.ipynb#X14sZmlsZQ%3D%3D?line=2'>3</a>\u001b[0m \u001b[39mprint\u001b[39m(a\u001b[39m/\u001b[39;49mb)\n",
      "\u001b[1;31mZeroDivisionError\u001b[0m: division by zero"
     ]
    }
   ],
   "source": [
    "a = (int) (input(\"Ingrese el dividendo: \"))\n",
    "b = (int) (input(\"Ingrese el divisor: \"))\n",
    "\n",
    "print(a/b)"
   ]
  },
  {
   "cell_type": "markdown",
   "metadata": {},
   "source": [
    "Esto no funciona porque el usuario puede ingresar en b el valor 0.\n",
    "Mejoremos el codigo."
   ]
  },
  {
   "cell_type": "code",
   "execution_count": 18,
   "metadata": {},
   "outputs": [
    {
     "name": "stdout",
     "output_type": "stream",
     "text": [
      "Error: División por cero no permitida.\n"
     ]
    }
   ],
   "source": [
    "# Solicitamos al usuario el dividendo y lo convertimos a entero\n",
    "a = float(input(\"Ingrese el dividendo: \"))\n",
    "\n",
    "# Solicitamos al usuario el divisor y lo convertimos a entero\n",
    "b = float(input(\"Ingrese el divisor: \"))\n",
    "\n",
    "# Intentamos realizar la división\n",
    "try:\n",
    "    resultado = a/b\n",
    "    print(resultado)\n",
    "except ZeroDivisionError:  # Si ocurre una división por cero\n",
    "    print(\"Error: División por cero no permitida.\")\n"
   ]
  }
 ],
 "metadata": {
  "kernelspec": {
   "display_name": "Python 3",
   "language": "python",
   "name": "python3"
  },
  "language_info": {
   "codemirror_mode": {
    "name": "ipython",
    "version": 3
   },
   "file_extension": ".py",
   "mimetype": "text/x-python",
   "name": "python",
   "nbconvert_exporter": "python",
   "pygments_lexer": "ipython3",
   "version": "3.11.1"
  },
  "orig_nbformat": 4
 },
 "nbformat": 4,
 "nbformat_minor": 2
}
