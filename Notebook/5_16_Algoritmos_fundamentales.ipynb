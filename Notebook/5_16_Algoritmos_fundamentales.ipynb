{
 "cells": [
  {
   "cell_type": "markdown",
   "metadata": {},
   "source": [
    "# Algoritmos fundamentales\n",
    "\n",
    "En este cuaderno, imaginaremos que estamos desarrollando un sistema para gestionar el inventario de un supermercado. Cada producto en el supermercado tiene un código único y se almacena en una estructura de datos. Nuestro objetivo será desarrollar algoritmos que nos ayuden a:\n",
    "\n",
    "* Recorrer el inventario para hacer un seguimiento de los productos.\n",
    "* Buscar productos en el inventario de manera eficiente.\n",
    "* Ordenar los productos según diferentes criterios para facilitar la gestión.\n",
    "\n",
    "Comencemos con los algoritmos de recorrido.\n"
   ]
  },
  {
   "cell_type": "markdown",
   "metadata": {},
   "source": [
    "## Algoritmos de Recorrido\n",
    "El recorrido es una operación fundamental que implica visitar todos los elementos de una estructura de datos, como una lista, matriz o árbol, en un orden particular. En el contexto de la gestión de inventarios, el recorrido nos permite procesar todos los productos para llevar a cabo tareas como actualizar cantidades o verificar la disponibilidad.\n",
    "\n",
    "### Recorrido de una Lista\n",
    "Un supermercado tiene una lista de códigos de productos. Nuestro objetivo es recorrer la lista y mostrar los códigos uno por uno."
   ]
  },
  {
   "cell_type": "code",
   "execution_count": null,
   "metadata": {},
   "outputs": [],
   "source": [
    "# Lista de códigos de productos\n",
    "inventario = [101, 102, 103, 104, 105]\n",
    "\n",
    "# Recorrer y mostrar cada código de producto\n",
    "def recorrer_inventario(inventario):\n",
    "    for codigo in inventario:\n",
    "        print(f\"Código de producto: {codigo}\")\n",
    "\n",
    "# Llamada a la función\n",
    "recorrer_inventario(inventario)\n"
   ]
  },
  {
   "cell_type": "markdown",
   "metadata": {},
   "source": [
    "## Recorrido de una Matriz (Inventario por Sección)\n",
    "El supermercado tiene diferentes secciones y cada sección tiene una lista de productos. Podemos modelar este inventario como una matriz donde cada fila representa una sección."
   ]
  },
  {
   "cell_type": "code",
   "execution_count": null,
   "metadata": {},
   "outputs": [],
   "source": [
    "# Matriz que representa el inventario por secciones\n",
    "secciones = [\n",
    "    [101, 102, 103],  # Sección 1\n",
    "    [201, 202, 203],  # Sección 2\n",
    "    [301, 302, 303]   # Sección 3\n",
    "]\n",
    "\n",
    "# Recorrer y mostrar los códigos de producto por secciones\n",
    "def recorrer_inventario_por_secciones(secciones):\n",
    "    for i, seccion in enumerate(secciones):\n",
    "        print(f\"Sección {i + 1}:\")\n",
    "        for producto in seccion:\n",
    "            print(f\"Código de producto: {producto}\")\n",
    "\n",
    "# Llamada a la función\n",
    "recorrer_inventario_por_secciones(secciones)\n"
   ]
  },
  {
   "cell_type": "markdown",
   "metadata": {},
   "source": [
    "## Recorrido de un Árbol (Categorías de Productos)\n",
    "Algunos productos están organizados jerárquicamente, por ejemplo, en categorías como alimentos, bebidas, etc. Podemos utilizar un árbol para representar esta jerarquía y aplicar un recorrido en preorden para procesar todos los productos."
   ]
  },
  {
   "cell_type": "code",
   "execution_count": null,
   "metadata": {},
   "outputs": [],
   "source": [
    "class Nodo:\n",
    "    def __init__(self, valor):\n",
    "        self.izq = None\n",
    "        self.der = None\n",
    "        self.valor = valor\n",
    "\n",
    "# Crear un árbol simple de categorías de productos\n",
    "raiz = Nodo(\"Alimentos\")\n",
    "raiz.izq = Nodo(\"Frutas\")\n",
    "raiz.der = Nodo(\"Carnes\")\n",
    "raiz.izq.izq = Nodo(\"Manzanas\")\n",
    "raiz.izq.der = Nodo(\"Bananas\")\n",
    "raiz.der.izq = Nodo(\"Pollo\")\n",
    "raiz.der.der = Nodo(\"Cerdo\")\n",
    "\n",
    "# Recorrido en preorden\n",
    "def preorden(raiz):\n",
    "    if raiz:\n",
    "        print(raiz.valor)\n",
    "        preorden(raiz.izq)\n",
    "        preorden(raiz.der)\n",
    "\n",
    "# Llamada al recorrido preorden\n",
    "preorden(raiz)\n"
   ]
  },
  {
   "cell_type": "markdown",
   "metadata": {},
   "source": [
    "## Algoritmos de Búsqueda\n",
    "Los algoritmos de búsqueda nos permiten encontrar un elemento en una estructura de datos de manera eficiente. En la gestión de inventarios, a menudo necesitamos buscar un producto específico por su código.\n",
    "\n",
    "### Búsqueda Lineal\n",
    "La búsqueda lineal recorre la lista desde el primer elemento hasta el último, comparando cada elemento con el valor buscado."
   ]
  },
  {
   "cell_type": "code",
   "execution_count": null,
   "metadata": {},
   "outputs": [],
   "source": [
    "# Lista de códigos de productos\n",
    "inventario = [101, 102, 103, 104, 105]\n",
    "\n",
    "# Búsqueda lineal de un producto por su código\n",
    "def busqueda_lineal(inventario, codigo_buscar):\n",
    "    for i, codigo in enumerate(inventario):\n",
    "        if codigo == codigo_buscar:\n",
    "            return i  # Retorna el índice del producto\n",
    "    return -1  # Producto no encontrado\n",
    "\n",
    "# Buscar el producto con código 104\n",
    "resultado = busqueda_lineal(inventario, 104)\n",
    "print(f\"Producto encontrado en la posición: {resultado}\")\n"
   ]
  },
  {
   "cell_type": "markdown",
   "metadata": {},
   "source": [
    "## Búsqueda Binaria\n",
    "La búsqueda binaria es mucho más eficiente que la búsqueda lineal, pero solo se puede aplicar si los elementos están ordenados. Divide la lista en dos mitades y descarta la mitad que no puede contener el valor buscado."
   ]
  },
  {
   "cell_type": "code",
   "execution_count": null,
   "metadata": {},
   "outputs": [],
   "source": [
    "# Lista ordenada de códigos de productos\n",
    "inventario = [101, 102, 103, 104, 105]\n",
    "\n",
    "# Búsqueda binaria de un producto por su código\n",
    "def busqueda_binaria(inventario, codigo_buscar):\n",
    "    bajo = 0\n",
    "    alto = len(inventario) - 1\n",
    "\n",
    "    while bajo <= alto:\n",
    "        medio = (bajo + alto) // 2\n",
    "        if inventario[medio] == codigo_buscar:\n",
    "            return medio  # Producto encontrado\n",
    "        elif inventario[medio] < codigo_buscar:\n",
    "            bajo = medio + 1\n",
    "        else:\n",
    "            alto = medio - 1\n",
    "\n",
    "    return -1  # Producto no encontrado\n",
    "\n",
    "# Buscar el producto con código 104\n",
    "resultado = busqueda_binaria(inventario, 104)\n",
    "print(f\"Producto encontrado en la posición: {resultado}\")\n"
   ]
  },
  {
   "cell_type": "markdown",
   "metadata": {},
   "source": [
    "## Algoritmos de Ordenamiento\n",
    "Los algoritmos de ordenamiento son esenciales para organizar datos de manera que las búsquedas y otros algoritmos sean más eficientes.\n",
    "\n",
    "### Ordenamiento Burbuja\n",
    "El algoritmo de burbuja compara elementos adyacentes y los intercambia si están en el orden incorrecto. Este proceso se repite hasta que la lista esté completamente ordenada."
   ]
  },
  {
   "cell_type": "code",
   "execution_count": null,
   "metadata": {},
   "outputs": [],
   "source": [
    "# Lista de códigos de productos\n",
    "inventario = [105, 103, 101, 104, 102]\n",
    "\n",
    "# Ordenamiento burbuja\n",
    "def ordenamiento_burbuja(inventario):\n",
    "    n = len(inventario)\n",
    "    for i in range(n):\n",
    "        for j in range(0, n - i - 1):\n",
    "            if inventario[j] > inventario[j + 1]:\n",
    "                # Intercambiar los elementos\n",
    "                inventario[j], inventario[j + 1] = inventario[j + 1], inventario[j]\n",
    "\n",
    "# Ordenar la lista de productos\n",
    "ordenamiento_burbuja(inventario)\n",
    "print(f\"Inventario ordenado: {inventario}\")\n"
   ]
  },
  {
   "cell_type": "markdown",
   "metadata": {},
   "source": [
    "### Ordenamiento por Inserción\n",
    "El algoritmo de inserción toma un elemento de la lista y lo inserta en su posición correcta con respecto a los elementos ya ordenados."
   ]
  },
  {
   "cell_type": "code",
   "execution_count": null,
   "metadata": {},
   "outputs": [],
   "source": [
    "# Lista de códigos de productos\n",
    "inventario = [105, 103, 101, 104, 102]\n",
    "\n",
    "# Ordenamiento por inserción\n",
    "def ordenamiento_insercion(inventario):\n",
    "    for i in range(1, len(inventario)):\n",
    "        clave = inventario[i]\n",
    "        j = i - 1\n",
    "        while j >= 0 and clave < inventario[j]:\n",
    "            inventario[j + 1] = inventario[j]\n",
    "            j -= 1\n",
    "        inventario[j + 1] = clave\n",
    "\n",
    "# Ordenar la lista de productos\n",
    "ordenamiento_insercion(inventario)\n",
    "print(f\"Inventario ordenado: {inventario}\")\n"
   ]
  },
  {
   "cell_type": "markdown",
   "metadata": {},
   "source": [
    "### Ordenamiento por Selección\n",
    "El algoritmo de selección busca el elemento más pequeño (o más grande) en la lista y lo coloca en su posición correcta, intercambiando con el primer elemento no ordenado."
   ]
  },
  {
   "cell_type": "code",
   "execution_count": null,
   "metadata": {},
   "outputs": [],
   "source": [
    "# Lista de códigos de productos\n",
    "inventario = [105, 103, 101, 104, 102]\n",
    "\n",
    "# Ordenamiento por selección\n",
    "def ordenamiento_seleccion(inventario):\n",
    "    for i in range(len(inventario)):\n",
    "        min_idx = i\n",
    "        for j in range(i + 1, len(inventario)):\n",
    "            if inventario[j] < inventario[min_idx]:\n",
    "                min_idx = j\n",
    "        # Intercambiar el elemento más pequeño con el primer elemento no ordenado\n",
    "        inventario[i], inventario[min_idx] = inventario[min_idx], inventario[i]\n",
    "\n",
    "# Ordenar la lista de productos\n",
    "ordenamiento_seleccion(inventario)\n",
    "print(f\"Inventario ordenado: {inventario}\")\n"
   ]
  },
  {
   "cell_type": "markdown",
   "metadata": {},
   "source": [
    "## Desafíos\n",
    "### Desafío 1: Recorrido de estudiantes por niveles\n",
    "Dado un árbol que representa los grupos de estudiantes en una escuela, implementa un recorrido por niveles para mostrar los estudiantes de cada grupo, comenzando por el nivel más alto (ej. grado 12) y descendiendo hasta el nivel más bajo (ej. grado 1). Cada nodo del árbol representa un grado y sus estudiantes.\n",
    "\n",
    "### Desafío 2: Implementar búsqueda secuencial en una tabla de calificaciones\n",
    "Tienes una tabla de calificaciones representada como una matriz, donde cada fila contiene las calificaciones de un estudiante en distintas materias. Implementa una función que busque una calificación específica en toda la matriz y devuelva el estudiante y la materia en la que se encuentra.\n",
    "\n",
    "### Desafío 3: Optimizar la búsqueda en una lista ordenada de estudiantes\n",
    "Tienes una lista ordenada alfabéticamente con los nombres de los estudiantes de una clase. Implementa una función que realice una búsqueda binaria para encontrar un estudiante específico en la lista. Si el estudiante no está, la función debe mostrar un mensaje adecuado.\n",
    "\n",
    "### Desafío 4: Ordenar estudiantes por promedio de calificaciones\n",
    "Tienes una lista de estudiantes y su promedio de calificaciones. Implementa un algoritmo que ordene a los estudiantes de acuerdo con su promedio utilizando el algoritmo de ordenamiento por selección. Al final, el estudiante con el promedio más alto debe estar en primer lugar.\n",
    "\n",
    "### Desafío 5: Crear un árbol de clasificación de estudiantes por rendimiento\n",
    "Dado un conjunto de estudiantes y sus promedios, implementa una función que cree un árbol binario de búsqueda en el que los nodos representan los promedios de los estudiantes. Luego, implementa una función que recorra el árbol en inorden para mostrar los estudiantes en orden ascendente de rendimiento académico."
   ]
  }
 ],
 "metadata": {
  "kernelspec": {
   "display_name": "venv",
   "language": "python",
   "name": "python3"
  },
  "language_info": {
   "codemirror_mode": {
    "name": "ipython",
    "version": 3
   },
   "file_extension": ".py",
   "mimetype": "text/x-python",
   "name": "python",
   "nbconvert_exporter": "python",
   "pygments_lexer": "ipython3",
   "version": "3.11.1"
  }
 },
 "nbformat": 4,
 "nbformat_minor": 2
}
