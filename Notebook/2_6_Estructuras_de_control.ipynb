{
  "nbformat": 4,
  "nbformat_minor": 0,
  "metadata": {
    "colab": {
      "provenance": [],
      "toc_visible": true
    },
    "kernelspec": {
      "name": "python3",
      "display_name": "Python 3"
    },
    "language_info": {
      "name": "python"
    }
  },
  "cells": [
    {
      "cell_type": "markdown",
      "source": [
        "# 6. Estructuras de control"
      ],
      "metadata": {
        "id": "UG0BflsZQk3v"
      }
    },
    {
      "cell_type": "markdown",
      "source": [
        "En cualquier programa, es esencial poder controlar el flujo de la ejecución. Aquí es donde entran en juego las estructuras de control, que nos permiten tomar decisiones y repetir acciones en nuestros programas. En Python, estas estructuras son proporcionadas principalmente por las declaraciones condicionales y los bucles.\n",
        "\n",
        "Las estructuras de control son como los signos de tráfico en el camino de la ejecución de nuestro programa. Nos permiten tomar decisiones basadas en diferentes condiciones y repetir ciertas acciones hasta que se cumpla una condición. Vamos a explorar estos en más detalle."
      ],
      "metadata": {
        "id": "R5HHsfjCQpiW"
      }
    },
    {
      "cell_type": "markdown",
      "source": [
        "## a. Cruce de Decisiones: Condicionales"
      ],
      "metadata": {
        "id": "S9WqCCHyQt-6"
      }
    },
    {
      "cell_type": "markdown",
      "source": [
        "Los condicionales son las declaraciones que nos permiten tomar decisiones en nuestros programas. En Python, los condicionales se manejan con las palabras clave if, elif y else.\n",
        "\n",
        "Vamos a imaginar que estamos desarrollando un programa para determinar si un estudiante ha aprobado o reprobado un examen basado en su calificación."
      ],
      "metadata": {
        "id": "9qq9Wp-5Qv-0"
      }
    },
    {
      "cell_type": "code",
      "source": [
        "calificacion = int(input(\"Por favor ingrese la calificación del estudiante: \"))\n",
        "\n",
        "if calificacion >= 6:\n",
        "    print(\"El estudiante ha aprobado el examen.\")\n",
        "else:\n",
        "    print(\"El estudiante ha reprobado el examen.\")"
      ],
      "metadata": {
        "id": "R0NsZaZvQ1f5"
      },
      "execution_count": null,
      "outputs": []
    },
    {
      "cell_type": "markdown",
      "source": [
        "En este ejemplo, el programa pide al usuario que ingrese la calificación del estudiante. Luego, usa una declaración if para comprobar si la calificación es igual o superior a 6. Si es así, el programa imprime un mensaje diciendo que el estudiante ha aprobado. Si no es así, el programa imprime un mensaje diciendo que el estudiante ha reprobado."
      ],
      "metadata": {
        "id": "KlZiQh96RCvG"
      }
    },
    {
      "cell_type": "markdown",
      "source": [
        "## b. Ciclos Terminables: Bucles 'for'"
      ],
      "metadata": {
        "id": "dUMswdU3RFJs"
      }
    },
    {
      "cell_type": "markdown",
      "source": [
        "En ocasiones, necesitaremos repetir una acción varias veces. Aquí es donde los bucles entran en juego. Python ofrece dos tipos de bucles: for y while.\n",
        "\n",
        "Para ilustrar cómo funcionan, vamos a usar un ejemplo simple. Supongamos que queremos imprimir los números del 1 al 5."
      ],
      "metadata": {
        "id": "ataNihYiRHqQ"
      }
    },
    {
      "cell_type": "code",
      "source": [
        "for numero in range(1, 6):\n",
        "    print(numero)"
      ],
      "metadata": {
        "id": "vCaDA9g5RLTj"
      },
      "execution_count": null,
      "outputs": []
    },
    {
      "cell_type": "markdown",
      "source": [
        "En este caso, el bucle for recorre los números del 1 al 5 (el límite superior en range() es exclusivo), imprimiendo cada número en la consola.\n",
        "\n",
        "Las estructuras de control, los condicionales y los bucles son fundamentales en la programación. Nos permiten crear programas más dinámicos y flexibles, capaces de tomar decisiones y repetir tareas basadas en las condiciones que definamos."
      ],
      "metadata": {
        "id": "eDRQRryUROIi"
      }
    },
    {
      "cell_type": "markdown",
      "source": [
        "## c. Please, stop the 'while'"
      ],
      "metadata": {
        "id": "V-uEdgXwRQ86"
      }
    },
    {
      "cell_type": "markdown",
      "source": [
        "Vamos a aplicar nuestro conocimiento recién adquirido sobre bucles para resolver un problema real: calcular el promedio de las calificaciones de un estudiante. Supongamos que un estudiante nos proporciona sus calificaciones una por una. El estudiante indicará que ha terminado de proporcionar las calificaciones ingresando el número 0."
      ],
      "metadata": {
        "id": "mR47-zpZS6SE"
      }
    },
    {
      "cell_type": "code",
      "source": [
        "suma_calificaciones = 0\n",
        "contador_asignaturas = 0\n",
        "\n",
        "calificacion = int(input(\"Ingrese una calificación (entre 1 y 12) o 0 para terminar: \"))\n",
        "\n",
        "while calificacion != 0:\n",
        "    suma_calificaciones += calificacion\n",
        "    contador_asignaturas += 1\n",
        "    calificacion = int(input(\"Ingrese una calificación (entre 1 y 12) o 0 para terminar: \"))\n",
        "\n",
        "promedio = suma_calificaciones / contador_asignaturas\n",
        "print(f\"El promedio de las calificaciones es: {promedio}\")"
      ],
      "metadata": {
        "id": "dOIrCor0S8sH"
      },
      "execution_count": null,
      "outputs": []
    },
    {
      "cell_type": "markdown",
      "source": [
        "En este código, el bucle while se ejecuta hasta que el estudiante ingrese 0. Si bien es sencillo y cumple con su objetivo, este código no verifica si las calificaciones ingresadas están dentro del rango válido (1 a 12)."
      ],
      "metadata": {
        "id": "yd1hyqUfTZxw"
      }
    },
    {
      "cell_type": "markdown",
      "source": [
        "## d. Controlando el Flujo con 'break' y 'continue'"
      ],
      "metadata": {
        "id": "OIoa2RMNTaeq"
      }
    },
    {
      "cell_type": "markdown",
      "source": [
        "Ahora, vamos a mejorar nuestro código anterior incorporando las declaraciones break y continue para un mejor control del flujo del programa y la validación de las calificaciones."
      ],
      "metadata": {
        "id": "_N5yXORgTfjB"
      }
    },
    {
      "cell_type": "code",
      "source": [
        "suma_calificaciones = 0\n",
        "contador_asignaturas = 0\n",
        "\n",
        "while True:\n",
        "    calificacion = int(input(\"Ingrese una calificación (entre 1 y 12) o 0 para terminar: \"))\n",
        "    \n",
        "    if calificacion == 0:\n",
        "        break\n",
        "    \n",
        "    if calificacion < 1 or calificacion > 12:\n",
        "        print(\"La calificación debe estar entre 1 y 12. Inténtalo de nuevo.\")\n",
        "        continue\n",
        "\n",
        "    suma_calificaciones += calificacion\n",
        "    contador_asignaturas += 1\n",
        "\n",
        "promedio = suma_calificaciones / contador_asignaturas\n",
        "print(f\"El promedio de las calificaciones es: {promedio}\")"
      ],
      "metadata": {
        "id": "Xc8_XEQPTiRQ"
      },
      "execution_count": null,
      "outputs": []
    },
    {
      "cell_type": "markdown",
      "source": [
        "En este código, la declaración break se utiliza para detener el bucle cuando el estudiante ingresa 0. Por otro lado, la declaración continue se usa para saltar a la próxima iteración del bucle si la calificación ingresada no está dentro del rango válido, evitando así que calificaciones incorrectas se sumen a suma_calificaciones y se cuenten en contador_asignaturas."
      ],
      "metadata": {
        "id": "5OpG-Wx1TrIM"
      }
    },
    {
      "cell_type": "markdown",
      "source": [
        "# Desafíos\n"
      ],
      "metadata": {
        "id": "LkwXhVW1Txa4"
      }
    },
    {
      "cell_type": "markdown",
      "source": [
        "## Desafío 1: Calificaciones Aprobatorias y Desaprobatorias \n",
        "\n",
        "Supón que estás analizando las calificaciones de los estudiantes y quieres saber cuántos aprobaron y cuántos desaprobaron. Se considera que una calificación de 7 o superior es aprobatoria y cualquier calificación menor a 7 es desaprobatoria. Utiliza lo que aprendiste sobre bucles y condicionales para resolver este problema."
      ],
      "metadata": {
        "id": "F-ti-8L-V0lP"
      }
    },
    {
      "cell_type": "markdown",
      "source": [
        "## Desafío 2: Mejora del Cálculo del Promedio \n",
        "\n",
        "Toma el ejemplo del cálculo del promedio de calificaciones y mejóralo. En lugar de pedir las calificaciones una por una, modifica el código para pedir todas las calificaciones al mismo tiempo (el estudiante puede ingresar las calificaciones separadas por comas) y luego calcular el promedio."
      ],
      "metadata": {
        "id": "QCwpO0XhV_oA"
      }
    },
    {
      "cell_type": "markdown",
      "source": [
        "## Desafío 3: Simulación de una Carrera de Autos\n",
        "\n",
        "Vas a simular una carrera de autos. Cada auto tiene una velocidad aleatoria (puedes usar la biblioteca random de Python) y cada ciclo del bucle representa un segundo de la carrera. Al final de cada segundo, cada auto avanza una distancia igual a su velocidad. La carrera dura 10 segundos. Al final de la carrera, debes imprimir el auto ganador. Si hay un empate, debes imprimir todos los autos que empataron.\n",
        "\n",
        "*Nota:* Este desafío puede requerir que aprendas sobre conceptos adicionales, por ejemplo cómo generar números aleatorios."
      ],
      "metadata": {
        "id": "DGHX8zGvWK5k"
      }
    },
    {
      "cell_type": "markdown",
      "source": [
        "# Problemas"
      ],
      "metadata": {
        "id": "RLrgqVsaVxSZ"
      }
    },
    {
      "cell_type": "markdown",
      "source": [
        "## Problema: Cálculo de Gastos de un Viaje\n",
        "\n",
        "Supongamos que estás planeando un viaje y quieres calcular el total de gastos estimados. Tienes un arreglo de los diferentes conceptos de gastos (por ejemplo, transporte, alojamiento, alimentación, actividades, etc.) y quieres solicitar al usuario que ingrese el costo estimado para cada concepto. Al final, quieres mostrar el total de gastos estimados para el viaje.\n",
        "\n",
        "Planteamiento del problema:\n",
        "* Crea un arreglo de conceptos de gastos.\n",
        "* Utiliza un bucle for para iterar sobre el arreglo y solicitar al usuario que ingrese el costo estimado para cada concepto.\n",
        "* Utiliza una variable para realizar el seguimiento del total de gastos estimados, inicializada en 0.\n",
        "* Dentro del bucle, agrega el costo ingresado a la variable del total de gastos estimados.\n",
        "* Al final del bucle, muestra el total de gastos estimados.\n",
        "\n",
        "Aquí tienes un ejemplo de cómo podrías resolver este desafío utilizando arreglos:"
      ],
      "metadata": {
        "id": "-aldGZ8yVyJ_"
      }
    },
    {
      "cell_type": "code",
      "source": [
        "import numpy as np\n",
        "\n",
        "conceptos_gastos = np.array(['Transporte', 'Alojamiento', 'Alimentación', 'Actividades', 'Otros'])\n",
        "\n",
        "total_gastos = 0\n",
        "\n",
        "for concepto in conceptos_gastos:\n",
        "    costo = float(input(f\"Ingrese el costo estimado para {concepto}: \"))\n",
        "    total_gastos += costo\n",
        "\n",
        "print(f\"El total de gastos estimados para el viaje es: {total_gastos}\")"
      ],
      "metadata": {
        "id": "A9duJ5uFYY81"
      },
      "execution_count": null,
      "outputs": []
    },
    {
      "cell_type": "markdown",
      "source": [
        "En este código, utilizamos un bucle for para iterar sobre el arreglo de conceptos de gastos. En cada iteración, solicitamos al usuario que ingrese el costo estimado para ese concepto y lo sumamos al total de gastos estimados. Al final, mostramos el resultado.\n",
        "\n",
        "¡Ahora puedes calcular fácilmente el total de gastos estimados para tu próximo viaje utilizando arreglos! ¡Es asombroso cómo Python nos permite resolver problemas de manera eficiente y sencilla! No te preocupes, en el próximo cuaderno exploraremos más a fondo los conceptos y funcionalidades de los arreglos en Python."
      ],
      "metadata": {
        "id": "jI7zImR4YjP2"
      }
    },
    {
      "cell_type": "markdown",
      "source": [
        "## Problema: Análisis de Calificaciones utilizando Pandas y Bucles \n",
        "Supongamos que tienes un archivo CSV llamado \"calificaciones.csv\" que contiene las calificaciones de varios estudiantes. Tu objetivo es realizar un análisis de las calificaciones utilizando la biblioteca Pandas y bucles for.\n",
        "\n",
        "\n",
        "*Planteamiento del problema:*\n",
        "Importa la biblioteca Pandas.\n",
        "Carga el archivo CSV \"calificaciones.csv\" en un DataFrame de Pandas.\n",
        "Utiliza un bucle for para calcular el promedio de cada estudiante y mostrarlo en la consola.\n",
        "\n",
        "Aquí tienes un ejemplo de cómo podrías resolver este desafío utilizando Pandas y bucles for:"
      ],
      "metadata": {
        "id": "_OndWBmaYovM"
      }
    },
    {
      "cell_type": "code",
      "source": [
        "import pandas as pd\n",
        "\n",
        "# Carga el archivo Excel en un DataFrame\n",
        "df = pd.read_excel(\"calificaciones.xlsx\")\n",
        "\n",
        "# Utiliza un bucle for para calcular el promedio de cada estudiante\n",
        "for index, row in df.iterrows():\n",
        "    nombre = row['Nombre']\n",
        "    calificaciones = [int(calificacion) for calificacion in row['Calificaciones'].split(',')]\n",
        "    promedio = sum(calificaciones) / len(calificaciones)\n",
        "    print(f\"El promedio de {nombre} es: {promedio}\")\n"
      ],
      "metadata": {
        "id": "ycHLwAYcbSob"
      },
      "execution_count": null,
      "outputs": []
    },
    {
      "cell_type": "markdown",
      "source": [
        "En este código, utilizamos Pandas para cargar el archivo CSV en un DataFrame. Luego, utilizamos un bucle for junto con iterrows() para iterar sobre cada fila del DataFrame. Para cada estudiante, extraemos el nombre y las calificaciones, las convertimos en una lista de enteros y calculamos el promedio.\n",
        "\n",
        "Finalmente, mostramos el promedio de cada estudiante en la consola."
      ],
      "metadata": {
        "id": "jOSCW8hyauFA"
      }
    }
  ]
}