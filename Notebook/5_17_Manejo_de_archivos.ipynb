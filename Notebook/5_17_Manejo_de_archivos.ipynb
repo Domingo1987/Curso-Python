{
 "cells": [
  {
   "cell_type": "markdown",
   "metadata": {},
   "source": [
    "# Manejo de Archivos\n",
    "\n",
    "Imaginemos que estamos desarrollando un sistema de gestión de una biblioteca digital. En este sistema, almacenaremos información sobre libros, autores y préstamos en archivos de texto. Usaremos estos archivos para almacenar, leer y manipular la información, manteniendo la persistencia de los datos.\n",
    "\n",
    "## Apertura y Cierre de Archivos\n",
    "\n",
    "Para interactuar con un archivo, primero debemos **abrirlo** y, una vez que hayamos terminado con él, **cerrarlo**. Python ofrece la función integrada `open()` para abrir archivos y `close()` para cerrarlos. Existen diferentes modos para abrir un archivo:\n",
    "\n",
    "- `\"r\"`: Modo de lectura (read).\n",
    "- `\"w\"`: Modo de escritura (write).\n",
    "- `\"a\"`: Modo de agregar (append).\n",
    "- `\"r+\"`: Modo de lectura y escritura.\n",
    "\n",
    "### Ejemplo: Abrir y cerrar un archivo de texto\n",
    "\n",
    "En este ejemplo, abriremos un archivo llamado `libros.txt` que contiene una lista de libros en la biblioteca. Después de abrirlo, lo cerraremos.\n",
    "\n",
    "\n",
    "\n",
    "\n"
   ]
  },
  {
   "cell_type": "code",
   "execution_count": null,
   "metadata": {},
   "outputs": [],
   "source": [
    "# Apertura de un archivo en modo lectura\n",
    "archivo = open(\"libros.txt\", \"r\")\n",
    "\n",
    "# Leer el contenido del archivo\n",
    "contenido = archivo.read()\n",
    "\n",
    "# Cerrar el archivo\n",
    "archivo.close()\n",
    "\n",
    "# Mostrar el contenido leído\n",
    "print(contenido)"
   ]
  },
  {
   "cell_type": "markdown",
   "metadata": {},
   "source": [
    "## Uso de la declaración with\n",
    "Es una práctica común utilizar la declaración with al abrir archivos, ya que asegura que el archivo se cierre automáticamente, incluso si ocurre una excepción."
   ]
  },
  {
   "cell_type": "code",
   "execution_count": null,
   "metadata": {},
   "outputs": [],
   "source": [
    "# Apertura de archivo con 'with'\n",
    "with open(\"libros.txt\", \"r\") as archivo:\n",
    "    contenido = archivo.read()\n",
    "\n",
    "# No es necesario cerrar el archivo manualmente\n",
    "print(contenido)\n"
   ]
  },
  {
   "cell_type": "markdown",
   "metadata": {},
   "source": [
    "## Lectura y Escritura de Archivos\n",
    "Python nos permite leer y escribir archivos de varias formas. A continuación, veremos cómo leer todo el contenido de un archivo, cómo leer línea por línea, y cómo escribir en un archivo.\n",
    "\n",
    "### Lectura de un archivo completo\n",
    "Para leer todo el contenido de un archivo a la vez, usamos el método read()."
   ]
  },
  {
   "cell_type": "code",
   "execution_count": null,
   "metadata": {},
   "outputs": [],
   "source": [
    "with open(\"libros.txt\", \"r\") as archivo:\n",
    "    contenido = archivo.read()\n",
    "    print(contenido)"
   ]
  },
  {
   "cell_type": "markdown",
   "metadata": {},
   "source": [
    "### Lectura línea por línea\n",
    "Podemos leer un archivo línea por línea utilizando el método readline() o iterando sobre el archivo directamente."
   ]
  },
  {
   "cell_type": "code",
   "execution_count": 4,
   "metadata": {},
   "outputs": [],
   "source": [
    "# Leer línea por línea con readline()\n",
    "with open(\"libros.txt\", \"r\") as archivo:\n",
    "    linea = archivo.readline()\n",
    "    while linea:\n",
    "        print(linea.strip())  # Eliminamos los saltos de línea\n",
    "        linea = archivo.readline()"
   ]
  },
  {
   "cell_type": "markdown",
   "metadata": {},
   "source": [
    "## Escritura en archivos\n",
    "El modo \"w\" se utiliza para escribir en archivos. Ten en cuenta que si el archivo ya existe, se sobreescribirá. Si no existe, se creará uno nuevo."
   ]
  },
  {
   "cell_type": "code",
   "execution_count": 5,
   "metadata": {},
   "outputs": [],
   "source": [
    "# Escritura en un archivo\n",
    "with open(\"nuevos_libros.txt\", \"w\") as archivo:\n",
    "    archivo.write(\"El Señor de los Anillos\\n\")\n",
    "    archivo.write(\"1984\\n\")\n",
    "    archivo.write(\"Cien Años de Soledad\\n\")"
   ]
  },
  {
   "cell_type": "markdown",
   "metadata": {},
   "source": [
    "### Agregar contenido a un archivo\n",
    "Para agregar contenido a un archivo sin sobrescribir lo que ya existe, utilizamos el modo \"a\" (append)."
   ]
  },
  {
   "cell_type": "code",
   "execution_count": 6,
   "metadata": {},
   "outputs": [],
   "source": [
    "# Agregar nuevos libros al archivo\n",
    "with open(\"nuevos_libros.txt\", \"a\") as archivo:\n",
    "    archivo.write(\"Don Quijote de la Mancha\\n\")\n",
    "    archivo.write(\"La Divina Comedia\\n\")"
   ]
  },
  {
   "cell_type": "markdown",
   "metadata": {},
   "source": [
    "## Operaciones con Archivos\n",
    "Además de leer y escribir, podemos realizar otras operaciones útiles con archivos, como contar líneas, buscar palabras, o trabajar con archivos CSV que almacenan datos en forma tabular.\n",
    "\n",
    "### Contar el número de líneas en un archivo"
   ]
  },
  {
   "cell_type": "code",
   "execution_count": null,
   "metadata": {},
   "outputs": [],
   "source": [
    "def contar_lineas(nombre_archivo):\n",
    "    with open(nombre_archivo, \"r\") as archivo:\n",
    "        lineas = archivo.readlines()\n",
    "        return len(lineas)\n",
    "\n",
    "# Contar líneas en 'libros.txt'\n",
    "num_lineas = contar_lineas(\"libros.txt\")\n",
    "print(f\"El archivo tiene {num_lineas} líneas.\")\n"
   ]
  },
  {
   "cell_type": "markdown",
   "metadata": {},
   "source": [
    "### Buscar una palabra en un archivo\n",
    "Supongamos que queremos buscar si un libro en particular está disponible en la biblioteca. Podemos buscar una palabra específica dentro del archivo."
   ]
  },
  {
   "cell_type": "code",
   "execution_count": null,
   "metadata": {},
   "outputs": [],
   "source": [
    "def buscar_palabra(nombre_archivo, palabra):\n",
    "    with open(nombre_archivo, \"r\") as archivo:\n",
    "        for linea in archivo:\n",
    "            if palabra in linea:\n",
    "                print(f\"'{palabra}' encontrado en: {linea.strip()}\")\n",
    "                return True\n",
    "    print(f\"'{palabra}' no se encontró en el archivo.\")\n",
    "    return False\n",
    "\n",
    "# Buscar un libro en el archivo\n",
    "buscar_palabra(\"libros.txt\", \"1984\")\n"
   ]
  },
  {
   "cell_type": "markdown",
   "metadata": {},
   "source": [
    "### Leer y escribir archivos CSV\n",
    "Los archivos CSV son comunes para almacenar datos en formato tabular. Python ofrece el módulo csv para facilitar el trabajo con este tipo de archivos."
   ]
  },
  {
   "cell_type": "code",
   "execution_count": null,
   "metadata": {},
   "outputs": [],
   "source": [
    "import csv\n",
    "\n",
    "# Leer un archivo CSV de libros\n",
    "with open(\"libros.csv\", \"r\") as archivo_csv:\n",
    "    lector_csv = csv.reader(archivo_csv)\n",
    "    for fila in lector_csv:\n",
    "        print(fila)"
   ]
  },
  {
   "cell_type": "markdown",
   "metadata": {},
   "source": [
    "Podemos escribir en un archivo CSV de manera similar."
   ]
  },
  {
   "cell_type": "code",
   "execution_count": 13,
   "metadata": {},
   "outputs": [],
   "source": [
    "# Escribir en un archivo CSV\n",
    "with open(\"nuevos_libros.csv\", \"w\", newline=\"\") as archivo_csv:\n",
    "    escritor_csv = csv.writer(archivo_csv)\n",
    "    escritor_csv.writerow([\"Título\", \"Autor\", \"Año\"])\n",
    "    escritor_csv.writerow([\"El Hobbit\", \"J.R.R. Tolkien\", \"1937\"])\n",
    "    escritor_csv.writerow([\"Fahrenheit 451\", \"Ray Bradbury\", \"1953\"])"
   ]
  },
  {
   "cell_type": "markdown",
   "metadata": {},
   "source": [
    "### Copiar el contenido de un archivo a otro\n",
    "Podemos copiar el contenido de un archivo a otro utilizando la lectura y escritura."
   ]
  },
  {
   "cell_type": "code",
   "execution_count": 15,
   "metadata": {},
   "outputs": [],
   "source": [
    "def copiar_archivo(archivo_origen, archivo_destino):\n",
    "    with open(archivo_origen, \"r\") as origen:\n",
    "        contenido = origen.read()\n",
    "    \n",
    "    with open(archivo_destino, \"w\") as destino:\n",
    "        destino.write(contenido)\n",
    "\n",
    "# Copiar contenido de 'libros.txt' a 'copias_libros.txt'\n",
    "copiar_archivo(\"libros.txt\", \"copias_libros.txt\")\n"
   ]
  },
  {
   "cell_type": "markdown",
   "metadata": {},
   "source": [
    "## Desafíos\n",
    "### Desafío 1: Crear un archivo de préstamos de libros\n",
    "Desarrolla un programa que cree un archivo prestamos.txt y permita al usuario agregar el registro de un préstamo. El registro debe incluir el nombre del libro, el nombre del prestatario y la fecha del préstamo. Asegúrate de no sobrescribir el archivo cada vez que se agrega un nuevo préstamo.\n",
    "\n",
    "### Desafío 2: Buscar un libro por autor en un archivo de texto\n",
    "Dado un archivo libros.txt que contiene una lista de libros y sus autores, implementa una función que busque todos los libros escritos por un autor específico y los muestre. Si el autor no tiene libros en la lista, debe mostrar un mensaje indicando que no hay coincidencias.\n",
    "\n",
    "### Desafío 3: Actualizar la cantidad de libros disponibles en un archivo CSV\n",
    "Tienes un archivo inventario.csv que contiene una lista de libros y el número de copias disponibles. Escribe un programa que permita actualizar la cantidad de copias de un libro específico. El programa debe leer el archivo, modificar el número de copias y volver a escribir el archivo.\n",
    "\n",
    "### Desafío 4: Eliminar registros de un archivo de préstamos\n",
    "Escribe un programa que permita eliminar el registro de un préstamo de un archivo prestamos.txt. El programa debe mostrar los registros actuales, permitir al usuario seleccionar cuál eliminar, y luego actualizar el archivo sin el registro eliminado.\n",
    "\n",
    "### Desafío 5: Contar las palabras más comunes en un archivo de texto\n",
    "Desarrolla una función que lea un archivo de texto grande, como libros.txt, y cuente cuántas veces aparece cada palabra. Luego, muestra las 5 palabras más comunes y cuántas veces aparecen."
   ]
  }
 ],
 "metadata": {
  "kernelspec": {
   "display_name": "venv",
   "language": "python",
   "name": "python3"
  },
  "language_info": {
   "codemirror_mode": {
    "name": "ipython",
    "version": 3
   },
   "file_extension": ".py",
   "mimetype": "text/x-python",
   "name": "python",
   "nbconvert_exporter": "python",
   "pygments_lexer": "ipython3",
   "version": "3.11.1"
  }
 },
 "nbformat": 4,
 "nbformat_minor": 2
}
