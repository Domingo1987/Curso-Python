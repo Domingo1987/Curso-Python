{
 "cells": [
  {
   "cell_type": "markdown",
   "metadata": {},
   "source": [
    "# Árboles en Python\n",
    "\n",
    "Los árboles son una estructura de datos fundamental en ciencias de la computación y programación. Un árbol consiste en un conjunto de nodos conectados por bordes, con un nodo raíz desde el cual se derivan los demás nodos. Cada nodo puede tener cero o más nodos hijos.\n",
    "\n",
    "En esta guía, exploraremos cómo implementar y trabajar con árboles en Python.\n",
    "\n",
    "<div style=\"text-align: center;\">\n",
    "    <img src=\"arboles1.jpg\" alt=\"Árbol\" style=\"width: 60%;\">\n",
    "</div>\n",
    "\n"
   ]
  },
  {
   "cell_type": "markdown",
   "metadata": {},
   "source": [
    "## Definición de un Nodo\n",
    "\n",
    "Primero, definiremos la clase `Nodo` que representará cada nodo en nuestro árbol.\n"
   ]
  },
  {
   "cell_type": "code",
   "execution_count": 3,
   "metadata": {},
   "outputs": [],
   "source": [
    "class Nodo:\n",
    "    def __init__(self, key):\n",
    "        self.izq = None\n",
    "        self.der = None\n",
    "        self.val = key\n"
   ]
  },
  {
   "cell_type": "markdown",
   "metadata": {},
   "source": [
    "## Creación de un Árbol\n",
    "\n",
    "A continuación, crearemos un árbol simple para ilustrar cómo se pueden conectar los nodos.\n"
   ]
  },
  {
   "cell_type": "code",
   "execution_count": 4,
   "metadata": {},
   "outputs": [],
   "source": [
    "# Crear el nodo raíz\n",
    "raiz = Nodo(1)\n",
    "\n",
    "# Añadir nodos hijos\n",
    "raiz.izq = Nodo(2)\n",
    "raiz.der = Nodo(3)\n",
    "\n",
    "# Añadir nodos hijos al nodo izquierdo del raíz\n",
    "raiz.izq.izq = Nodo(4)\n",
    "raiz.izq.der = Nodo(5)\n",
    "\n",
    "# Añadir nodos hijos al nodo derecho del raíz\n",
    "raiz.der.izq = Nodo(6)\n",
    "raiz.der.der = Nodo(7)\n",
    "\n",
    "# Añadir nodos hijos al nodo hijo derecho del hijo izquierdo del raíz\n",
    "raiz.izq.der.izq = Nodo(8)\n",
    "raiz.izq.der.der = Nodo(9)\n",
    "\n",
    "# Añadir nodos hijos al nodo hijo derecho del hijo derecho del raíz\n",
    "raiz.der.der.izq = Nodo(10)\n",
    "raiz.der.der.der = Nodo(11)"
   ]
  },
  {
   "cell_type": "markdown",
   "metadata": {},
   "source": [
    "En el codigo anterior se creo el árbol de ejemplo inicial, en principio cargandolo por _niveles_. Veremos mas adelante otras formas de recorrer un árbol.\n",
    "\n",
    "<div style=\"text-align: center;\">\n",
    "    <img src=\"arboles2.jpg\" alt=\"Árbol\" style=\"width: 60%;\">\n",
    "</div>"
   ]
  },
  {
   "cell_type": "markdown",
   "metadata": {},
   "source": [
    "## Travesía de un Árbol\n",
    "\n",
    "Existen diferentes maneras de recorrer un árbol. Aquí mostraremos tres métodos comunes: preorden, inorden y postorden.\n"
   ]
  },
  {
   "cell_type": "markdown",
   "metadata": {},
   "source": [
    "### Travesía en Preorden\n",
    "\n",
    "En la travesía en preorden, visitamos primero la raíz, luego el subárbol izquierdo, y finalmente el subárbol derecho.\n"
   ]
  },
  {
   "cell_type": "code",
   "execution_count": 5,
   "metadata": {},
   "outputs": [
    {
     "name": "stdout",
     "output_type": "stream",
     "text": [
      "1 2 4 5 8 9 3 6 7 10 11 "
     ]
    }
   ],
   "source": [
    "def print_preorder(raiz):\n",
    "    if raiz:\n",
    "        print(raiz.val, end=\" \")\n",
    "        print_preorder(raiz.izq)\n",
    "        print_preorder(raiz.der)\n",
    "        \n",
    "print_preorder(raiz)  # Salida esperada: 1 2 4 5 8 9 3 6 7 10 11 \n"
   ]
  },
  {
   "cell_type": "markdown",
   "metadata": {},
   "source": [
    "### Travesía en Inorden\n",
    "\n",
    "En la travesía en inorden, visitamos primero el subárbol izquierdo, luego la raíz, y finalmente el subárbol derecho.\n"
   ]
  },
  {
   "cell_type": "code",
   "execution_count": 7,
   "metadata": {},
   "outputs": [
    {
     "name": "stdout",
     "output_type": "stream",
     "text": [
      "4 2 8 5 9 1 6 3 10 7 11 "
     ]
    }
   ],
   "source": [
    "def print_inorder(raiz):\n",
    "    if raiz:\n",
    "        print_inorder(raiz.izq)\n",
    "        print(raiz.val, end=\" \")\n",
    "        print_inorder(raiz.der)\n",
    "        \n",
    "print_inorder(raiz)  # Salida esperada: 4 2 8 5 9 1 6 3 10 7 11\n"
   ]
  },
  {
   "cell_type": "markdown",
   "metadata": {},
   "source": [
    "### Travesía en Postorden\n",
    "\n",
    "En la travesía en postorden, visitamos primero el subárbol izquierdo, luego el subárbol derecho, y finalmente la raíz.\n"
   ]
  },
  {
   "cell_type": "code",
   "execution_count": 8,
   "metadata": {},
   "outputs": [
    {
     "name": "stdout",
     "output_type": "stream",
     "text": [
      "4 8 9 5 2 6 10 11 7 3 1 "
     ]
    }
   ],
   "source": [
    "def print_postorder(raiz):\n",
    "    if raiz:\n",
    "        print_postorder(raiz.izq)\n",
    "        print_postorder(raiz.der)\n",
    "        print(raiz.val, end=\" \")\n",
    "        \n",
    "print_postorder(raiz)  # Salida esperada: 4 8 9 5 2 6 10 11 7 3 1 \n"
   ]
  },
  {
   "cell_type": "markdown",
   "metadata": {},
   "source": [
    "## Conclusión\n",
    "\n",
    "Los árboles son una estructura de datos versátil y eficiente, y son fundamentales para muchos algoritmos y aplicaciones en informática. Entender cómo funcionan y cómo se pueden recorrer es esencial para cualquier programador o científico de la computación.\n",
    "\n",
    "¡Practica creando tus propios árboles y recorriéndolos para fortalecer tu comprensión de esta estructura de datos!\n"
   ]
  },
  {
   "cell_type": "markdown",
   "metadata": {},
   "source": [
    "# Desafío: Evaluación de Expresiones Matemáticas con Árboles\n",
    "\n",
    "Los árboles de expresiones son una herramienta poderosa en ciencias de la computación y se utilizan comúnmente para evaluar expresiones matemáticas. En este desafío, te propongo construir y evaluar un árbol de expresiones para una expresión matemática dada.\n",
    "\n",
    "**Tu tarea es escribir un programa en Python que haga lo siguiente:**\n",
    "\n",
    "* Construir el Árbol de Expresiones: Dada una expresión matemática en forma de cadena, construir el árbol de expresiones correspondiente. Puedes asumir que la expresión está bien formada y solo contiene números enteros, y los operadores +, -, *, /.\n",
    "\n",
    "* Evaluar el Árbol de Expresiones: Una vez construido el árbol, evaluarlo y devolver el resultado de la expresión.\n",
    "\n",
    "* Prueba tu Programa: Utiliza la expresión \"5 + 3 * 4\" para probar tu programa. El resultado debería ser 17.\n",
    "\n",
    "## Consejos\n",
    "Puedes crear una clase Nodo para representar los nodos en tu árbol de expresiones. Cada nodo debería tener un valor y dos hijos (izquierdo y derecho).\n",
    "Puedes crear funciones auxiliares para ayudarte a construir y evaluar el árbol de expresiones.\n",
    "Recuerda seguir las reglas de precedencia de operadores al construir el árbol."
   ]
  }
 ],
 "metadata": {
  "kernelspec": {
   "display_name": "venv",
   "language": "python",
   "name": "python3"
  },
  "language_info": {
   "codemirror_mode": {
    "name": "ipython",
    "version": 3
   },
   "file_extension": ".py",
   "mimetype": "text/x-python",
   "name": "python",
   "nbconvert_exporter": "python",
   "pygments_lexer": "ipython3",
   "version": "3.11.1"
  }
 },
 "nbformat": 4,
 "nbformat_minor": 2
}
