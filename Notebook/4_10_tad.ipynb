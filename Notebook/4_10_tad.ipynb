{
  "cells": [
    {
      "cell_type": "markdown",
      "metadata": {},
      "source": [
        "# Introducción a los Tipos Abstractos de Datos (TAD)"
      ]
    },
    {
      "cell_type": "markdown",
      "metadata": {},
      "source": [
        "## Concepto de TAD"
      ]
    },
    {
      "cell_type": "markdown",
      "metadata": {},
      "source": [
        "Un Tipo Abstracto de Datos (TAD) es una especificación de un conjunto de datos y las operaciones que se pueden realizar con esos datos. Se centra en qué operaciones existen y no en cómo se implementan. Es una herramienta conceptual que nos permite abstraernos de los detalles y pensar en términos de operaciones y datos."
      ]
    },
    {
      "cell_type": "markdown",
      "metadata": {},
      "source": [
        "## Ejemplo de TAD: Lista"
      ]
    },
    {
      "cell_type": "code",
      "metadata": {},
      "source": [
        "lista = []\n",
        "\n",
        "def agregar(elemento):\n",
        "    lista.append(elemento)\n",
        "\n",
        "def eliminar(elemento):\n",
        "    if elemento in lista:\n",
        "        lista.remove(elemento)\n",
        "\n",
        "def buscar(elemento):\n",
        "    return elemento in lista"
      ],
      "execution_count": null,
      "outputs": []
    },
    {
      "cell_type": "markdown",
      "metadata": {},
      "source": [
        "## Desventajas de este enfoque"
      ]
    },
    {
      "cell_type": "markdown",
      "metadata": {},
      "source": [
        "1. **Encapsulamiento**: Las operaciones y los datos están expuestos y pueden ser modificados directamente desde fuera del TAD.\n",
        "2. **Reutilización**: No es fácil tener múltiples listas sin modificar las funciones.\n",
        "3. **Extensibilidad**: Cambiar la implementación interna requiere modificar las funciones existentes.\n",
        "\n",
        "Estas desventajas nos llevan a buscar un enfoque más estructurado y encapsulado, que se discutirá en el siguiente cuaderno sobre el paradigma de objetos."
      ]
    }
  ],
  "metadata": {
    "kernelspec": {
      "display_name": "Python 3",
      "language": "python",
      "name": "python3"
    }
  },
  "nbformat": 4,
  "nbformat_minor": 5
}
