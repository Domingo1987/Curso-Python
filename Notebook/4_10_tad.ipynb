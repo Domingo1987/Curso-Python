{
  "cells": [
    {
      "cell_type": "markdown",
      "metadata": {},
      "source": [
        "# Introducción a los Tipos Abstractos de Datos (TAD)"
      ]
    },
    {
      "cell_type": "markdown",
      "metadata": {},
      "source": [
        "## Concepto de TAD\n",
        "\n",
        "Un Tipo Abstracto de Datos (TAD) es una especificación de un conjunto de datos y las operaciones que se pueden realizar con esos datos. El TAD se centra en qué operaciones existen y no en cómo se implementan. Es una herramienta conceptual que nos permite abstraernos de los detalles y pensar en términos de operaciones y datos.\n"
      ]
    },
    {
      "cell_type": "markdown",
      "metadata": {},
      "source": [
        "## Ejemplo de TAD: Lista"
      ]
    },
    {
      "cell_type": "code",
      "execution_count": 1,
      "metadata": {},
      "outputs": [],
      "source": [
        "lista = []\n",
        "\n",
        "def agregar(elemento):\n",
        "    lista.append(elemento)\n",
        "\n",
        "def eliminar(elemento):\n",
        "    if elemento in lista:\n",
        "        lista.remove(elemento)\n",
        "\n",
        "def buscar(elemento):\n",
        "    return elemento in lista"
      ]
    },
    {
      "cell_type": "markdown",
      "metadata": {},
      "source": [
        "## Desventajas de este enfoque"
      ]
    },
    {
      "cell_type": "markdown",
      "metadata": {},
      "source": [
        "1. **Falta de Encapsulamiento**: En el ejemplo proporcionado, tanto las operaciones como los datos están expuestos y pueden ser modificados directamente desde fuera del TAD. Esto viola el principio de encapsulamiento, que es fundamental para el diseño de software robusto y mantenible.\n",
        "\n",
        "2. **Dificultad en Reutilización**: Con el diseño actual, si quisieras tener múltiples listas y aplicar operaciones sobre ellas, tendrías que crear funciones separadas o modificar las existentes, lo que no es práctico.\n",
        "\n",
        "3. **Problemas de Extensibilidad**: Cambiar la implementación interna (por ejemplo, cambiar de una lista a un árbol binario para mejorar la eficiencia) requeriría modificar todas las funciones que interactúan con la estructura de datos. Esto hace que el código sea difícil de mantener y de extender con nuevas funcionalidades.\n",
        "\n",
        "4. **Falta de Abstracción**: Aunque el TAD debería ayudarnos a abstraernos de los detalles de implementación, el enfoque actual no lo hace de manera efectiva. Esto podría llevar a errores si no se comprenden completamente las implementaciones subyacentes.\n"
      ]
    },
    {
      "cell_type": "markdown",
      "id": "ddfe7a1b",
      "metadata": {},
      "source": [
        "## Situaciones Problema\n",
        "\n",
        "### Situación 1: Sistemas con Múltiples Entidades Interconectadas\n",
        "Imagina un sistema de gestión de biblioteca que maneja libros, usuarios, préstamos y multas. Usar TADs separados para cada uno de estos elementos podría complicar la interacción y gestión de relaciones entre ellos.\n",
        "\n",
        "### Situación 2: Cambio Frecuente en Requisitos\n",
        "Supón que estás desarrollando un juego de video con distintos tipos de personajes y armas. Los requerimientos cambian con frecuencia, añadiendo nuevos personajes y habilidades. Mantener y actualizar TADs en este escenario podría ser una tarea titánica.\n",
        "\n",
        "### Situación 3: Estructuras de Datos Anidadas\n",
        "Considera un sistema de manejo de inventario para una cadena de tiendas minoristas. Tienes que tratar con datos de productos, tiendas, empleados, y transacciones, donde cada tienda podría tener múltiples productos y empleados. Gestionar estas relaciones con TADs podría ser ineficiente y propenso a errores.\n"
      ]
    }
  ],
  "metadata": {
    "kernelspec": {
      "display_name": "Python 3",
      "language": "python",
      "name": "python3"
    },
    "language_info": {
      "codemirror_mode": {
        "name": "ipython",
        "version": 3
      },
      "file_extension": ".py",
      "mimetype": "text/x-python",
      "name": "python",
      "nbconvert_exporter": "python",
      "pygments_lexer": "ipython3",
      "version": "3.11.1"
    }
  },
  "nbformat": 4,
  "nbformat_minor": 5
}
