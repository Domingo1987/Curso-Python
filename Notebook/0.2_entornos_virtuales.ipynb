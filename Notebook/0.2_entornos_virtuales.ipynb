{
 "cells": [
  {
   "cell_type": "markdown",
   "metadata": {},
   "source": [
    "# Creación y Activación de un Entorno Virtual en Python"
   ]
  },
  {
   "cell_type": "markdown",
   "metadata": {},
   "source": [
    "## Paso 1: Crear el Entorno Virtual\n",
    "\n",
    "Para crear un entorno virtual llamado \"entorno_virtual\", sigue los siguientes pasos:\n",
    "\n",
    "1. Abre la terminal o git bash en la carpeta donde deseas crear el entorno virtual.\n",
    "2. Ejecuta el siguiente comando:"
   ]
  },
  {
   "cell_type": "code",
   "execution_count": null,
   "metadata": {},
   "outputs": [],
   "source": [
    "python -m venv entorno_virtual"
   ]
  },
  {
   "cell_type": "markdown",
   "metadata": {},
   "source": [
    "Este comando creará una carpeta llamada \"entorno_virtual\" en tu directorio actual, que contendrá el entorno virtual."
   ]
  },
  {
   "cell_type": "markdown",
   "metadata": {},
   "source": [
    "## Paso 2: Activar el Entorno Virtual\n",
    "\n",
    "### En Windows:\n",
    "\n",
    "Si estás utilizando Windows, activa el entorno virtual con el siguiente comando:"
   ]
  },
  {
   "cell_type": "code",
   "execution_count": null,
   "metadata": {},
   "outputs": [],
   "source": [
    "entorno_virtual\\Scripts\\activate.bat"
   ]
  },
  {
   "cell_type": "markdown",
   "metadata": {},
   "source": [
    "### En Unix o MacOS:\n",
    "\n",
    "Si estás en Unix o MacOS, utiliza el siguiente comando:"
   ]
  },
  {
   "cell_type": "code",
   "execution_count": null,
   "metadata": {},
   "outputs": [],
   "source": [
    "source entorno_virtual/bin/activate"
   ]
  },
  {
   "cell_type": "markdown",
   "metadata": {},
   "source": [
    "Una vez activado, el nombre de tu entorno virtual (en este caso, \"entorno_virtual\") aparecerá al principio de la línea de comandos, indicando que el entorno está activo."
   ]
  },
  {
   "cell_type": "markdown",
   "metadata": {},
   "source": [
    "## Paso 3: Crear el archivo \"requerimientos.txt\"\n",
    "\n",
    "El archivo \"requerimientos.txt\" se utiliza para listar todas las dependencias y paquetes que tu proyecto necesita. Para crearlo:\n",
    "\n",
    "1. Asegúrate de que todos los paquetes que necesitas estén instalados en tu entorno virtual.\n",
    "2. Ejecuta el siguiente comando para generar el archivo \"requerimientos.txt\":"
   ]
  },
  {
   "cell_type": "code",
   "execution_count": null,
   "metadata": {},
   "outputs": [],
   "source": [
    "python -m pip freeze > requerimientos.txt"
   ]
  },
  {
   "cell_type": "markdown",
   "metadata": {},
   "source": [
    "Este comando listará todas las dependencias instaladas en tu entorno virtual y las guardará en el archivo \"requerimientos.txt\"."
   ]
  },
  {
   "cell_type": "markdown",
   "metadata": {},
   "source": [
    "## Paso 4: Instalar paquetes desde \"requerimientos.txt\"\n",
    "\n",
    "Si en algún momento necesitas instalar las dependencias listadas en \"requerimientos.txt\", puedes hacerlo con el siguiente comando:"
   ]
  },
  {
   "cell_type": "code",
   "execution_count": null,
   "metadata": {},
   "outputs": [],
   "source": [
    "python -m pip install -r requerimientos.txt"
   ]
  },
  {
   "cell_type": "markdown",
   "metadata": {},
   "source": [
    "## Cambiar de un Entorno Virtual a Otro en VSCode desde la Consola\n",
    "\n",
    "Supongamos que tienes múltiples entornos virtuales, por ejemplo `venv` y `entorno_virtual`, y deseas cambiar entre ellos en VSCode usando la consola.\n",
    "\n",
    "1. Primero, asegúrate de desactivar cualquier entorno virtual que esté activo. Puedes hacer esto con el comando:\n"
   ]
  },
  {
   "cell_type": "code",
   "execution_count": null,
   "metadata": {},
   "outputs": [],
   "source": [
    "deactivate"
   ]
  },
  {
   "cell_type": "markdown",
   "metadata": {},
   "source": [
    "2. Luego, para activar el entorno virtual `entorno_virtual`, navega a su directorio y ejecuta:\n"
   ]
  },
  {
   "cell_type": "code",
   "execution_count": null,
   "metadata": {},
   "outputs": [],
   "source": [
    ".\\\\entorno_virtual\\\\Scripts\\\\activate"
   ]
  },
  {
   "cell_type": "markdown",
   "metadata": {},
   "source": [
    "3. Si en algún momento necesitas verificar qué paquetes están instalados en tu entorno virtual, puedes usar:\n"
   ]
  },
  {
   "cell_type": "code",
   "execution_count": null,
   "metadata": {},
   "outputs": [],
   "source": [
    "pip list"
   ]
  },
  {
   "cell_type": "markdown",
   "metadata": {},
   "source": [
    "## Solucionando Problemas de Activación en VSCode con PowerShell\n",
    "\n",
    "Si enfrentas problemas al intentar activar el entorno virtual desde VSCode utilizando PowerShell debido a restricciones de ejecución de scripts, sigue estos pasos:\n",
    "\n",
    "1. Abre la terminal como administrador.\n",
    "2. Ejecuta el comando:\n",
    "```powershell\n",
    "Get-ExecutionPolicy -list\n",
    "```\n",
    "para visualizar las políticas de ejecución actuales.\n",
    "\n",
    "3. Si la política para `CurrentUser` o `LocalMachine` está configurada como `Restricted`, necesitarás cambiarla para permitir la ejecución de scripts.\n",
    "4. Ejecuta el comando:\n",
    "```powershell\n",
    "Set-ExecutionPolicy RemoteSigned -Force\n",
    "```\n",
    "para cambiar la política de ejecución a `RemoteSigned`. Esto permitirá la ejecución de scripts locales sin firmar, mientras que los scripts descargados de Internet requerirán una firma digital para ser ejecutados.\n",
    "\n",
    "5. Intenta activar el entorno virtual nuevamente.\n",
    "\n",
    "**Nota:** Cambiar la política de ejecución puede tener implicaciones de seguridad. Asegúrate de comprender las consecuencias antes de hacer cambios.\n"
   ]
  },
  {
   "cell_type": "markdown",
   "metadata": {},
   "source": [
    "---\n",
    "\n",
    "¡Listo! Ahora tienes un entorno virtual creado, activado y con un archivo \"requerimientos.txt\" listo para ser utilizado. Para más detalles y referencias, puedes consultar los siguientes recursos:\n",
    "\n",
    "- [Video de DenilDenilson](https://www.youtube.com/watch?v=SoRS763Uho8&ab_channel=DenilDenilson)\n",
    "- [Video de UskoKruM2010](https://www.youtube.com/watch?v=SXVdnEGetPI&ab_channel=UskoKruM2010)\n",
    "- [Documentación oficial de Python sobre entornos virtuales](https://docs.python.org/3/tutorial/venv.html)\n",
    "\n",
    "\n"
   ]
  }
 ],
 "metadata": {
  "kernelspec": {
   "display_name": "Python 3",
   "language": "python",
   "name": "python3"
  },
  "language_info": {
   "codemirror_mode": {
    "name": "ipython",
    "version": 3
   },
   "file_extension": ".py",
   "mimetype": "text/x-python",
   "name": "python",
   "nbconvert_exporter": "python",
   "pygments_lexer": "ipython3",
   "version": "3.11.1"
  }
 },
 "nbformat": 4,
 "nbformat_minor": 4
}
