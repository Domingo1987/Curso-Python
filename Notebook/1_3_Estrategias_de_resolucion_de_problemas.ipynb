{
 "cells": [
  {
   "cell_type": "markdown",
   "metadata": {},
   "source": [
    "# Fundamentos de programación y resolución de problemas\n",
    "## Estrategias de resolución de problemas\n",
    "\n",
    "### Introducción\n",
    "\n",
    "En la programación, resolver problemas de manera eficiente es una habilidad fundamental. Existen diferentes estrategias para abordar y descomponer problemas complejos. En este tema, exploraremos dos estrategias principales: **Top-Down** y **Bottom-Up**.\n",
    "\n",
    "### Top-Down (De arriba hacia abajo)\n",
    "\n",
    "La estrategia Top-Down, también conocida como diseño descendente, implica descomponer un problema grande y complejo en subproblemas más pequeños y manejables. Cada subproblema se resuelve individualmente hasta que se alcanza una solución completa.\n",
    "\n",
    "#### Ejemplo en Python: Descomposición de un problema de cálculo de facturas\n"
   ]
  },
  {
   "cell_type": "code",
   "execution_count": null,
   "metadata": {},
   "outputs": [],
   "source": [
    "# Función principal\n",
    "def calcular_factura():\n",
    "    total = obtener_subtotal() + calcular_impuestos() - aplicar_descuentos()\n",
    "    return total\n",
    "\n",
    "# Función para obtener el subtotal\n",
    "def obtener_subtotal():\n",
    "    # Código para calcular el subtotal\n",
    "    return 100\n",
    "\n",
    "# Función para calcular impuestos\n",
    "def calcular_impuestos():\n",
    "    # Código para calcular impuestos\n",
    "    return 15\n",
    "\n",
    "# Función para aplicar descuentos\n",
    "def aplicar_descuentos():\n",
    "    # Código para aplicar descuentos\n",
    "    return 10\n",
    "\n",
    "# Llamada a la función principal\n",
    "print(\"El total de la factura es:\", calcular_factura())\n"
   ]
  },
  {
   "cell_type": "markdown",
   "metadata": {},
   "source": [
    "En este ejemplo, el problema de calcular el total de una factura se ha descompuesto en subproblemas: obtener el subtotal, calcular impuestos y aplicar descuentos."
   ]
  },
  {
   "cell_type": "markdown",
   "metadata": {},
   "source": [
    "### Bottom-Up (De abajo hacia arriba)\n",
    "La estrategia Bottom-Up, o diseño ascendente, implica construir soluciones a partir de componentes o funciones pequeñas y específicas, integrándolas progresivamente para resolver el problema completo.\n",
    "\n",
    "#### Ejemplo en Python: Construcción de una calculadora simple"
   ]
  },
  {
   "cell_type": "code",
   "execution_count": null,
   "metadata": {},
   "outputs": [],
   "source": [
    "# Función para sumar dos números\n",
    "def sumar(a, b):\n",
    "    return a + b\n",
    "\n",
    "# Función para restar dos números\n",
    "def restar(a, b):\n",
    "    return a - b\n",
    "\n",
    "# Función para multiplicar dos números\n",
    "def multiplicar(a, b):\n",
    "    return a * b\n",
    "\n",
    "# Función para dividir dos números\n",
    "def dividir(a, b):\n",
    "    if b != 0:\n",
    "        return a / b\n",
    "    else:\n",
    "        return \"Error: División por cero\"\n",
    "\n",
    "# Uso de las funciones en la calculadora\n",
    "print(\"Suma:\", sumar(10, 5))\n",
    "print(\"Resta:\", restar(10, 5))\n",
    "print(\"Multiplicación:\", multiplicar(10, 5))\n",
    "print(\"División:\", dividir(10, 5))\n"
   ]
  },
  {
   "cell_type": "markdown",
   "metadata": {},
   "source": [
    "En este ejemplo, hemos construido funciones básicas para operaciones matemáticas y las hemos integrado en una calculadora simple."
   ]
  },
  {
   "cell_type": "markdown",
   "metadata": {},
   "source": [
    "## Problema: Construcción de un Programa de Gestión de Estudiantes\n",
    "Escribe un programa en Python que utilice la estrategia Bottom-Up para construir un sistema de gestión de estudiantes. Define funciones para agregar estudiantes, eliminar estudiantes y mostrar la lista de estudiantes."
   ]
  },
  {
   "cell_type": "code",
   "execution_count": null,
   "metadata": {},
   "outputs": [],
   "source": [
    "# Lista de estudiantes\n",
    "estudiantes = []\n",
    "\n",
    "# Función para agregar un estudiante\n",
    "def agregar_estudiante(nombre):\n",
    "    estudiantes.append(nombre)\n",
    "\n",
    "# Función para eliminar un estudiante\n",
    "def eliminar_estudiante(nombre):\n",
    "    if nombre in estudiantes:\n",
    "        estudiantes.remove(nombre)\n",
    "    else:\n",
    "        print(\"El estudiante no está en la lista.\")\n",
    "\n",
    "# Función para mostrar la lista de estudiantes\n",
    "def mostrar_estudiantes():\n",
    "    print(\"Lista de estudiantes:\")\n",
    "    for estudiante in estudiantes:\n",
    "        print(estudiante)\n",
    "\n",
    "# Programa principal\n",
    "agregar_estudiante(\"Juan\")\n",
    "agregar_estudiante(\"María\")\n",
    "mostrar_estudiantes()\n",
    "\n",
    "eliminar_estudiante(\"Juan\")\n",
    "mostrar_estudiantes()\n"
   ]
  }
 ],
 "metadata": {
  "kernelspec": {
   "display_name": "venv",
   "language": "python",
   "name": "python3"
  },
  "language_info": {
   "codemirror_mode": {
    "name": "ipython",
    "version": 3
   },
   "file_extension": ".py",
   "mimetype": "text/x-python",
   "name": "python",
   "nbconvert_exporter": "python",
   "pygments_lexer": "ipython3",
   "version": "3.11.1"
  }
 },
 "nbformat": 4,
 "nbformat_minor": 2
}
