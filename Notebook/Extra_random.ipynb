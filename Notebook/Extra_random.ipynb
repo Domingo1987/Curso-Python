{
  "nbformat": 4,
  "nbformat_minor": 0,
  "metadata": {
    "colab": {
      "provenance": [],
      "toc_visible": true
    },
    "kernelspec": {
      "name": "python3",
      "display_name": "Python 3"
    },
    "language_info": {
      "name": "python"
    }
  },
  "cells": [
    {
      "cell_type": "markdown",
      "source": [
        "Érase una vez en un reino muy lejano, existía un mago llamado Randomius, famoso por su habilidad para conjurar números mágicos. Randomius era conocido por utilizar su magia para sorprender a los habitantes del reino con increíbles juegos y desafíos numéricos.\n",
        "\n",
        "\n",
        "# 1: Introducción a la generación de números aleatorios\n",
        "En esta aventura mágica, nos adentraremos en el fascinante mundo de los números aleatorios. Descubriremos cómo funcionan y cómo podemos utilizar la magia de Python para generarlos.\n",
        "\n"
      ],
      "metadata": {
        "id": "DJHh8E6Bl6Jr"
      }
    },
    {
      "cell_type": "markdown",
      "source": [
        "# 2: Importar la biblioteca random\n",
        "Para iniciar nuestra travesía, debemos invocar el poder de la biblioteca `random`, una herramienta mágica que nos proporciona hechizos especiales para generar números aleatorios. ¡Importémosla!"
      ],
      "metadata": {
        "id": "eop-_x9Yo_0J"
      }
    },
    {
      "cell_type": "code",
      "source": [
        "import random"
      ],
      "metadata": {
        "id": "MUe4uc17o9Vj"
      },
      "execution_count": null,
      "outputs": []
    },
    {
      "cell_type": "markdown",
      "source": [
        "# 3: Generación de un número aleatorio sin rango\n",
        "Nuestro primer hechizo consistirá en generar un número aleatorio sin límites. Para ello, utilizaremos el poderoso conjuro `random()`. Observa cómo la magia fluye a través de nuestro código:\n"
      ],
      "metadata": {
        "id": "lCE8igyapiAa"
      }
    },
    {
      "cell_type": "code",
      "source": [
        "numero_aleatorio = random.random()\n",
        "print(\"¡Abra Kadabra! Has invocado el número:\", numero_aleatorio)"
      ],
      "metadata": {
        "id": "MT-hcNkLplTp"
      },
      "execution_count": null,
      "outputs": []
    },
    {
      "cell_type": "markdown",
      "source": [
        "En este caso, el número mágico generado es un número decimal, también conocido como número de punto flotante. Estos números permiten representar valores fraccionarios y son muy útiles en muchas situaciones, como en cálculos científicos y financieros."
      ],
      "metadata": {
        "id": "g9JJbRHNqy0O"
      }
    },
    {
      "cell_type": "markdown",
      "source": [
        "# 4: Generación de un número aleatorio en un rango específico\n",
        "Ahora, adentrémonos en un desafío más emocionante. Imagina que estás explorando un laberinto encantado y necesitas encontrar una llave secreta en una puerta cerrada. Pero, cuidado, ¡solo puede ser una de las 10 llaves mágicas!\n",
        "\n",
        "Utilizaremos un poderoso conjuro llamado randrange(). Este hechizo nos permitirá generar un número aleatorio dentro de un rango específico. Vamos a lanzarlo:"
      ],
      "metadata": {
        "id": "OcdagJhxq3VU"
      }
    },
    {
      "cell_type": "code",
      "source": [
        "llave_secreta = random.randrange(1, 11)\n",
        "print(\"¡El laberinto encantado ha revelado la llave mágica número:\", llave_secreta, \"!\")"
      ],
      "metadata": {
        "id": "1bws0gSXq8s-"
      },
      "execution_count": null,
      "outputs": []
    },
    {
      "cell_type": "markdown",
      "source": [
        "Usemos ahora el conjuro llamado randint()."
      ],
      "metadata": {
        "id": "HeobsSBFsoBJ"
      }
    },
    {
      "cell_type": "code",
      "source": [
        "# Generación de la llave secreta\n",
        "llave_secreta = random.randint(1, 10)\n",
        "print(\"¡El laberinto encantado ha revelado la llave mágica número:\", llave_secreta, \"!\")"
      ],
      "metadata": {
        "id": "mVFblH5PtiaN"
      },
      "execution_count": null,
      "outputs": []
    },
    {
      "cell_type": "markdown",
      "source": [
        "La principal diferencia entre random.randint(a, b) y random.randrange(a, b) es que random.randint(a, b) incluye tanto el límite inferior a como el límite superior b en el rango de valores generados. Esto significa que al utilizar random.randint(1, 10), generaremos un número aleatorio en el rango de 1 a 10, ambos límites incluidos.\n",
        "\n",
        "En comparación, cuando utilizamos random.randrange(1, 11) inicialmente, el límite superior 11 estaba excluido, lo que generaba un rango de 1 a 10, sin incluir el 11.\n",
        "\n",
        "La función random.randint(a, b) es especialmente útil cuando deseamos generar un número aleatorio en un rango que incluya ambos límites. En nuestro caso, nos permite generar un número secreto para el juego de adivinanzas que puede ser cualquier valor entre 1 y 10, ambos límites incluidos."
      ],
      "metadata": {
        "id": "dOFHKkZltiq1"
      }
    },
    {
      "cell_type": "markdown",
      "source": [
        "Con estos hechizos, hemos dado los primeros pasos en el dominio de los números aleatorios. Prepárate para más desafíos y sorpresas a medida que avanzamos en esta maravillosa aventura.\n",
        "\n",
        "¡Continuemos explorando el mágico mundo de los números aleatorios en las siguientes secciones!\n",
        "\n",
        "\"*Nota: Este es solo el comienzo de nuestra travesía. No te preocupes, no te abandonaré en medio del bosque encantado. Te acompañaré en cada paso, revelándote nuevos conocimientos y desafíos mágicos en cada sección.*\"\n",
        "\n"
      ],
      "metadata": {
        "id": "BiWpy9gOrCbp"
      }
    },
    {
      "cell_type": "markdown",
      "source": [
        "# 5: Ejemplo: Juego de adivinanzas\n",
        "Vamos a desarrollar un juego de adivinanzas utilizando los conjuros de Python aprendidos anteriormente. Imagina que estás atrapado en el laberinto mágico de Randomius, un mundo lleno de misterios y conjuros. Para escapar de este laberinto, debemos encontrar una llave mágica, que es en realidad un número secreto generado por el conjuro randint(). Solo tenemos un máximo de 7 intentos para descifrar este número y liberarnos del laberinto.\n",
        "\n"
      ],
      "metadata": {
        "id": "Y21xQvOKrdfy"
      }
    },
    {
      "cell_type": "code",
      "source": [
        "#@title Adivina\n",
        "print(\"¡Bienvenido al Laberinto Magico de Randomius!\")\n",
        "print(\"Un número ha sido generado misteriosamente. ¿Podrás adivinar cuál es?\")\n",
        "print(\"¡Adelante, intrépido aventurero!\")\n",
        "\n",
        "# Importamos el conjuro 'randint' de la biblioteca 'random'\n",
        "from random import randint\n",
        "\n",
        "# Generamos la llave mágica en el rango del 1 al 100\n",
        "llave_magica = randint(1, 100)\n",
        "\n",
        "# Inicializamos el contador de intentos\n",
        "intentos = 0\n",
        "\n",
        "# Buscamos la llave mágica en el laberinto de Randomius\n",
        "while intentos < 7:\n",
        "    intentos += 1\n",
        "    llave_encontrada = int(input(\"Escribe un número entre 1 y 100 para buscar la llave mágica: \"))\n",
        "    \n",
        "    if llave_encontrada == llave_magica:\n",
        "        print(f\"¡Enhorabuena! Has encontrado la llave mágica {llave_magica} en {intentos} intentos y has escapado del laberinto de Randomius.\")\n",
        "        break\n",
        "    elif llave_encontrada < llave_magica:\n",
        "        print(\"La llave mágica está escondida en un número más alto.\")\n",
        "    else:\n",
        "        print(\"La llave mágica está escondida en un número más bajo.\")\n",
        "\n",
        "if intentos >= 7:\n",
        "    print(f\"Lo siento, has agotado tus intentos para encontrar la llave mágica. El número secreto era {llave_magica}. ¡Inténtalo de nuevo!\")\n",
        "\n",
        "\n",
        "print(\"¡Espero que hayas disfrutado de esta emocionante aventura en el Bosque Encantado de los Números Mágicos!\")"
      ],
      "metadata": {
        "cellView": "form",
        "id": "mQrES3g8sHYy"
      },
      "execution_count": null,
      "outputs": []
    },
    {
      "cell_type": "markdown",
      "source": [
        "# 6: Uso de números aleatorios en la simulación de eventos\n"
      ],
      "metadata": {
        "id": "Eth9f3Dy4mL6"
      }
    },
    {
      "cell_type": "markdown",
      "source": [
        "En el laberinto mágico de Randomius, la suerte puede jugarte una mano amiga. Mientras buscas la llave mágica, puedes encontrar un tesoro que te da un intento adicional para adivinar el número. Sin embargo, debes tener cuidado, solo comienzas con 3 intentos. Utilizaremos los conjuros randint() y random() para generar este emocionante escenario."
      ],
      "metadata": {
        "id": "s5K-1AEm6Ypu"
      }
    },
    {
      "cell_type": "code",
      "source": [
        "#@title Tesoro-Tesoro\n",
        "# Importamos los conjuros 'randint' y 'random' de la biblioteca 'random'\n",
        "from random import randint, random\n",
        "\n",
        "# Generamos la llave mágica en el rango del 1 al 100\n",
        "llave_magica = randint(1, 100)\n",
        "\n",
        "# Inicializamos el contador de intentos\n",
        "intentos = 0\n",
        "max_intentos = 3  # Comienzas con solo 3 intentos\n",
        "\n",
        "# Buscamos la llave mágica en el laberinto de Randomius\n",
        "while intentos < max_intentos:\n",
        "    # Generamos la posibilidad de encontrar un tesoro\n",
        "    posibilidad_tesoro = random()\n",
        "    \n",
        "    if posibilidad_tesoro > 0.7:\n",
        "        print(\"¡Has encontrado un tesoro en tu camino! Ganaste un intento extra.\")\n",
        "        max_intentos += 1  # El tesoro te da un intento extra\n",
        "    \n",
        "    intentos += 1\n",
        "    llave_encontrada = int(input(\"Escribe un número entre 1 y 100 para buscar la llave mágica: \"))\n",
        "    \n",
        "    if llave_encontrada == llave_magica:\n",
        "        print(f\"¡Enhorabuena! Has encontrado la llave mágica {llave_magica} en {intentos} intentos y has escapado del laberinto de Randomius.\")\n",
        "        break\n",
        "    elif llave_encontrada < llave_magica:\n",
        "        print(\"La llave mágica está escondida en un número más alto.\")\n",
        "    else:\n",
        "        print(\"La llave mágica está escondida en un número más bajo.\")\n",
        "\n",
        "if intentos >= max_intentos:\n",
        "    print(f\"Lo siento, has agotado tus intentos para encontrar la llave mágica. El número secreto era {llave_magica}. ¡Inténtalo de nuevo!\")\n"
      ],
      "metadata": {
        "cellView": "form",
        "id": "lH--G1I96e5t"
      },
      "execution_count": null,
      "outputs": []
    },
    {
      "cell_type": "markdown",
      "source": [
        "# 7: Generación de una lista de números aleatorios\n"
      ],
      "metadata": {
        "id": "r9Gyd9364q7a"
      }
    },
    {
      "cell_type": "markdown",
      "source": [
        "Los conjuros de generación de números aleatorios son extremadamente útiles, y en esta sección, vamos a conjurar una lista de números aleatorios. Imagina que encuentras un cofre mágico en el laberinto de Randomius. Este cofre está lleno de pergaminos misteriosos, cada uno con un número diferente. Generaremos una lista de estos números utilizando el conjuro randint()."
      ],
      "metadata": {
        "id": "nmDvT6GW69DK"
      }
    },
    {
      "cell_type": "code",
      "source": [
        "# Importamos el conjuro 'randint' de la biblioteca 'random'\n",
        "from random import randint\n",
        "\n",
        "# Creamos una lista vacía para los pergaminos\n",
        "pergaminos = []\n",
        "\n",
        "# Agregamos 5 números aleatorios a la lista de pergaminos\n",
        "for _ in range(5):\n",
        "    numero_pergamino = randint(1, 20)\n",
        "    pergaminos.append(numero_pergamino)\n",
        "\n",
        "print(\"Pergaminos encontrados: \", pergaminos)\n"
      ],
      "metadata": {
        "id": "jd9H3nu1-5pT"
      },
      "execution_count": null,
      "outputs": []
    },
    {
      "cell_type": "markdown",
      "source": [
        "Excelente! Hemos explorado hasta ahora cómo conjurar una lista de números aleatorios utilizando el conjuro randint(). Sin embargo, existe otro conjuro útil que podemos utilizar para nuestro problema de los pergaminos: choice(). Este conjuro nos permite seleccionar un elemento aleatorio de una lista.\n",
        "\n",
        "Imagina que en nuestro camino por el laberinto de Randomius, encontramos un sabio anciano. Este sabio puede ayudarnos a elegir el pergamino más prometedor para abrir la puerta mágica. Utilizaremos el conjuro choice() para simular la elección del sabio."
      ],
      "metadata": {
        "id": "pl3UTfkc-8tX"
      }
    },
    {
      "cell_type": "code",
      "source": [
        "# Importamos el conjuro 'choice' de la biblioteca 'random'\n",
        "from random import choice\n",
        "\n",
        "# El sabio elige un pergamino al azar\n",
        "pergamino_elegido = choice(pergaminos)\n",
        "\n",
        "print(f\"El sabio ha elegido el pergamino con el número {pergamino_elegido}.\")\n"
      ],
      "metadata": {
        "id": "FFdh12l1_Gas"
      },
      "execution_count": null,
      "outputs": []
    },
    {
      "cell_type": "markdown",
      "source": [
        "En este fragmento de código, hemos utilizado el conjuro choice() para seleccionar un pergamino aleatorio de nuestra lista de pergaminos.\n",
        "\n",
        "Ahora, vamos a usar el pergamino elegido para intentar abrir la puerta mágica."
      ],
      "metadata": {
        "id": "WeSRqlg9_ng9"
      }
    },
    {
      "cell_type": "code",
      "source": [
        "print(f\"\\nUtilizando el pergamino con el número {pergamino_elegido} para abrir la puerta...\")\n",
        "\n",
        "# Si el número del pergamino es par, la puerta se abre\n",
        "if pergamino_elegido % 2 == 0:\n",
        "    print(\"¡La puerta se abre! Adelante, veamos qué desafíos nos esperan.\")\n",
        "else:\n",
        "    print(\"La puerta no se abre. Necesitaremos encontrar otro pergamino.\")\n"
      ],
      "metadata": {
        "id": "u_owy2VB_pZl"
      },
      "execution_count": null,
      "outputs": []
    },
    {
      "cell_type": "markdown",
      "source": [
        "En este fragmento de código, hemos utilizado el pergamino elegido por el sabio para intentar abrir la puerta mágica. Si el número del pergamino es par, la puerta se abre; de lo contrario, la puerta permanece cerrada. Este es un ejemplo de cómo se pueden combinar diferentes conjuros de la biblioteca random para generar escenarios interesantes en un juego o simulación."
      ],
      "metadata": {
        "id": "NxL4L8yX_2dR"
      }
    },
    {
      "cell_type": "markdown",
      "source": [
        "# 8: Uso de números aleatorios en la selección de elementos\n"
      ],
      "metadata": {
        "id": "jmgRm4134ubx"
      }
    },
    {
      "cell_type": "markdown",
      "source": [
        "En esta sección, vamos a explorar cómo los números aleatorios pueden ser utilizados para seleccionar elementos de una lista. Esto puede ser especialmente útil en una variedad de contextos, desde seleccionar un elemento de un menú en una aplicación, hasta elegir un ganador en un sorteo.\n",
        "\n",
        "Para este propósito, el método choice() de la biblioteca random que hemos mencionado anteriormente es muy útil. Pero, hay otro método que es incluso más potente cuando necesitamos seleccionar más de un elemento de una lista: el método sample().\n",
        "\n",
        "Imagina que estás en el laberinto de Randomius y encuentras un cofre con una serie de pociones mágicas. Cada poción tiene un efecto diferente y sólo puedes llevar algunas de ellas. ¿Cómo decidir cuáles elegir? Podemos utilizar el método sample() para hacer una elección aleatoria por nosotros."
      ],
      "metadata": {
        "id": "9u07_quPBFQj"
      }
    },
    {
      "cell_type": "code",
      "source": [
        "# Importamos el método 'sample' de la biblioteca 'random'\n",
        "from random import sample\n",
        "\n",
        "# Lista de pociones mágicas\n",
        "pociones = [\"Poción de fuerza\", \"Poción de velocidad\", \"Poción de invisibilidad\", \n",
        "            \"Poción de curación\", \"Poción de resistencia\", \"Poción de sabiduría\"]\n",
        "\n",
        "# Elegimos 2 pociones al azar\n",
        "pociones_elegidas = sample(pociones, 2)\n",
        "\n",
        "print(\"Has elegido las siguientes pociones: \", pociones_elegidas)\n"
      ],
      "metadata": {
        "id": "_dEeZC3HBG18"
      },
      "execution_count": null,
      "outputs": []
    },
    {
      "cell_type": "markdown",
      "source": [
        "En este código, hemos usado el método sample() para seleccionar dos elementos al azar de la lista de pociones. Esta es una gran manera de simular la selección aleatoria de elementos en una lista, y puede ser especialmente útil en una amplia variedad de aplicaciones."
      ],
      "metadata": {
        "id": "WX_t3FRcBMQ3"
      }
    },
    {
      "cell_type": "markdown",
      "source": [
        "# 9: Aplicación práctica: Simulación de mazo de cartas\n"
      ],
      "metadata": {
        "id": "rqTO7Ki94wVK"
      }
    },
    {
      "cell_type": "markdown",
      "source": [
        "Hasta ahora, hemos explorado varios conjuros útiles de la biblioteca random. Ahora, vamos a aplicar lo que hemos aprendido en una situación práctica: simular un mazo de cartas. Para esta tarea, introduciremos el conjuro shuffle() que se utiliza para mezclar de forma aleatoria los elementos de una lista.\n",
        "\n",
        "Primero, vamos a construir un mazo de cartas."
      ],
      "metadata": {
        "id": "qdPR5fg8jmmx"
      }
    },
    {
      "cell_type": "code",
      "source": [
        "# Creando un mazo de cartas\n",
        "palos = ['espada', 'basto', 'oro', 'copa']\n",
        "valores = ['1', '2', '3', '4', '5', '6', '7', '8', '9', '10', '11', '12']\n",
        "\n",
        "mazo = [valor + ' de ' + palo for palo in palos for valor in valores]\n",
        "\n",
        "print(\"Mazo original: \", mazo)\n"
      ],
      "metadata": {
        "id": "Tk-gwastjoVy"
      },
      "execution_count": null,
      "outputs": []
    },
    {
      "cell_type": "markdown",
      "source": [
        "En este fragmento de código, hemos creado un mazo de cartas utilizando dos listas: palos y valores. Cada carta es una combinación de un valor y un palo.\n",
        "\n",
        "Ahora, vamos a usar el conjuro shuffle() para mezclar nuestro mazo de cartas."
      ],
      "metadata": {
        "id": "ZtwqEnrCj3S1"
      }
    },
    {
      "cell_type": "code",
      "source": [
        "# Importamos el método 'shuffle' de la biblioteca 'random'\n",
        "from random import shuffle\n",
        "\n",
        "# Mezclamos el mazo\n",
        "shuffle(mazo)\n",
        "\n",
        "print(\"\\nMazo mezclado: \", mazo)\n"
      ],
      "metadata": {
        "id": "o2av0Mxmj7Mw"
      },
      "execution_count": null,
      "outputs": []
    },
    {
      "cell_type": "markdown",
      "source": [
        "En este código, hemos utilizado el conjuro shuffle() para mezclar nuestro mazo de cartas. Ahora, las cartas en nuestro mazo están en un orden completamente aleatorio.\n",
        "\n",
        "Finalmente, vamos a usar el método pop() para 'repartir' algunas cartas."
      ],
      "metadata": {
        "id": "jLd9iAy-j9Ex"
      }
    },
    {
      "cell_type": "code",
      "source": [
        "# Repartimos las 5 primeras cartas\n",
        "mano = [mazo.pop() for _ in range(3)]\n",
        "\n",
        "print(\"\\nMano repartida: \", mano)\n",
        "print(\"\\nMazo después de repartir: \", mazo)\n"
      ],
      "metadata": {
        "id": "_EyMj2d1j-nT"
      },
      "execution_count": null,
      "outputs": []
    },
    {
      "cell_type": "markdown",
      "source": [
        "En este último fragmento de código, hemos 'repartido' cinco cartas utilizando un bucle for y el método pop(), que elimina y devuelve el último elemento de la lista. Esta es una forma sencilla de simular el reparto de cartas en un juego de cartas."
      ],
      "metadata": {
        "id": "fsG7WtlGkCPJ"
      }
    },
    {
      "cell_type": "markdown",
      "source": [
        "# 10: Pruebas y experimentos con la generación de números aleatorios\n"
      ],
      "metadata": {
        "id": "OqlS-jyi4yib"
      }
    },
    {
      "cell_type": "markdown",
      "source": [
        "Hasta ahora, hemos explorado varios métodos útiles de la biblioteca random de Python. Ahora, vamos a experimentar con algunos métodos adicionales que nos proporcionan aún más control sobre la generación de números aleatorios."
      ],
      "metadata": {
        "id": "UoxAOrW5kvkC"
      }
    },
    {
      "cell_type": "markdown",
      "source": [
        "## Experimento 1: Generación de números de punto flotante"
      ],
      "metadata": {
        "id": "nQMwEWbdkxYF"
      }
    },
    {
      "cell_type": "markdown",
      "source": [
        "Imagina que estás trabajando en un proyecto de simulación climática y necesitas generar temperaturas aleatorias para un conjunto de datos. Para este propósito, el método uniform(a, b) de la biblioteca random puede ser útil. Este método genera un número de punto flotante aleatorio dentro del rango especificado [a, b]."
      ],
      "metadata": {
        "id": "QuGaRFVCk2Bc"
      }
    },
    {
      "cell_type": "code",
      "source": [
        "# Importamos el método 'uniform' de la biblioteca 'random'\n",
        "from random import uniform\n",
        "\n",
        "# Generamos una temperatura aleatoria entre -10 y 40 grados Celsius\n",
        "temperatura = uniform(-10, 40)\n",
        "\n",
        "print(f\"La temperatura generada es: {temperatura:.2f} grados Celsius\")\n"
      ],
      "metadata": {
        "id": "gkiJ_IwGk3Oj"
      },
      "execution_count": null,
      "outputs": []
    },
    {
      "cell_type": "markdown",
      "source": [
        "## Experimento 2: Selección de múltiples elementos únicos"
      ],
      "metadata": {
        "id": "PwjrZ--lk5Ol"
      }
    },
    {
      "cell_type": "markdown",
      "source": [
        "Supón que estás organizando un sorteo en el que necesitas seleccionar varios ganadores de un grupo grande de participantes. En este caso, el método sample(population, k) sería muy útil. Este método selecciona k elementos únicos de una population."
      ],
      "metadata": {
        "id": "zkzTIlFHk6mE"
      }
    },
    {
      "cell_type": "code",
      "source": [
        "# Importamos el método 'sample' de la biblioteca 'random'\n",
        "from random import sample\n",
        "\n",
        "# Lista de participantes\n",
        "participantes = [\"Participante \" + str(i) for i in range(1, 101)] # 100 participantes\n",
        "\n",
        "# Seleccionamos 5 ganadores al azar\n",
        "ganadores = sample(participantes, 5)\n",
        "\n",
        "print(\"Los ganadores del sorteo son: \", ganadores)\n"
      ],
      "metadata": {
        "id": "cuN9DiGkk_D-"
      },
      "execution_count": null,
      "outputs": []
    },
    {
      "cell_type": "markdown",
      "source": [
        "## Experimento 3: Simulación de lanzamiento de dados"
      ],
      "metadata": {
        "id": "BHauaBtelpV8"
      }
    },
    {
      "cell_type": "markdown",
      "source": [
        "Imagina que estás creando un juego de mesa virtual y necesitas simular el lanzamiento de dos dados. En este caso, podrías utilizar el método choices(population, weights=k, k=n) de la biblioteca random. Este método retorna una lista con n elementos elegidos de la población dada, teniendo en cuenta los pesos asociados a cada elemento. Si no especificamos los pesos, choices() realizará una selección uniforme."
      ],
      "metadata": {
        "id": "NRsuX2PolyTp"
      }
    },
    {
      "cell_type": "code",
      "source": [
        "# Importamos el método 'choices' de la biblioteca 'random'\n",
        "from random import choices\n",
        "\n",
        "# Definimos las caras del dado\n",
        "caras_dado = [1, 2, 3, 4, 5, 6]\n",
        "\n",
        "# Lanzamos dos dados\n",
        "lanzamiento = choices(caras_dado, k=2)\n",
        "\n",
        "print(f\"El resultado del lanzamiento de los dados es: {lanzamiento}\")\n"
      ],
      "metadata": {
        "id": "bvEj5SUmlz3R"
      },
      "execution_count": null,
      "outputs": []
    },
    {
      "cell_type": "markdown",
      "source": [
        "# 11: Conclusiones y cierre"
      ],
      "metadata": {
        "id": "fQcx2bzo40j5"
      }
    },
    {
      "cell_type": "markdown",
      "source": [
        "A lo largo de este notebook, hemos explorado la biblioteca random de Python y hemos descubierto cómo sus diferentes métodos nos permiten generar números aleatorios y seleccionar elementos de manera aleatoria de una lista.\n",
        "\n",
        "Hemos aprendido cómo los números aleatorios son una herramienta esencial en la programación y pueden ser aplicados en una amplia variedad de contextos, desde la simulación de eventos hasta la creación de juegos y la realización de experimentos.\n",
        "\n",
        "Los conjuros que hemos aprendido, randint(), choice(), sample(), uniform(), shuffle() y choices(), nos permiten manejar la aleatoriedad en nuestros programas de Python de manera eficiente y efectiva.\n",
        "\n",
        "Recuerda que la mejor manera de consolidar estos conocimientos es practicando. No dudes en crear tus propios notebooks y experimentar con estos métodos para ver lo que puedes crear.\n",
        "\n",
        "Finalmente, vamos a dejar un pequeño código que te permitirá generar un número al azar entre dos valores ingresados por el usuario."
      ],
      "metadata": {
        "id": "KtzoEYVEmhSq"
      }
    },
    {
      "cell_type": "code",
      "source": [
        "#@title 1001 Problemas\n",
        "# Solicitamos al usuario que ingrese el rango mínimo y máximo\n",
        "rango_min = int(input(\"Por favor, ingresa el valor mínimo del rango: \"))\n",
        "rango_max = int(input(\"Por favor, ingresa el valor máximo del rango: \"))\n",
        "\n",
        "# Importamos el método 'randint' de la biblioteca 'random'\n",
        "from random import randint\n",
        "\n",
        "# Generamos un número aleatorio en el rango especificado\n",
        "numero_aleatorio = randint(rango_min, rango_max)\n",
        "\n",
        "print(f\"El número aleatorio generado entre {rango_min} y {rango_max} es: {numero_aleatorio}\")\n",
        "\n",
        "# Importamos el módulo 'webbrowser'\n",
        "import webbrowser\n",
        "\n",
        "# Generamos la URL a la que queremos dirigirnos\n",
        "url = f\"https://1001problemas.com/problema-{numero_aleatorio}/\"\n",
        "\n",
        "# Mostramos el URL del ejercicio seleccionado\n",
        "print(f\"Resuelve el ejercicio: {url}\")"
      ],
      "metadata": {
        "cellView": "form",
        "id": "ERZ7-G9AmmBq"
      },
      "execution_count": null,
      "outputs": []
    }
  ]
}