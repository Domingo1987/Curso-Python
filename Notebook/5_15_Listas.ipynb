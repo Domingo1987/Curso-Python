{
 "cells": [
  {
   "cell_type": "markdown",
   "metadata": {},
   "source": [
    "## 1. Introducción a las Listas en Python\n",
    "Las listas en Python son estructuras de datos que permiten almacenar colecciones ordenadas de elementos. Estos elementos pueden ser de cualquier tipo, incluidos números, cadenas y otros objetos. Las listas son mutables, lo que significa que podemos modificar su contenido después de haber sido creadas."
   ]
  },
  {
   "cell_type": "code",
   "execution_count": null,
   "metadata": {},
   "outputs": [],
   "source": [
    "frutas = [\"manzana\", \"banana\", \"cereza\"]\n",
    "print(frutas)"
   ]
  },
  {
   "cell_type": "markdown",
   "metadata": {},
   "source": [
    "## 2. Creación de Listas\n",
    "Podemos crear listas de diferentes maneras, ya sea definiendo sus elementos entre corchetes o utilizando el método list()."
   ]
  },
  {
   "cell_type": "code",
   "execution_count": null,
   "metadata": {},
   "outputs": [],
   "source": [
    "# Creación de lista con corchetes\n",
    "animales = [\"gato\", \"perro\", \"pájaro\"]\n",
    "\n",
    "# Creación de lista con el método list()\n",
    "numeros = list((1, 2, 3, 4, 5))\n",
    "\n",
    "print(animales)\n",
    "print(numeros)\n"
   ]
  },
  {
   "cell_type": "markdown",
   "metadata": {},
   "source": [
    "## 3. Acceso a elementos de una lista\n",
    "Para acceder a elementos individuales de una lista, utilizamos el índice del elemento. Recuerda que en Python -como en muchos lenguajes-, el índice comienza en 0."
   ]
  },
  {
   "cell_type": "code",
   "execution_count": null,
   "metadata": {},
   "outputs": [],
   "source": [
    "colores = [\"rojo\", \"verde\", \"azul\"]\n",
    "print(colores[1])  # Esto imprimirá \"verde\"\n"
   ]
  },
  {
   "cell_type": "markdown",
   "metadata": {},
   "source": [
    "## 4. Modificación de elementos en una lista\n",
    "Dado que las listas son mutables, podemos modificar sus elementos fácilmente utilizando el índice."
   ]
  },
  {
   "cell_type": "code",
   "execution_count": null,
   "metadata": {},
   "outputs": [],
   "source": [
    "colores = [\"rojo\", \"verde\", \"azul\"]\n",
    "colores[1] = \"amarillo\"\n",
    "print(colores)  # Esto imprimirá [\"rojo\", \"amarillo\", \"azul\"]\n"
   ]
  },
  {
   "cell_type": "markdown",
   "metadata": {},
   "source": [
    "## 5. Métodos de las listas\n",
    "Las listas en Python ofrecen una variedad de métodos nativos que permiten manipular y obtener información sobre sus elementos. A continuación, presentamos una tabla con los principales métodos y su descripción:\n",
    "\n",
    "|Método|Descripción|\n",
    "|---|---|\n",
    "|`append()`|Añade un elemento al final de la lista.|\n",
    "|`extend()`|`extend()` añade todos los elementos de una  otra lista al final de la lista actual.|\n",
    "|`insert()`|Inserta un elemento en una posición determinada.|\n",
    "|`remove()`|`remove()` elimina la primera aparición de un elemento.|\n",
    "|`pop()`|Con `pop()` elimina y devuelve el elemento en una posición especifica.|\n",
    "|`index()`|Devuelve el número de índice del primer elemento con un valor determinado.|\n",
    "|`count()`|cuenta el numero de apariciones de un elemento.|\n",
    "|`sort()`| ordena los elementos tu lista.|\n",
    "|`reverse()`|invierte el orden de los elementos de la lista.|\n",
    "|`clear()`|Elimina todos los elementos de la lista.|\n",
    "|`copy()`|`copy()` produce una copia de toda la lista.|\n",
    "| len() | Nota: len() no es un método de lista, sino una función incorporada en Python. Se utiliza para obtener la cantidad de elementos en la lista. |\n",
    "\n",
    "Para ilustrar cómo funcionan estos métodos, consideremos la siguiente lista de frutas y verduras del supermercado _Discovery_:"
   ]
  },
  {
   "cell_type": "code",
   "execution_count": 4,
   "metadata": {},
   "outputs": [],
   "source": [
    "frutas_y_verduras = [\"manzana\", \"banana\", \"zanahoria\", \"uva\", \"brócoli\"]"
   ]
  },
  {
   "cell_type": "markdown",
   "metadata": {},
   "source": [
    "## append()\n",
    "\n",
    "Al cambiar la temporada, el mercado modelo nos ofrece nuevos productos. Dentro de ello nos encontramos con _frutilla_.\n",
    "\n",
    "Añadir _\"frutilla\"_ al final de la lista:"
   ]
  },
  {
   "cell_type": "code",
   "execution_count": 5,
   "metadata": {},
   "outputs": [
    {
     "name": "stdout",
     "output_type": "stream",
     "text": [
      "['manzana', 'banana', 'zanahoria', 'uva', 'brócoli', 'frutilla']\n"
     ]
    }
   ],
   "source": [
    "frutas_y_verduras.append(\"frutilla\")\n",
    "print(frutas_y_verduras)  # [\"manzana\", \"banana\", \"zanahoria\", \"uva\", \"brócoli\", \"frutilla\"]\n"
   ]
  },
  {
   "cell_type": "markdown",
   "metadata": {},
   "source": [
    "## extend()\n",
    "\n",
    "Nos informa la empresa que llego un barco con un container que extiende la variedad de frutas al cual añadimos al supermercado.\n",
    "\n",
    "Añadir los elementos de la lista [\"kiwi\", \"mango\" , \"coco\" , \"piña\" , \"anana\"] a la lista principal:"
   ]
  },
  {
   "cell_type": "code",
   "execution_count": 6,
   "metadata": {},
   "outputs": [
    {
     "name": "stdout",
     "output_type": "stream",
     "text": [
      "['manzana', 'banana', 'zanahoria', 'uva', 'brócoli', 'frutilla', 'kiwi', 'mango', 'coco', 'piña', 'anana']\n"
     ]
    }
   ],
   "source": [
    "frutas_y_verduras.extend([\"kiwi\", \"mango\" , \"coco\" , \"piña\" , \"anana\"])\n",
    "print(frutas_y_verduras)  # ['manzana', 'banana', 'zanahoria', 'uva', 'brócoli', 'frutilla', 'kiwi', 'mango', 'coco', 'piña', 'anana']\n"
   ]
  },
  {
   "cell_type": "markdown",
   "metadata": {},
   "source": [
    "## insert()\n",
    "\n",
    "Ha llegado un contenedor de naranjas de salto, y para darle prioridad instertaremos \"naranja\" en la segunda posición de la lista."
   ]
  },
  {
   "cell_type": "code",
   "execution_count": 7,
   "metadata": {},
   "outputs": [
    {
     "name": "stdout",
     "output_type": "stream",
     "text": [
      "['manzana', 'naranja', 'banana', 'zanahoria', 'uva', 'brócoli', 'frutilla', 'kiwi', 'mango', 'coco', 'piña', 'anana']\n"
     ]
    }
   ],
   "source": [
    "frutas_y_verduras.insert(1, \"naranja\")\n",
    "print(frutas_y_verduras)  # [\"manzana\", \"naranja\", \"banana\", ...]\n"
   ]
  },
  {
   "cell_type": "markdown",
   "metadata": {},
   "source": [
    "*OJO!* Recordar que el primer de insertar dice 1 pero estas insertando en la posicion 2, esto es porque la lista comienza en 0."
   ]
  },
  {
   "cell_type": "markdown",
   "metadata": {},
   "source": [
    "## remove()\n",
    "Se han quedado sin brócoli en la almacen, asi que se debe eliminar la primera aparición de \"brócoli\":"
   ]
  },
  {
   "cell_type": "code",
   "execution_count": 8,
   "metadata": {},
   "outputs": [
    {
     "name": "stdout",
     "output_type": "stream",
     "text": [
      "['manzana', 'naranja', 'banana', 'zanahoria', 'uva', 'frutilla', 'kiwi', 'mango', 'coco', 'piña', 'anana']\n"
     ]
    }
   ],
   "source": [
    "frutas_y_verduras.remove(\"brócoli\")\n",
    "print(frutas_y_verduras)  # ['manzana', 'banana', 'zanahoria', 'uva', 'brócoli', 'frutilla', \"kiwi\", \"pimiento\"]\n"
   ]
  },
  {
   "cell_type": "markdown",
   "metadata": {},
   "source": [
    "## pop()\n",
    "Sacando cuentas, el elemento en la tercera posicion se ha vencido, asi que se debe eliminarlo y mostrar que elemento era:"
   ]
  },
  {
   "cell_type": "code",
   "execution_count": 9,
   "metadata": {},
   "outputs": [
    {
     "name": "stdout",
     "output_type": "stream",
     "text": [
      "banana\n",
      "['manzana', 'naranja', 'zanahoria', 'uva', 'frutilla', 'kiwi', 'mango', 'coco', 'piña', 'anana']\n"
     ]
    }
   ],
   "source": [
    "elemento_eliminado = frutas_y_verduras.pop(2)\n",
    "print(elemento_eliminado)  # \"banana\"\n",
    "print(frutas_y_verduras)  # [\"manzana\", \"naranja\", \"zanahoria\", \"uva\", \"frutilla\", \"kiwi\", \"pimiento\"]\n"
   ]
  },
  {
   "cell_type": "markdown",
   "metadata": {},
   "source": [
    "## index()\n",
    "Hemos perdido cual era la posición de las uvas asi que se debe encontrar el índice de \"uva\":\n",
    "\n"
   ]
  },
  {
   "cell_type": "code",
   "execution_count": 10,
   "metadata": {},
   "outputs": [
    {
     "name": "stdout",
     "output_type": "stream",
     "text": [
      "3\n"
     ]
    }
   ],
   "source": [
    "indice_uva = frutas_y_verduras.index(\"uva\")\n",
    "print(indice_uva)  # 3\n"
   ]
  },
  {
   "cell_type": "markdown",
   "metadata": {},
   "source": [
    "## count()\n",
    "Un empleado cree que ha ingresado manzana dos veces, asi que debemos contar cuántas veces aparece \"manzana\":"
   ]
  },
  {
   "cell_type": "code",
   "execution_count": 14,
   "metadata": {},
   "outputs": [
    {
     "name": "stdout",
     "output_type": "stream",
     "text": [
      "1\n"
     ]
    }
   ],
   "source": [
    "conteo_manzana = frutas_y_verduras.count(\"manzana\")\n",
    "print(conteo_manzana)  # 1\n"
   ]
  },
  {
   "cell_type": "markdown",
   "metadata": {},
   "source": [
    "## sort()\n",
    "Para estar mas organizados vamos a ordenar la lista alfabéticamente:\n"
   ]
  },
  {
   "cell_type": "code",
   "execution_count": 15,
   "metadata": {},
   "outputs": [
    {
     "name": "stdout",
     "output_type": "stream",
     "text": [
      "['anana', 'coco', 'frutilla', 'kiwi', 'mango', 'manzana', 'naranja', 'piña', 'uva', 'zanahoria']\n"
     ]
    }
   ],
   "source": [
    "frutas_y_verduras.sort()\n",
    "print(frutas_y_verduras)  # ['anana', 'coco', 'frutilla', 'kiwi', 'mango', 'manzana', 'naranja', 'piña', 'uva', 'zanahoria']\n"
   ]
  },
  {
   "cell_type": "markdown",
   "metadata": {},
   "source": [
    "## reverse()\n",
    "Al dueño no le gusta de la A-z asi que debemos invertir el orden de los elementos:"
   ]
  },
  {
   "cell_type": "code",
   "execution_count": 18,
   "metadata": {},
   "outputs": [
    {
     "name": "stdout",
     "output_type": "stream",
     "text": [
      "['zanahoria', 'uva', 'piña', 'naranja', 'manzana', 'mango', 'kiwi', 'frutilla', 'coco', 'anana']\n"
     ]
    }
   ],
   "source": [
    "frutas_y_verduras.reverse()\n",
    "print(frutas_y_verduras)  # ['zanahoria', 'uva', 'piña', 'naranja', 'manzana', 'mango', 'kiwi', 'frutilla', 'coco', 'anana']\n"
   ]
  },
  {
   "cell_type": "markdown",
   "metadata": {},
   "source": [
    "## len()\n",
    "Necesitamos saber cuantos elementos tenemos en la lista"
   ]
  },
  {
   "cell_type": "code",
   "execution_count": 19,
   "metadata": {},
   "outputs": [
    {
     "name": "stdout",
     "output_type": "stream",
     "text": [
      "10\n"
     ]
    }
   ],
   "source": [
    "cant_f_y_v = len(frutas_y_verduras)\n",
    "print(cant_f_y_v)"
   ]
  },
  {
   "cell_type": "markdown",
   "metadata": {},
   "source": [
    "## copy()\n",
    "El jefe a pedido que se le realice una copia a la lista\n"
   ]
  },
  {
   "cell_type": "code",
   "execution_count": 20,
   "metadata": {},
   "outputs": [
    {
     "name": "stdout",
     "output_type": "stream",
     "text": [
      "['zanahoria', 'uva', 'piña', 'naranja', 'manzana', 'mango', 'kiwi', 'frutilla', 'coco', 'anana']\n"
     ]
    }
   ],
   "source": [
    "copia_frutas_y_verduras = frutas_y_verduras.copy()\n",
    "print(copia_frutas_y_verduras)"
   ]
  },
  {
   "cell_type": "markdown",
   "metadata": {},
   "source": [
    "## clear()\n",
    "Se han vendido todos los productos, asique se deben eliminar todos los elementos de la lista y la copia de la lista:\n"
   ]
  },
  {
   "cell_type": "code",
   "execution_count": 21,
   "metadata": {},
   "outputs": [
    {
     "name": "stdout",
     "output_type": "stream",
     "text": [
      "['zanahoria', 'uva', 'piña', 'naranja', 'manzana', 'mango', 'kiwi', 'frutilla', 'coco', 'anana']\n",
      "[]\n"
     ]
    }
   ],
   "source": [
    "print(frutas_y_verduras)  # []\n",
    "copia_frutas_y_verduras.clear()\n",
    "print(copia_frutas_y_verduras)"
   ]
  },
  {
   "cell_type": "markdown",
   "metadata": {},
   "source": [
    "## 6. Listas anidadas\n",
    "Las listas pueden contener otras listas, lo que las convierte en estructuras de datos muy versátiles."
   ]
  },
  {
   "cell_type": "code",
   "execution_count": 22,
   "metadata": {},
   "outputs": [
    {
     "name": "stdout",
     "output_type": "stream",
     "text": [
      "6\n"
     ]
    }
   ],
   "source": [
    "matriz = [[1, 2, 3], [4, 5, 6], [7, 8, 9]]\n",
    "print(matriz[1][2])  # Esto imprimirá el número 6\n"
   ]
  },
  {
   "cell_type": "markdown",
   "metadata": {},
   "source": [
    "## 7. List comprehensions\n",
    "Las \"list comprehensions\" son una forma concisa de crear listas. Son muy útiles y pueden simplificar el código."
   ]
  },
  {
   "cell_type": "code",
   "execution_count": 23,
   "metadata": {},
   "outputs": [
    {
     "name": "stdout",
     "output_type": "stream",
     "text": [
      "[0, 1, 4, 9, 16, 25, 36, 49, 64, 81]\n"
     ]
    }
   ],
   "source": [
    "cuadrados = [x**2 for x in range(10)]\n",
    "print(cuadrados)  # Esto imprimirá los cuadrados de los números del 0 al 9\n"
   ]
  },
  {
   "cell_type": "markdown",
   "metadata": {},
   "source": [
    "## 8. Operaciones con listas\n",
    "Podemos realizar diversas operaciones con listas, como concatenación, repetición, entre otras."
   ]
  },
  {
   "cell_type": "code",
   "execution_count": 24,
   "metadata": {},
   "outputs": [
    {
     "name": "stdout",
     "output_type": "stream",
     "text": [
      "[1, 2, 3, 4, 5, 6]\n"
     ]
    }
   ],
   "source": [
    "lista1 = [1, 2, 3]\n",
    "lista2 = [4, 5, 6]\n",
    "concatenada = lista1 + lista2\n",
    "print(concatenada)  # Esto imprimirá [1, 2, 3, 4, 5, 6]\n"
   ]
  },
  {
   "cell_type": "markdown",
   "metadata": {},
   "source": [
    "## 9. Consideraciones al copiar listas\n",
    "Es importante entender cómo funciona la asignación y copia de listas en Python, ya que una simple asignación no crea una nueva lista, sino una referencia."
   ]
  },
  {
   "cell_type": "code",
   "execution_count": 25,
   "metadata": {},
   "outputs": [
    {
     "name": "stdout",
     "output_type": "stream",
     "text": [
      "[99, 2, 3]\n",
      "[1, 2, 3]\n"
     ]
    }
   ],
   "source": [
    "original = [1, 2, 3]\n",
    "copia = original.copy()\n",
    "original[0] = 99\n",
    "print(original)  # [99, 2, 3]\n",
    "print(copia)     # [1, 2, 3]\n"
   ]
  },
  {
   "cell_type": "markdown",
   "metadata": {},
   "source": [
    "## 10. Conclusión\n",
    "Las listas son una herramienta poderosa en Python que permite almacenar y manipular colecciones de datos. Con una variedad de métodos y operaciones disponibles, las listas son esenciales para cualquier programador de Python."
   ]
  },
  {
   "cell_type": "markdown",
   "metadata": {},
   "source": [
    "## Desafíos\n",
    "### Desafío 1: \n",
    "Desarrolla un programa que, dado un conjunto de tres números enteros introducidos por el usuario, determine cuál de ellos es el mayor. Considera la posibilidad de que algunos o todos los números sean iguales. El programa debe imprimir un mensaje claro con el número mayor o indicar si todos los números son iguales.\n",
    "\n",
    "### Desafío 2: \n",
    "Un sistema de inventario tiene una lista con los códigos de productos. Desarrolla un programa que permita al usuario introducir un código de producto y que determine si ese código está en la lista. Si el código se encuentra, el programa debe devolver la posición en la que aparece; si no está, debe mostrar un mensaje indicando que no se ha encontrado el código.\n",
    "\n",
    "### Desafío 3: \n",
    "Tienes una lista de números en la que algunos elementos están repetidos. Desarrolla un programa que elimine todos los elementos duplicados y deje únicamente una aparición de cada uno. La salida debe mostrar la lista original y la lista sin duplicados.\n",
    "\n",
    "### Desafío 4: \n",
    "Tienes dos listas de números enteros de diferentes longitudes. Desarrolla un programa que sume los elementos de las listas en las posiciones correspondientes. Si una lista es más corta que la otra, los elementos que falten deben considerarse como 0 en la suma.\n",
    "\n",
    "### Desafío 5: \n",
    "Usa una \"list comprehension\" para crear una lista llamada potencias que contenga las potencias de 2 de los números del 0 al 9 (es decir, 2 elevado a la potencia de cada número). Imprime la lista resultante."
   ]
  }
 ],
 "metadata": {
  "kernelspec": {
   "display_name": "venv",
   "language": "python",
   "name": "python3"
  },
  "language_info": {
   "codemirror_mode": {
    "name": "ipython",
    "version": 3
   },
   "file_extension": ".py",
   "mimetype": "text/x-python",
   "name": "python",
   "nbconvert_exporter": "python",
   "pygments_lexer": "ipython3",
   "version": "3.11.1"
  }
 },
 "nbformat": 4,
 "nbformat_minor": 2
}
