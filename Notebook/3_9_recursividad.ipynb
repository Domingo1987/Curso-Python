{
 "cells": [
  {
   "cell_type": "markdown",
   "metadata": {},
   "source": [
    "# 9. Recursividad"
   ]
  },
  {
   "cell_type": "markdown",
   "metadata": {},
   "source": [
    "_¿En qué trabajas? Estoy intentando arreglar los problemas que creé cuando intentaba arreglar los problemas que creé cuando intentaba arreglar los problemas que creé. Y así nació la recursividad._"
   ]
  },
  {
   "cell_type": "markdown",
   "metadata": {},
   "source": [
    "## Función Recursiva para Calcular la Potencia de un Número\n",
    "\n",
    "En este ejercicio, vamos a crear una función recursiva que nos permita calcular la potencia de un número. La idea es que si tenemos un número \\(a\\) y queremos elevarlo a la potencia \\(b\\), la operación se representa como:\n",
    "\n",
    "$$a^b = a \\times a \\times \\dots \\times a$$\n",
    "\n",
    "Donde \\(a\\) se multiplica por sí mismo \\(b\\) veces.\n",
    "\n",
    "Para implementar esto de manera recursiva, consideraremos algunos casos base:\n",
    "\n",
    "1. Si \\(b = 0\\), cualquier número elevado a la potencia de 0 es 1.\n",
    "2. Si la base \\(a = 0\\), el resultado es 0 sin importar el exponente.\n",
    "3. Si \\(b = 1\\), el resultado es simplemente \\(a\\).\n",
    "\n",
    "Con estos casos base en mente, podemos proceder a implementar la función.\n"
   ]
  },
  {
   "cell_type": "code",
   "execution_count": null,
   "id": "4f165876",
   "metadata": {},
   "outputs": [],
   "source": [
    "def potencia(a, b):\n",
    "    # Caso base: cualquier número elevado a 0 es 1\n",
    "    if b == 0:\n",
    "        return 1\n",
    "    # Caso base: 0 elevado a cualquier número es 0\n",
    "    elif a == 0:\n",
    "        return 0\n",
    "    # Caso base: cualquier número elevado a 1 es él mismo\n",
    "    elif b == 1:\n",
    "        return a\n",
    "    # Caso recursivo\n",
    "    else:\n",
    "        return a * potencia(a, b-1)\n",
    "\n",
    "# Pruebas\n",
    "print(potencia(2, 4))  # 16\n",
    "print(potencia(4, 3))  # 64\n",
    "print(potencia(3, 4))  # 81\n"
   ]
  },
  {
   "cell_type": "markdown",
   "metadata": {},
   "source": [
    "## Ejemplos y aplicaciones"
   ]
  },
  {
   "cell_type": "markdown",
   "metadata": {},
   "source": [
    "A menudo, cuando se busca sobre recursividad, se encuentra el ejemplo clásico de la secuencia de Fibonacci. Sin embargo, en este cuaderno, optaremos por no utilizar ese ejemplo. Queda a cargo del lector pensar en cómo resolver la secuencia de Fibonacci de manera recursiva y explorar otros ejemplos más allá de los típicos.\n",
    "\n",
    "En lugar de Fibonacci, vamos a explorar cómo la recursividad puede ser útil en el procesamiento de texto, utilizando el código creado por los estudiantes."
   ]
  },
  {
   "cell_type": "code",
   "execution_count": null,
   "metadata": {},
   "outputs": [],
   "source": [
    "# Código de procesador_texto.py proporcionado por los estudiantes\n",
    "\n",
    "from colorama import Fore, Back, Style\n",
    "\n",
    "# ... (resto del código proporcionado)"
   ]
  },
  {
   "cell_type": "markdown",
   "metadata": {},
   "source": [
    "El código anterior introduce una clase `Procesador` que tiene varias funciones, incluida una que utiliza la biblioteca `colorama` para resaltar palabras en el texto. Podemos pensar en cómo la recursividad podría ser útil aquí, por ejemplo, para resaltar palabras anidadas o para procesar estructuras de texto más complejas."
   ]
  },
  {
   "cell_type": "markdown",
   "metadata": {},
   "source": [
    "## Desafíos"
   ]
  },
  {
   "cell_type": "markdown",
   "id": "cffbbc7d",
   "metadata": {},
   "source": [
    "**Desafío 1:**\n",
    "\n",
    "Crea una función recursiva que calcule el máximo común divisor (MCD) de dos números. El MCD de dos números es el número más grande que puede dividir ambos números sin dejar un residuo. Por ejemplo, el MCD de 8 y 12 es 4.\n",
    "\n",
    "Pista: Puedes usar el algoritmo de Euclides, que establece que el MCD de dos números también divide al residuo de su división. Por lo tanto, el MCD de a y b (donde a > b) es el mismo que el MCD de b y a % b."
   ]
  },
  {
   "cell_type": "markdown",
   "metadata": {},
   "source": [
    "**Desafío 2:**\n",
    "\n",
    "Utiliza la clase `Procesador` para resaltar recursivamente todas las ocurrencias de una palabra clave en un texto largo."
   ]
  },
  {
   "cell_type": "markdown",
   "metadata": {},
   "source": [
    "**Desafío 3:**\n",
    "\n",
    "Crea una función recursiva que invierta las palabras en una oración sin utilizar funciones incorporadas de Python para invertir cadenas o listas."
   ]
  },
  {
   "cell_type": "markdown",
   "metadata": {},
   "source": [
    "---\n",
    "\n",
    "Para más detalles y ejemplos sobre recursividad, puedes consultar la [referencia proporcionada](https://www.tutorialesprogramacionya.com/pythonya/detalleconcepto.php?punto=90&codigo=91&inicio=75#:~:text=En%20Python%20las%20funciones%20o,nuevas%20variables%20locales%20y%20par%C3%A1metros.)."
   ]
  }
 ],
 "metadata": {
  "kernelspec": {
   "display_name": "Python 3",
   "language": "python",
   "name": "python3"
  },
  "language_info": {
   "codemirror_mode": {
    "name": "ipython",
    "version": 3
   },
   "file_extension": ".py",
   "mimetype": "text/x-python",
   "name": "python",
   "nbconvert_exporter": "python",
   "pygments_lexer": "ipython3",
   "version": "3.11.1"
  }
 },
 "nbformat": 4,
 "nbformat_minor": 5
}
