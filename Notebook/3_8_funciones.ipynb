{
 "cells": [
  {
   "cell_type": "markdown",
   "id": "fe918077",
   "metadata": {},
   "source": [
    "# 3_8_funciones.ipynb\n"
   ]
  },
  {
   "cell_type": "markdown",
   "id": "d9a1caf1",
   "metadata": {},
   "source": [
    "### Introducción a las funciones:\n",
    "\n",
    "En el mundo de la programación, a menudo nos encontramos realizando las mismas tareas repetidamente. Las funciones son una manera de encapsular esas tareas en bloques de código reutilizables. Ya hemos tenido un primer contacto con ellas, particularmente en el desafío de la batalla naval, donde utilizamos funciones para estructurar la creación del tablero y los barcos. Este cuaderno se adentrará más en el poder y flexibilidad que ofrecen las funciones en Python.\n"
   ]
  },
  {
   "cell_type": "markdown",
   "id": "8138759e",
   "metadata": {},
   "source": [
    "### ¿Qué es una función?\n",
    "\n",
    "Una función es, en esencia, una secuencia de instrucciones que realiza una tarea específica. Al encapsular estas instrucciones dentro de una función, obtenemos varios beneficios: modularidad, legibilidad y reusabilidad del código. Imagina las funciones como pequeñas máquinas: les das cierta entrada, realizan una operación y te devuelven un resultado.\n"
   ]
  },
  {
   "cell_type": "markdown",
   "id": "cc6007dc",
   "metadata": {},
   "source": [
    "### Definición y llamada de funciones:\n",
    "\n",
    "Las funciones en Python se definen utilizando la palabra clave `def`, seguida de un nombre descriptivo y paréntesis. Este nombre es el que se usará posteriormente para 'invocar' o 'llamar' a la función y ejecutar el bloque de código que contiene. La sintaxis es esencial para garantizar que tu código funcione correctamente."
   ]
  },
  {
   "cell_type": "code",
   "execution_count": 9,
   "id": "6fbc5265",
   "metadata": {},
   "outputs": [
    {
     "name": "stdout",
     "output_type": "stream",
     "text": [
      "¡Ciao!\n"
     ]
    }
   ],
   "source": [
    "def saludar():\n",
    "    print(\"¡Ciao!\")\n",
    "\n",
    "saludar()  # Output: ¡Ciao!"
   ]
  },
  {
   "cell_type": "markdown",
   "id": "e3d4e9fc",
   "metadata": {},
   "source": [
    "### Funciones triviales y la palabra clave `pass`:\n",
    "\n",
    "En el ejemplo anterior, sabíamos cómo saludar, por lo que estábamos listos para escribir el contenido de nuestra función. Sin embargo, en muchas ocasiones, cuando estamos diseñando o esbozando nuestro código, sabemos que necesitamos una función, pero aún no estamos seguros de cómo resolveremos el problema o tarea que ella debe realizar. Es como tener una idea, pero no tener aún todas las herramientas para llevarla a cabo. En esos casos, Python nos proporciona la palabra clave 'pass', que actúa como un marcador de posición temporal, indicándonos que esa función estará completada en el futuro."
   ]
  },
  {
   "cell_type": "code",
   "execution_count": 21,
   "id": "dac855aa",
   "metadata": {},
   "outputs": [],
   "source": [
    "def funcion_trivial():\n",
    "    pass # TODO: completar más tarde"
   ]
  },
  {
   "cell_type": "markdown",
   "id": "7959a318",
   "metadata": {},
   "source": [
    "### Retorno de valores:\n",
    "\n",
    "Mientras que algunas funciones muestran resultados o modifican variables, otras devuelven valores que pueden ser utilizados o almacenados."
   ]
  },
  {
   "cell_type": "code",
   "execution_count": 36,
   "id": "ee440c98",
   "metadata": {},
   "outputs": [
    {
     "name": "stdout",
     "output_type": "stream",
     "text": [
      "78.53981633974483\n"
     ]
    }
   ],
   "source": [
    "def area_circulo(radio):\n",
    "    return 3.141592653589793 * (radio**2)\n",
    "\n",
    "area = area_circulo(5)\n",
    "print(area)  # Output: 78.53981633974483"
   ]
  },
  {
   "cell_type": "markdown",
   "id": "fe4ea28f",
   "metadata": {},
   "source": [
    "### Especificando el nombre de los parámetros:\n",
    "\n",
    "Las funciones pueden recibir datos específicos para trabajar, estos se definen como parámetros. Una característica poderosa de Python es que puedes especificar explícitamente el nombre del parámetro al invocar la función, permitiendo que los argumentos se pasen en cualquier orden."
   ]
  },
  {
   "cell_type": "code",
   "execution_count": 47,
   "id": "afc538b7",
   "metadata": {},
   "outputs": [
    {
     "name": "stdout",
     "output_type": "stream",
     "text": [
      "Soy Ana y tengo 30 años.\n"
     ]
    }
   ],
   "source": [
    "def presentarse(nombre, edad):\n",
    "    print(f\"Soy {nombre} y tengo {edad} años.\")\n",
    "\n",
    "presentarse(\"Ana\", 30)  # Output: Soy Ana y tengo 30 años."
   ]
  },
  {
   "cell_type": "markdown",
   "id": "d677d7f4",
   "metadata": {},
   "source": [
    "### Funciones que devuelven más de un resultado:\n",
    "\n",
    "Una función puede devolver múltiples resultados utilizando una tupla. Por ejemplo, si quieres obtener tanto el cociente como el resto de una división:"
   ]
  },
  {
   "cell_type": "code",
   "execution_count": 60,
   "id": "3082654e",
   "metadata": {},
   "outputs": [],
   "source": [
    "def dividir(a, b):\n",
    "    cociente = a // b\n",
    "    resto = a % b\n",
    "    return cociente, resto"
   ]
  },
  {
   "cell_type": "markdown",
   "id": "6431adc9",
   "metadata": {},
   "source": [
    "### Funciones como objetos y parámetros:\n",
    "\n",
    "En Python, todo es un objeto. Esto incluye números, cadenas, listas, y sí, incluso las funciones. Esta naturaleza de las funciones abre un mundo de posibilidades que no se encuentra en todos los lenguajes de programación. Vamos a desglosar este concepto:"
   ]
  },
  {
   "cell_type": "markdown",
   "id": "aa17d678",
   "metadata": {},
   "source": [
    "#### 1. Funciones asignadas a variables:\n",
    "\n",
    "Dado que las funciones son objetos, puedes asignarlas a variables, al igual que harías con cualquier otro tipo de dato."
   ]
  },
  {
   "cell_type": "code",
   "execution_count": 65,
   "id": "c648c546",
   "metadata": {},
   "outputs": [
    {
     "name": "stdout",
     "output_type": "stream",
     "text": [
      "¡Hola!\n"
     ]
    }
   ],
   "source": [
    "def saludar():\n",
    "    return \"¡Hola!\"\n",
    "\n",
    "mi_funcion = saludar\n",
    "print(mi_funcion())"
   ]
  },
  {
   "cell_type": "markdown",
   "id": "599c065a",
   "metadata": {},
   "source": [
    "En el ejemplo anterior, mi_funcion es ahora una referencia a saludar, y cuando la invocas, imprime \"¡Hola!\"."
   ]
  },
  {
   "cell_type": "markdown",
   "id": "2fa0902d",
   "metadata": {},
   "source": [
    "#### 2. Funciones pasadas como argumentos:\n",
    "\n",
    "En muchas ocasiones, nos encontramos con la necesidad de realizar operaciones repetitivas en listas, como filtrar elementos bajo ciertas condiciones. Imagina que tenemos una función llamada filtrar_pares que recibe una lista de números enteros y devuelve otra que contiene solo los números pares de la lista original."
   ]
  },
  {
   "cell_type": "code",
   "execution_count": 1,
   "id": "8d9f78e6",
   "metadata": {},
   "outputs": [
    {
     "data": {
      "text/plain": [
       "[2, 4, 6]"
      ]
     },
     "execution_count": 1,
     "metadata": {},
     "output_type": "execute_result"
    }
   ],
   "source": [
    "def filtrar_pares(numeros):\n",
    "    resultado = []\n",
    "    for numero in numeros:\n",
    "        if numero % 2 == 0:\n",
    "            resultado.append(numero)\n",
    "    return resultado\n",
    "\n",
    "numeros = [1, 2, 3, 4, 5, 6]\n",
    "filtrar_pares(numeros)\n"
   ]
  },
  {
   "cell_type": "markdown",
   "id": "52676954",
   "metadata": {},
   "source": [
    "Esta función es útil, pero es muy específica. ¿Qué pasaría si quisiéramos filtrar números mayores que cero, o cualquier otra condición? ¿Crearíamos una nueva función para cada condición? Eso no sería muy eficiente.\n",
    "\n",
    "Una solución es crear una función más general, llamada filtro, que reciba dos argumentos: una lista de números y una función que determine la condición de filtrado."
   ]
  },
  {
   "cell_type": "code",
   "execution_count": 3,
   "id": "cc16f475",
   "metadata": {},
   "outputs": [],
   "source": [
    "def filtro(condicion, numeros):\n",
    "    resultado = []\n",
    "    for numero in numeros:\n",
    "        if condicion(numero):\n",
    "            resultado.append(numero)\n",
    "    return resultado\n"
   ]
  },
  {
   "cell_type": "markdown",
   "id": "750a4c2f",
   "metadata": {},
   "source": [
    "Con esta función, podemos definir cualquier condición de filtrado que deseemos, simplemente pasando una función como argumento. Por ejemplo, podemos definir una función es_par para filtrar números pares y una función es_positivo para filtrar números positivos."
   ]
  },
  {
   "cell_type": "code",
   "execution_count": 5,
   "id": "41cde93b",
   "metadata": {},
   "outputs": [],
   "source": [
    "def es_par(numero):\n",
    "    return numero % 2 == 0\n",
    "\n",
    "def es_positivo(numero):\n",
    "    return numero > 0\n"
   ]
  },
  {
   "cell_type": "markdown",
   "id": "c6cc20b7",
   "metadata": {},
   "source": [
    "Ahora, podemos usar la función filtro con cualquiera de estas condiciones, o cualquier otra que definamos en el futuro."
   ]
  },
  {
   "cell_type": "code",
   "execution_count": 6,
   "id": "3cda3bc5",
   "metadata": {},
   "outputs": [
    {
     "name": "stdout",
     "output_type": "stream",
     "text": [
      "[2, 4, 6]\n",
      "[1, 2, 3, 4, 5, 6]\n"
     ]
    }
   ],
   "source": [
    "print(filtro(es_par, numeros))\n",
    "print(filtro(es_positivo, numeros))\n"
   ]
  },
  {
   "cell_type": "markdown",
   "id": "ef65cc89",
   "metadata": {},
   "source": [
    "Este enfoque nos brinda una gran flexibilidad, ya que podemos combinar diferentes funciones y condiciones de filtrado sin tener que reescribir la lógica principal de filtrado.\n",
    "\n",
    "_Nota: Gracias, Commit That Line!_"
   ]
  },
  {
   "cell_type": "markdown",
   "id": "02ea448b",
   "metadata": {},
   "source": [
    "#### 3. Funciones que retornan funciones:\n",
    "\n",
    "Las funciones también pueden retornar otras funciones. Esto puede ser útil en situaciones donde necesitas crear una función \"sobre la marcha\" basada en ciertos parámetros."
   ]
  },
  {
   "cell_type": "code",
   "execution_count": 74,
   "id": "a89aed25",
   "metadata": {},
   "outputs": [
    {
     "name": "stdout",
     "output_type": "stream",
     "text": [
      "9\n"
     ]
    }
   ],
   "source": [
    "def potencia(n):\n",
    "    def elevar(x):\n",
    "        return x ** n\n",
    "    return elevar\n",
    "\n",
    "cuadrado = potencia(2)\n",
    "print(cuadrado(3))  # Imprimirá 9 porque 3 al cuadrado es 9\n"
   ]
  },
  {
   "cell_type": "markdown",
   "id": "1fd235de",
   "metadata": {},
   "source": [
    "En este caso, potencia es una función que genera y devuelve una nueva función (elevar) que elevará sus argumentos a la potencia n.\n",
    "\n",
    "Estas características de las funciones en Python permiten patrones de diseño y programación avanzados, como la programación funcional, y son una de las razones por las que Python es tan versátil y poderoso."
   ]
  },
  {
   "cell_type": "markdown",
   "id": "724cf11a",
   "metadata": {},
   "source": [
    "### Funciones anónimas (lambda):\n",
    "\n",
    "A veces, necesitamos crear funciones pequeñas para tareas específicas y temporales. Python nos permite hacer esto con funciones `lambda`."
   ]
  },
  {
   "cell_type": "code",
   "execution_count": 81,
   "id": "b9806251",
   "metadata": {},
   "outputs": [
    {
     "data": {
      "text/plain": [
       "[-2, 3, -5, -7, 8]"
      ]
     },
     "execution_count": 81,
     "metadata": {},
     "output_type": "execute_result"
    }
   ],
   "source": [
    "numeros = [-5, 3, -2, 8, -7]\n",
    "ordenado_absoluto = sorted(numeros, key=lambda x: abs(x))\n",
    "ordenado_absoluto = sorted(numeros)\n",
    "ordenado_absoluto\n"
   ]
  },
  {
   "cell_type": "markdown",
   "id": "cf45b7eb",
   "metadata": {},
   "source": [
    "### Documentación de funciones:\n",
    "\n",
    "Es crucial documentar nuestras funciones. La documentación ayuda a otros (¡y a nosotros mismos!) a entender qué hace una función y cómo usarla."
   ]
  },
  {
   "cell_type": "code",
   "execution_count": null,
   "id": "be85e6e0",
   "metadata": {},
   "outputs": [],
   "source": [
    "def suma(a, b):\n",
    "    \"\"\"\n",
    "    Suma dos números y devuelve el resultado.\n",
    "    \n",
    "    Parámetros:\n",
    "    - a: Primer número.\n",
    "    - b: Segundo número.\n",
    "    \n",
    "    Retorna:\n",
    "    Suma de a y b.\n",
    "    \"\"\"\n",
    "    return a + b"
   ]
  },
  {
   "cell_type": "markdown",
   "id": "01c568c2",
   "metadata": {},
   "source": [
    "### Variables locales y globales:\n",
    "\n",
    "Las variables que defines dentro de una función tienen un ámbito local, lo que significa que no puedes acceder a ellas fuera de esa función. Pero, hay algo llamado variables globales. Estas son variables que se definen fuera de cualquier función y están disponibles en todo el código, tanto dentro como fuera de las funciones. Aunque técnicamente es posible modificar una variable global desde dentro de una función, ¡se desaconseja hacerlo! "
   ]
  },
  {
   "cell_type": "code",
   "execution_count": null,
   "id": "62cc9ca4",
   "metadata": {},
   "outputs": [],
   "source": [
    "variable_global = \"Soy global\"\n",
    "\n",
    "def modificar_global():\n",
    "    global variable_global\n",
    "    variable_global = \"He sido modificada\""
   ]
  },
  {
   "cell_type": "markdown",
   "id": "01dc0c54",
   "metadata": {},
   "source": [
    "¡Durante este curso, queda terminantemente prohibido modificar variables globales dentro de una función!"
   ]
  },
  {
   "cell_type": "markdown",
   "id": "c886705f",
   "metadata": {},
   "source": [
    "### Desafío 1:\n",
    "\n",
    "Crea una función que tome una lista de números y devuelva la suma y el promedio de esos números."
   ]
  },
  {
   "cell_type": "code",
   "execution_count": 21,
   "id": "72d519fe",
   "metadata": {},
   "outputs": [
    {
     "name": "stdout",
     "output_type": "stream",
     "text": [
      "La suma de los valores de la lista es 66 y el promedio de sus valores 6.6\n"
     ]
    }
   ],
   "source": [
    "# Funcion que toma una lista y devuelve suma y promedio\n",
    "def suma_prom_list(lista):\n",
    "    # Sumo los elementos de la lista\n",
    "    sumi = sum(lista)\n",
    "    # Hallo el promedio de los elementos de la lista\n",
    "    promi = sumi / len(lista)\n",
    "    return sumi, promi\n",
    "\n",
    "# Inicio de mi programa\n",
    "\n",
    "miLista = [4,5,8,9,12,7,8,6,1,6] # Defino la lista que voy a utilizar\n",
    "if len(miLista)!=0:\n",
    "    suma, promedio = suma_prom_list(miLista) # Llamo a la funcion definida y cargo lo que devuelve en dos variables\n",
    "    print(f\"La suma de los valores de la lista es {suma} y el promedio de sus valores {promedio}\")\n",
    "else:\n",
    "    print(\"La lista esta vacia\")"
   ]
  },
  {
   "cell_type": "markdown",
   "id": "f5388aa0",
   "metadata": {},
   "source": [
    "### Desafío 2:\n",
    "\n",
    "Diseña una función que tome una cadena y devuelva la misma cadena, pero con el primer carácter de cada palabra en mayúsculas."
   ]
  },
  {
   "cell_type": "code",
   "execution_count": 43,
   "id": "f04e0262",
   "metadata": {},
   "outputs": [
    {
     "name": "stdout",
     "output_type": "stream",
     "text": [
      "['Este', 'Texto', 'Es', 'El', 'Texto', 'De', 'Prueba']\n"
     ]
    },
    {
     "data": {
      "text/plain": [
       "'Este Texto Es El Texto De Prueba'"
      ]
     },
     "execution_count": 43,
     "metadata": {},
     "output_type": "execute_result"
    }
   ],
   "source": [
    "def capitalize_first_letters(text):\n",
    "    \"\"\"Capitaliza la primera letra de cada palabra en una cadena.\n",
    "    \n",
    "    Utiliza la función capitalize() para capitalizar la primera letra de una palabra.\n",
    "    Documentación oficial de capitalize(): https://docs.python.org/3/library/stdtypes.html#str.capitalize\n",
    "    \n",
    "    Utiliza la función split() para dividir la cadena en palabras.\n",
    "    Documentación oficial de split(): https://docs.python.org/3/library/stdtypes.html#str.split\n",
    "    \"\"\"\n",
    "    lista_pal_separadas = text.split(' ',-1)\n",
    "    lista_pal_mayus = []\n",
    "    for pal in lista_pal_separadas:\n",
    "        pal_mayus = pal.capitalize()\n",
    "        lista_pal_mayus.append(pal_mayus)\n",
    "    print(lista_pal_mayus)\n",
    "    return ' '.join(lista_pal_mayus)\n",
    "\n",
    "# Inicio la prueba\n",
    "miTexto = \"este texto es el texto de prueba\"\n",
    "miTexto = capitalize_first_letters(miTexto)\n",
    "miTexto"
   ]
  },
  {
   "cell_type": "markdown",
   "id": "30ef6503",
   "metadata": {},
   "source": [
    "### Desafío 3:\n",
    "\n",
    "Construye una función que tome dos listas y devuelva `True` si tienen al menos un elemento en común, de lo contrario, que devuelva `False`."
   ]
  },
  {
   "cell_type": "markdown",
   "id": "6a2414b9",
   "metadata": {},
   "source": [
    "### Desafío 4: Algoritmo MCD\n",
    "\n",
    "El Máximo Común Divisor (MCD) es un concepto matemático que ha sido estudiado desde tiempos antiguos. Atribuido a Euclides, el algoritmo para determinarlo es elegante y eficiente. Tu tarea es implementar una función que calcule el MCD de dos números utilizando el algoritmo de Euclides."
   ]
  }
 ],
 "metadata": {
  "kernelspec": {
   "display_name": "Python 3",
   "language": "python",
   "name": "python3"
  },
  "language_info": {
   "codemirror_mode": {
    "name": "ipython",
    "version": 3
   },
   "file_extension": ".py",
   "mimetype": "text/x-python",
   "name": "python",
   "nbconvert_exporter": "python",
   "pygments_lexer": "ipython3",
   "version": "3.11.1"
  }
 },
 "nbformat": 4,
 "nbformat_minor": 5
}
