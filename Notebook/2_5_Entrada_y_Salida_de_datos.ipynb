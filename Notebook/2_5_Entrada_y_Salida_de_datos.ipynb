{
  "cells": [
    {
      "attachments": {},
      "cell_type": "markdown",
      "metadata": {
        "id": "bSIoESZvUGyu"
      },
      "source": [
        "# El arte de la manipulación de datos en Python"
      ]
    },
    {
      "attachments": {},
      "cell_type": "markdown",
      "metadata": {
        "id": "JdvPun-h2PQB"
      },
      "source": [
        "En este cuaderno, nos adentraremos en el fascinante mundo de la entrada y salida de datos en Python, descifrando los misterios de cómo este lenguaje versátil maneja el flujo de información. Nuestro viaje nos llevará desde los pasajes más simples y cotidianos, el intercambio constante de datos a través del teclado con funciones aparentemente sencillas como input y print, hasta terrenos más desconocidos y desafiantes.\n",
        "\n",
        "A lo largo de nuestra exploración, enfrentaremos dilemas y obstáculos con los que todo programador se cruza eventualmente. ¿Cómo podemos leer y escribir datos de manera efectiva? ¿Cómo formateamos la salida de los datos para que se ajuste a nuestras necesidades y expectativas? ¿Qué pasa cuando los datos que manejamos superan la capacidad de la entrada estándar y la salida estándar y debemos recurrir a archivos externos?\n",
        "\n",
        "Estas son algunas de las preguntas que buscaremos responder. Y no sólo buscamos responderlas, sino hacerlo de tal manera que nos equipemos con herramientas que nos permitan enfrentar futuros retos con confianza y competencia.\n",
        "\n",
        "Entonces, ¿estás listo para embarcarte en este viaje de descubrimiento y aprendizaje? Adelante, pasemos la primera página y sumerjámonos en el universo de la entrada y salida de datos en Python."
      ]
    },
    {
      "attachments": {},
      "cell_type": "markdown",
      "metadata": {
        "id": "mZ1xYcXl2Zs1"
      },
      "source": [
        "## a. Lectura y escritura de datos\n",
        "La lectura y escritura de datos es un componente esencial de la programación. Python nos proporciona varias funciones integradas para esto.\n",
        "\n",
        "\n",
        "\n"
      ]
    },
    {
      "attachments": {},
      "cell_type": "markdown",
      "metadata": {
        "id": "kmRwY-SeEEGL"
      },
      "source": [
        "### La puerta de entrada: input()"
      ]
    },
    {
      "attachments": {},
      "cell_type": "markdown",
      "metadata": {
        "id": "2hs8blHnSPZR"
      },
      "source": [
        "Comenzaremos nuestro viaje en un territorio familiar: la función input(). Como algunos recordarán, esta función es nuestra línea de comunicación con el usuario, permitiéndonos recibir datos directamente de sus manos. Sin embargo, como con cualquier herramienta de comunicación, es importante entender sus reglas y peculiaridades.\n",
        "\n",
        "Por ejemplo, puede sorprender a algunos que input(), a pesar de su aparente receptividad, en realidad devuelve siempre los datos ingresados como una cadena de texto. Esto puede tener implicaciones importantes para cómo tratamos los datos más adelante en nuestro código.\n",
        "\n",
        "Consideremos el siguiente ejemplo:"
      ]
    },
    {
      "cell_type": "code",
      "execution_count": null,
      "metadata": {
        "id": "RGosNmotEJyR"
      },
      "outputs": [],
      "source": [
        "nombre = input(\"Por favor ingrese su nombre: \")\n",
        "print(\"Hola,\", nombre)"
      ]
    },
    {
      "attachments": {},
      "cell_type": "markdown",
      "metadata": {
        "id": "CakBPUgxEMTf"
      },
      "source": [
        "En este fragmento, Python solicita al usuario que ingrese su nombre. Después, toma esa entrada y la incorpora en un saludo amigable. Pero, ¿qué pasaría si necesitamos trabajar con números o con otros tipos de datos? Aquí es donde la función input() puede volverse más desafiante. Pero no te preocupes, también exploraremos formas de superar este obstáculo."
      ]
    },
    {
      "attachments": {},
      "cell_type": "markdown",
      "metadata": {
        "id": "g0RDm-6LSd8r"
      },
      "source": [
        "### Cruzando la brecha de tipos con input()"
      ]
    },
    {
      "attachments": {},
      "cell_type": "markdown",
      "metadata": {
        "id": "-THE0fYaSgym"
      },
      "source": [
        "El desafío que presenta input() radica en su naturaleza de devolver siempre una cadena de texto, incluso cuando ingresamos un número. Esto significa que si queremos hacer operaciones numéricas con la entrada del usuario, necesitaremos encontrar una manera de convertir esa entrada en un número.\n",
        "\n",
        "Por suerte, Python ofrece una solución sencilla a este problema: las funciones de conversión de tipos, como int() y float(). Estas funciones toman una cadena de texto como argumento y tratan de convertirla en un número entero o decimal, respectivamente.\n",
        "\n",
        "Vamos a probar esto con un ejemplo. Imagina que estás creando un programa para calcular el área de un círculo. El usuario proporcionará el radio, y tu programa calculará el área utilizando la fórmula matemática."
      ]
    },
    {
      "cell_type": "code",
      "execution_count": null,
      "metadata": {
        "id": "V0iyQhakSmsX"
      },
      "outputs": [],
      "source": [
        "import math\n",
        "\n",
        "radio = input(\"Por favor ingrese el radio del círculo: \")\n",
        "radio = float(radio)  # Convertimos la cadena de texto a un número decimal\n",
        "area = math.pi * (math.pow(radio, 2))\n",
        "\n",
        "\n",
        "print(\"El área del círculo es:\", area)"
      ]
    },
    {
      "attachments": {},
      "cell_type": "markdown",
      "metadata": {
        "id": "2nv9RIdNSurB"
      },
      "source": [
        "Este código primero solicita al usuario que ingrese el radio del círculo. Luego, convierte esa entrada en un número decimal para poder usarla en cálculos matemáticos. Finalmente, calcula el área del círculo utilizando el radio proporcionado y muestra el resultado.\n",
        "\n",
        "Así, con la ayuda de las funciones de conversión de tipos, podemos superar la limitación de input() y trabajar con una variedad más amplia de datos."
      ]
    },
    {
      "attachments": {},
      "cell_type": "markdown",
      "metadata": {
        "id": "ARW-4gG3EPaG"
      },
      "source": [
        "### De vuelta al exterior: print()"
      ]
    },
    {
      "attachments": {},
      "cell_type": "markdown",
      "metadata": {
        "id": "4p_XOBNsTFQw"
      },
      "source": [
        "Habiendo ya explorado cómo recibimos datos del usuario con input(), volvamos nuestra atención a cómo comunicamos datos al usuario. En esta etapa de nuestro viaje, nos encontramos con una vieja amiga: la función print().\n",
        "\n",
        "La función print() es nuestra ventana hacia el exterior, el portal a través del cual nuestros datos y resultados llegan al usuario. Al igual que con input(), el manejo efectivo de print() puede marcar una diferencia importante en cómo se percibe y utiliza nuestro programa.\n",
        "\n",
        "Tomemos un sencillo ejemplo:"
      ]
    },
    {
      "cell_type": "code",
      "execution_count": 12,
      "metadata": {
        "id": "l2jQYDhDETKN"
      },
      "outputs": [
        {
          "name": "stdout",
          "output_type": "stream",
          "text": [
            "Hola, Juan\n"
          ]
        }
      ],
      "source": [
        "nombre = \"Juan\"\n",
        "print(\"Hola,\", nombre)"
      ]
    },
    {
      "attachments": {},
      "cell_type": "markdown",
      "metadata": {
        "id": "YB7g0LDpEW4-"
      },
      "source": [
        "En este escenario, Python toma la cadena de texto \"Juan\" almacenada en la variable nombre y la combina con un saludo amigable, que luego se imprime en la consola, resultando en el mensaje \"Hola, Juan\". Pero, ¿qué sucede si queremos dar formato a la salida de nuestros datos de manera más sofisticada? Ahí es donde print() revela otra de sus habilidades. Continuemos para descubrir más acerca de esta versátil función.\n",
        "\n"
      ]
    },
    {
      "attachments": {},
      "cell_type": "markdown",
      "metadata": {
        "id": "LohaSkPr2e2k"
      },
      "source": [
        "## b. Formateo de salida"
      ]
    },
    {
      "attachments": {},
      "cell_type": "markdown",
      "metadata": {
        "id": "PHXEo4y4TjT1"
      },
      "source": [
        "Mientras continuamos nuestro viaje, nos encontramos con una habilidad esencial que todo programador debería dominar: el formateo de salida. Después de todo, los datos sin un formato adecuado pueden resultar en mensajes confusos o difíciles de leer. Un buen formateo de salida puede mejorar drásticamente la legibilidad y la interpretación de nuestros datos, lo cual es esencial para una comunicación efectiva con el usuario.\n",
        "\n",
        "Python nos ofrece varias herramientas poderosas para formatear la salida de los datos. Dos de las más notables son la función format() y las f-strings. Ambas nos permiten incrustar variables dentro de las cadenas de texto, de forma que se puedan crear mensajes dinámicos.\n",
        "\n",
        "Explorémoslo con un par de ejemplos.\n",
        "\n",
        "Usando la función format():"
      ]
    },
    {
      "cell_type": "code",
      "execution_count": null,
      "metadata": {
        "id": "0iuWjpkQTkNH"
      },
      "outputs": [],
      "source": [
        "nombre = \"Juan\"\n",
        "edad = 30\n",
        "print(\"Mi nombre es {} y tengo {} años.\".format(nombre, edad))"
      ]
    },
    {
      "attachments": {},
      "cell_type": "markdown",
      "metadata": {
        "id": "27iEEN-PTmwE"
      },
      "source": [
        "En este ejemplo, las llaves {} actúan como marcadores de posición para las variables que se pasan a la función format(). Python las reemplaza con las variables nombre y edad en el orden en que se proporcionan.\n",
        "\n",
        "Ahora, veamos las f-strings:"
      ]
    },
    {
      "cell_type": "code",
      "execution_count": 19,
      "metadata": {
        "id": "iswKuEiaTn3E"
      },
      "outputs": [
        {
          "name": "stdout",
          "output_type": "stream",
          "text": [
            "Mi nombre es Juan y tengo 30 años.\n"
          ]
        }
      ],
      "source": [
        "nombre = \"Juan\"\n",
        "edad = 30\n",
        "print(f\"Mi nombre es {nombre} y tengo {edad} años.\")"
      ]
    },
    {
      "attachments": {},
      "cell_type": "markdown",
      "metadata": {
        "id": "X8-pYtCjTq5v"
      },
      "source": [
        "Las f-strings funcionan de manera similar a format(), pero permiten insertar las variables directamente dentro de las llaves {}. Esto puede hacer que el código sea más legible cuando se trabaja con muchas variables.\n",
        "\n",
        "Ambos ejemplos producirán la misma salida: \"Mi nombre es Juan y tengo 30 años\". Sin embargo, cada método tiene sus propias ventajas y desventajas, por lo que vale la pena explorar ambos para encontrar el que mejor se adapte a tus necesidades."
      ]
    },
    {
      "attachments": {},
      "cell_type": "markdown",
      "metadata": {
        "id": "CcXI6qRtE4Br"
      },
      "source": [
        "# Desafíos"
      ]
    },
    {
      "attachments": {},
      "cell_type": "markdown",
      "metadata": {
        "id": "7xE9id7qEoSm"
      },
      "source": [
        "## Desafío 1: Saludo Personalizado\n",
        "Escriba un programa que pida al usuario su nombre y su ciudad de origen, luego imprima un saludo personalizado con esa información."
      ]
    },
    {
      "attachments": {},
      "cell_type": "markdown",
      "metadata": {
        "id": "eGrCFh-QE8s3"
      },
      "source": [
        "## Desafío 2: Calculadora Simple\n",
        "Escriba un programa que pida al usuario que ingrese dos números y luego imprima la suma, la resta, la multiplicación y la división de esos números."
      ]
    },
    {
      "attachments": {},
      "cell_type": "markdown",
      "metadata": {
        "id": "bbZkRBdNE-WD"
      },
      "source": [
        "## Desafío 3: Formateo de Factura\n",
        "Escriba un programa que pueda tomar los detalles de los productos (nombre, cantidad, precio) y produzca una factura bien formateada."
      ]
    },
    {
      "attachments": {},
      "cell_type": "markdown",
      "metadata": {
        "id": "Dxd7g_xlFh5a"
      },
      "source": [
        "# Problemas"
      ]
    },
    {
      "attachments": {},
      "cell_type": "markdown",
      "metadata": {
        "id": "9aHzmEWGFjd1"
      },
      "source": [
        "## Problema 1: Conversor de Unidades de Temperatura\n",
        "Supongamos que se quiere convertir una temperatura dada en grados Fahrenheit a grados Celsius. Sabemos que los grados Fahrenheit pueden ser convertidos a grados Celsius usando la fórmula:\n",
        "\n",
        "(°F - 32) * 5/9 = °C.\n",
        "\n",
        "Podemos solicitar al usuario que ingrese una temperatura en grados Fahrenheit y luego convertirla a grados Celsius."
      ]
    },
    {
      "cell_type": "code",
      "execution_count": null,
      "metadata": {
        "id": "9s64CLTGFpKN"
      },
      "outputs": [],
      "source": [
        "# Pedimos al usuario que ingrese la temperatura en grados Fahrenheit\n",
        "fahrenheit = float(input(\"Ingrese la temperatura en grados Fahrenheit: \"))\n",
        "\n",
        "# Convertimos la temperatura a grados Celsius\n",
        "celsius = (fahrenheit - 32) * 5/9\n",
        "\n",
        "# Imprimimos el resultado\n",
        "print(f\"{fahrenheit} grados Fahrenheit son equivalentes a {celsius:.2f} grados Celsius.\")"
      ]
    },
    {
      "attachments": {},
      "cell_type": "markdown",
      "metadata": {
        "id": "wwJ8wQ1JFohi"
      },
      "source": [
        "## Problema 2: Calculadora de Indice de Masa Corporal (IMC)\n",
        "Se desea crear una herramienta que calcule el IMC de una persona. Sabemos que el IMC se calcula dividiendo el peso de la persona (en kilogramos) por el cuadrado de su altura (en metros).\n",
        "\n",
        "Podemos solicitar al usuario que ingrese su peso y su altura y luego usar esa información para calcular su IMC."
      ]
    },
    {
      "cell_type": "code",
      "execution_count": null,
      "metadata": {
        "id": "EgYNXWsXFvRG"
      },
      "outputs": [],
      "source": [
        "# Pedimos al usuario que ingrese su peso\n",
        "peso = float(input(\"Ingrese su peso en kilogramos: \"))\n",
        "\n",
        "# Pedimos al usuario que ingrese su altura\n",
        "altura = float(input(\"Ingrese su altura en metros: \"))\n",
        "\n",
        "# Calculamos el IMC\n",
        "imc = peso / altura**2\n",
        "\n",
        "# Imprimimos el resultado\n",
        "print(f\"Su Indice de Masa Corporal es {imc:.2f}.\")"
      ]
    },
    {
      "attachments": {},
      "cell_type": "markdown",
      "metadata": {
        "id": "y_DjOlVxFuta"
      },
      "source": [
        "## Problema 3: Solicitar Información Personal\n",
        "Queremos solicitar a un usuario que ingrese su nombre, su apellido y su año de nacimiento y luego queremos imprimir esa información en un formato específico."
      ]
    },
    {
      "cell_type": "code",
      "execution_count": null,
      "metadata": {
        "id": "ziHzFGPVF4RP"
      },
      "outputs": [],
      "source": [
        "# Pedimos al usuario que ingrese su nombre\n",
        "nombre = input(\"Ingrese su nombre: \")\n",
        "\n",
        "# Pedimos al usuario que ingrese su apellido\n",
        "apellido = input(\"Ingrese su apellido: \")\n",
        "\n",
        "# Pedimos al usuario que ingrese su año de nacimiento\n",
        "anio_nacimiento = int(input(\"Ingrese su año de nacimiento: \"))\n",
        "\n",
        "# Calculamos la edad aproximada del usuario\n",
        "edad = 2023 - anio_nacimiento  # Asumiendo que el año actual es 2023\n",
        "\n",
        "# Imprimimos la información en un formato específico\n",
        "print(f\"Nombre: {nombre}\\nApellido: {apellido}\\nEdad aproximada: {edad} años.\")"
      ]
    },
    {
      "attachments": {},
      "cell_type": "markdown",
      "metadata": {
        "id": "kYsKYdMnGG1R"
      },
      "source": [
        "## Problema 4: Lectura y Escritura en Archivos\n",
        "Supongamos que somos profesores y necesitamos procesar las calificaciones de nuestros alumnos. Los datos se almacenan en un archivo CSV, y nuestro trabajo es leer ese archivo, calcular el promedio de las calificaciones y luego escribir ese promedio en un nuevo archivo.\n",
        "\n",
        "input() y print() no son adecuados aquí porque estamos trabajando con archivos y no con entradas de usuario o impresiones en la consola."
      ]
    },
    {
      "cell_type": "code",
      "execution_count": 34,
      "metadata": {
        "id": "xh-tc10NGLiV"
      },
      "outputs": [],
      "source": [
        "import csv\n",
        "\n",
        "# Leemos el archivo CSV\n",
        "with open('calificaciones.csv', 'r') as archivo_calificaciones:\n",
        "    lector = csv.reader(archivo_calificaciones)\n",
        "    next(lector)  # Saltamos la cabecera del archivo\n",
        "    \n",
        "    suma_total = 0\n",
        "    contador = 0\n",
        "    for fila in lector:\n",
        "        suma_total += float(fila[1])  # Asumimos que la calificación está en la segunda columna\n",
        "        contador += 1\n",
        "\n",
        "# Calculamos el promedio\n",
        "promedio = suma_total / contador if contador else 0\n",
        "\n",
        "# Escribimos el promedio de calificaciones en un nuevo archivo\n",
        "with open('promedio_calificaciones.txt', 'w') as archivo_promedio:\n",
        "    archivo_promedio.write(f\"El promedio de las calificaciones es: {promedio}\\n\")"
      ]
    },
    {
      "attachments": {},
      "cell_type": "markdown",
      "metadata": {
        "id": "ozLyGdk-GQBC"
      },
      "source": [
        "## Problema 5: Interactuando con una API web\n",
        "Imagina que estás escribiendo un programa que necesita interactuar con una API web para obtener datos en tiempo real, como el precio actual de una criptomoneda.\n",
        "\n",
        "input() y print() no son suficientes aquí porque necesitamos enviar una solicitud HTTP a una API web y procesar la respuesta JSON que recibimos."
      ]
    },
    {
      "cell_type": "code",
      "execution_count": null,
      "metadata": {
        "id": "WaWHwzPDGWn2"
      },
      "outputs": [],
      "source": [
        "import requests\n",
        "import json\n",
        "\n",
        "# Hacemos una solicitud GET a la API de CoinDesk para obtener el precio actual de Bitcoin\n",
        "respuesta = requests.get(\"https://api.coindesk.com/v1/bpi/currentprice/BTC.json\")\n",
        "\n",
        "# Convertimos la respuesta a JSON\n",
        "datos = respuesta.json()\n",
        "\n",
        "# Obtenemos el precio actual de Bitcoin en USD\n",
        "precio_bitcoin = datos['bpi']['USD']['rate']\n",
        "\n",
        "# Imprimimos el precio actual\n",
        "print(f\"El precio actual de Bitcoin es: {precio_bitcoin} USD\")\n"
      ]
    },
    {
      "attachments": {},
      "cell_type": "markdown",
      "metadata": {
        "id": "5Y88lS6zK8Up"
      },
      "source": [
        "## Problema 6:Lectura, Análisis y Visualización de Calificaciones\n",
        "omo profesor, ahora tienes los datos de calificaciones de tus estudiantes en un archivo CSV y necesitas hacer un análisis más detallado. Tu tarea es leer el archivo, calcular el promedio de las calificaciones, y además, visualizar la distribución de las calificaciones a través de un gráfico. La visualización te permitirá tener una imagen más clara de cómo se distribuyen las calificaciones de los estudiantes."
      ]
    },
    {
      "attachments": {},
      "cell_type": "markdown",
      "metadata": {
        "id": "CkrKCOOALGwI"
      },
      "source": [
        "Primero, necesitarás importar las bibliotecas pandas y matplotlib.pyplot:"
      ]
    },
    {
      "cell_type": "code",
      "execution_count": 10,
      "metadata": {
        "id": "FVWSd73fLJ8Z"
      },
      "outputs": [],
      "source": [
        "import pandas as pd\n",
        "import matplotlib.pyplot as plt\n"
      ]
    },
    {
      "attachments": {},
      "cell_type": "markdown",
      "metadata": {
        "id": "FAgqJ1RmLMie"
      },
      "source": [
        "Luego, lee el archivo CSV y calcula el promedio:"
      ]
    },
    {
      "cell_type": "code",
      "execution_count": null,
      "metadata": {
        "id": "2htie40aLQZE"
      },
      "outputs": [],
      "source": [
        "# Leemos el archivo CSV\n",
        "df = pd.read_csv('calificaciones.csv')\n",
        "\n",
        "# Calculamos el promedio\n",
        "promedio = df['Calificacion'].mean() #mean() calcula la media aritmetica\n",
        "print(f\"El promedio de las calificaciones es: {promedio}\")\n"
      ]
    },
    {
      "attachments": {},
      "cell_type": "markdown",
      "metadata": {
        "id": "vHhNV-72LQ8e"
      },
      "source": [
        "Finalmente, utiliza matplotlib para crear un histograma de las calificaciones:\n",
        "\n"
      ]
    },
    {
      "cell_type": "code",
      "execution_count": null,
      "metadata": {
        "id": "aN1gJfefLT6n"
      },
      "outputs": [],
      "source": [
        "# Definimos los bordes de los contenedores para que estén centrados en los números enteros\n",
        "bins = [i - 0.5 for i in range(2, 12)]  # Los contenedores estarán centrados en números de 1 a 10\n",
        "\n",
        "# Creamos un histograma de las calificaciones\n",
        "plt.hist(df['Calificacion'], bins=bins, edgecolor='black')\n",
        "plt.title('Distribución de las Calificaciones')\n",
        "plt.xlabel('Calificaciones')\n",
        "plt.ylabel('Cantidad de Estudiantes')\n",
        "plt.xticks(range(1, 11))  # Para que los números enteros aparezcan en el eje x\n",
        "plt.show()\n"
      ]
    },
    {
      "attachments": {},
      "cell_type": "markdown",
      "metadata": {
        "id": "td-r0UDPLWtQ"
      },
      "source": [
        "Este código creará un histograma que muestra la distribución de las calificaciones de los estudiantes, permitiéndote ver cuántos estudiantes obtuvieron cada calificación. Esto puede darte una idea más clara de cómo se distribuyen las calificaciones en general."
      ]
    },
    {
      "attachments": {},
      "cell_type": "markdown",
      "metadata": {
        "id": "9hPyNldoLWno"
      },
      "source": [
        "---\n",
        "Además de un histograma, hay varias otras visualizaciones que podrías considerar. Aquí hay algunas ideas:\n",
        "\n",
        "*Gráfico de barras:* Podrías crear un gráfico de barras donde cada barra representa a un estudiante y la altura de la barra representa su calificación."
      ]
    },
    {
      "cell_type": "code",
      "execution_count": null,
      "metadata": {
        "id": "kBILdrh0Mb19"
      },
      "outputs": [],
      "source": [
        "plt.figure(figsize=(10, 6))\n",
        "plt.bar(df['Nombre'], df['Calificacion'], color='skyblue')\n",
        "plt.title('Calificaciones de los Estudiantes')\n",
        "plt.xlabel('Estudiantes')\n",
        "plt.ylabel('Calificaciones')\n",
        "plt.xticks(rotation=45)  # Esto rotará los nombres de los estudiantes para una mejor lectura\n",
        "plt.show()\n"
      ]
    },
    {
      "attachments": {},
      "cell_type": "markdown",
      "metadata": {
        "id": "kA5RHUjePEmu"
      },
      "source": [
        "## Problema 7: ¿Qué pasó con las calificaciones de Carlos?\n",
        "Te encuentras analizando las calificaciones de tus estudiantes y decides visualizar los datos en un gráfico de barras para tener una visión más clara. Sin embargo, te das cuenta de que algo no cuadra. Carlos, uno de tus estudiantes, aparece con una sola calificación de 8 en el gráfico, pero tú recuerdas claramente que él tiene dos calificaciones registradas, una de 8 y otra de 6.\n",
        "\n",
        "Te preguntas, ¿qué está pasando? ¿Cómo puedes asegurarte de que todas las calificaciones de Carlos (y de cualquier otro estudiante que pueda tener más de una calificación) sean tenidas en cuenta en tu gráfico?"
      ]
    },
    {
      "attachments": {},
      "cell_type": "markdown",
      "metadata": {
        "id": "BKNV8AVNPKI0"
      },
      "source": [
        "---\n",
        "\n",
        "*Solución*El gráfico de barras que generaste originalmente toma cada calificación como una entrada individual. Si hay más de una entrada con el mismo nombre, sólo se considera una de ellas. Por tanto, necesitas una forma de agrupar todas las calificaciones de cada estudiante y luego graficar la calificación promedio de cada uno.\n",
        "\n",
        "Aquí es donde entra en juego la función groupby de Pandas. Esta función te permite agrupar tus datos según algún criterio. En este caso, quieres agrupar los datos por el nombre del estudiante. Luego puedes calcular el promedio de las calificaciones para cada estudiante y finalmente visualizar estos datos.\n",
        "\n",
        "Aquí está el código revisado que resuelve tu problema:\n"
      ]
    },
    {
      "cell_type": "code",
      "execution_count": null,
      "metadata": {
        "id": "q01IReXaPQ52"
      },
      "outputs": [],
      "source": [
        "# Agrupamos por nombre y calculamos el promedio de las calificaciones\n",
        "df_agrupado = df.groupby('Nombre')['Calificacion'].mean().reset_index()\n",
        "\n",
        "# Ordenamos el DataFrame por la columna 'Calificacion'\n",
        "#df_agrupado = df_agrupado.sort_values('Calificacion', ascending=False)\n",
        "# Descomenta lo anterior luego de probar la solución como se plantea\n",
        "\n",
        "# Creamos el gráfico de barras con los datos agrupados\n",
        "plt.figure(figsize=(10, 6))\n",
        "plt.bar(df_agrupado['Nombre'], df_agrupado['Calificacion'], color='skyblue')\n",
        "plt.title('Promedio de Calificaciones por Estudiante')\n",
        "plt.xlabel('Estudiantes')\n",
        "plt.ylabel('Promedio de Calificaciones')\n",
        "plt.xticks(rotation=45)\n",
        "plt.show()\n"
      ]
    },
    {
      "attachments": {},
      "cell_type": "markdown",
      "metadata": {
        "id": "oHi5UHgWQNIx"
      },
      "source": [
        "# Mensaje final\n",
        "¡Enhorabuena! Ahora tienes un mejor manejo de las técnicas de entrada y salida de datos en Python, desde el uso básico de input() y print(), hasta la lectura y escritura de archivos con el módulo csv y pandas. Hemos visto cómo pandas facilita el análisis de datos y la generación de gráficos de manera eficiente.\n",
        "\n",
        "Ten en cuenta que solo hemos arañado la superficie de lo que pandas puede hacer. Hay muchos otros métodos útiles disponibles. A continuación, te proporciono una tabla de referencia rápida de algunos de los métodos más importantes que podrías explorar a continuación.\n",
        "\n",
        "| Método        | Ejemplo                   | Descripción                      |\n",
        "|---------------|---------------------------------------------|-------------------------------------------------------------|\n",
        "| `read_excel()`   | `df = pd.read_excel('file.xlsx')` | Lee un archivo de Excel.                                    |\n",
        "| `to_excel()`     | `df.to_excel('new_file.xlsx')`               | Escribe un DataFrame a un archivo de Excel.                 |\n",
        "| `head()`         | `df.head()`                                  | Muestra las primeras 5 filas del DataFrame.                 |\n",
        "| `tail()`         | `df.tail()`                                  | Muestra las últimas 5 filas del DataFrame.                  |\n",
        "| `describe()`     | `df.describe()`                              | Genera estadísticas descriptivas.                           |\n",
        "| `drop()`         | `df.drop('column', axis=1)`                  | Elimina una columna o fila.                                 |\n",
        "| `merge()`        | `df = df1.merge(df2, on='key')`              | Combina dos DataFrames basados en una clave común.          |\n",
        "| `concat()`       | `df = pd.concat([df1, df2])`                 | Combina dos DataFrames a lo largo de un eje.                |\n",
        "| `pivot_table()`  | `df.pivot_table(values='D', index=['A', 'B'], columns=['C'])` | Crea una tabla dinámica. |\n",
        "| `isnull()`       | `df.isnull()`                                | Detecta valores perdidos.                                   |\n"
      ]
    },
    {
      "attachments": {},
      "cell_type": "markdown",
      "metadata": {
        "id": "yrJFeESOQnBh"
      },
      "source": [
        "*Recuerda, la práctica hace al maestro. Continúa explorando, aprendiendo y aplicando lo que aprendes en tus propios proyectos. ¡Feliz codificación!*"
      ]
    }
  ],
  "metadata": {
    "colab": {
      "provenance": [],
      "toc_visible": true
    },
    "kernelspec": {
      "display_name": "Python 3",
      "name": "python3"
    },
    "language_info": {
      "codemirror_mode": {
        "name": "ipython",
        "version": 3
      },
      "file_extension": ".py",
      "mimetype": "text/x-python",
      "name": "python",
      "nbconvert_exporter": "python",
      "pygments_lexer": "ipython3",
      "version": "3.11.1"
    }
  },
  "nbformat": 4,
  "nbformat_minor": 0
}
