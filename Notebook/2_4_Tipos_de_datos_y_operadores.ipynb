{
  "cells": [
    {
      "attachments": {},
      "cell_type": "markdown",
      "metadata": {
        "colab_type": "text",
        "id": "view-in-github"
      },
      "source": [
        "<a href=\"https://colab.research.google.com/github/Domingo1987/Curso-Python/blob/main/2_4_Tipos_de_datos_y_operadores.ipynb\" target=\"_parent\"><img src=\"https://colab.research.google.com/assets/colab-badge.svg\" alt=\"Open In Colab\"/></a>"
      ]
    },
    {
      "attachments": {},
      "cell_type": "markdown",
      "metadata": {
        "id": "Zrf6O3RVkwZ9"
      },
      "source": [
        "# Identificadores, constantes y variables\n",
        "En Python, un identificador es un nombre que se utiliza para identificar una variable, función, clase, módulo u otro objeto. Los identificadores son sensibles a mayúsculas y minúsculas y deben seguir ciertas reglas de nomenclatura. Para nombrar los identificadores en Python, se utilizan letras, números y guiones bajos. Sin embargo, el primer carácter no puede ser un número y no se permiten espacios ni caracteres especiales.\n",
        "\n",
        "Por ejemplo, los siguientes son identificadores válidos en Python:"
      ]
    },
    {
      "cell_type": "code",
      "execution_count": null,
      "metadata": {},
      "outputs": [],
      "source": [
        "import colorama"
      ]
    },
    {
      "cell_type": "code",
      "execution_count": null,
      "metadata": {
        "id": "ZiisGTVzPvj_"
      },
      "outputs": [],
      "source": [
        "print(colorama.Fore.Red + \"ALERTA ROJA\")"
      ]
    },
    {
      "attachments": {},
      "cell_type": "markdown",
      "metadata": {
        "id": "0nfjr3nIl2gE"
      },
      "source": [
        "Mientras que los siguientes no son identificadores válidos:"
      ]
    },
    {
      "cell_type": "code",
      "execution_count": null,
      "metadata": {
        "id": "YFSXdTXrPsHY"
      },
      "outputs": [],
      "source": [
        "2d_array  # el primer carácter no puede ser un número\n",
        "mi identificador  # no se permiten espacios\n",
        "total$  # no se permiten caracteres especiales"
      ]
    },
    {
      "attachments": {},
      "cell_type": "markdown",
      "metadata": {
        "id": "_4bajzrTl7mA"
      },
      "source": [
        "Las constantes son valores que no cambian durante la ejecución de un programa. En Python, se utilizan variables para almacenar constantes. Las constantes pueden ser números, cadenas de texto, booleanos o cualquier otro valor inmutable.\n",
        "\n",
        "Por ejemplo, los siguientes son constantes en Python:"
      ]
    },
    {
      "cell_type": "code",
      "execution_count": 1,
      "metadata": {
        "id": "e9y8hSkyl8iM"
      },
      "outputs": [],
      "source": [
        "PI = 3.14159\n",
        "NOMBRE_EMPRESA = \"Acme Corporation\"\n",
        "ES_POSITIVO = True"
      ]
    },
    {
      "attachments": {},
      "cell_type": "markdown",
      "metadata": {
        "id": "3js_bf3Tl_KU"
      },
      "source": [
        "Las variables en Python son objetos que se utilizan para almacenar datos. Las variables se crean cuando se les asigna un valor y pueden cambiar durante la ejecución de un programa.\n",
        "\n",
        "Por ejemplo, el siguiente código crea una variable llamada edad y le asigna el valor 25:"
      ]
    },
    {
      "cell_type": "code",
      "execution_count": null,
      "metadata": {
        "id": "IZqYUDokmAc9"
      },
      "outputs": [],
      "source": [
        "edad = 25"
      ]
    },
    {
      "attachments": {},
      "cell_type": "markdown",
      "metadata": {
        "id": "JuC930pzmDF4"
      },
      "source": [
        "En Python, las variables no necesitan ser declaradas antes de usarlas. Python automáticamente asigna un tipo de datos a las variables basándose en el valor que se les asigna. Por ejemplo, si se asigna un número entero a una variable, Python automáticamente la considerará como una variable de tipo int. Si se asigna una cadena de texto a una variable, Python la considerará como una variable de tipo str.\n",
        "\n",
        "Es importante tener en cuenta que las variables en Python son sensibles a mayúsculas y minúsculas. Esto significa que las variables edad y Edad son dos variables diferentes en Python.\n",
        "\n",
        "Además, las variables en Python pueden ser eliminadas utilizando la palabra clave del. Por ejemplo, el siguiente código elimina la variable edad:"
      ]
    },
    {
      "cell_type": "code",
      "execution_count": null,
      "metadata": {
        "id": "_8Hw11Mop0yX"
      },
      "outputs": [],
      "source": [
        "del edad"
      ]
    },
    {
      "attachments": {},
      "cell_type": "markdown",
      "metadata": {
        "id": "MSeGFRBik5fO"
      },
      "source": [
        "# Tipos de datos simples. Enteros, reales, booleanos y caracteres."
      ]
    },
    {
      "attachments": {},
      "cell_type": "markdown",
      "metadata": {
        "id": "oO7oT2c8ncdw"
      },
      "source": [
        "En programación, los datos son la información que se manipula. Los lenguajes de programación trabajan con diferentes tipos de datos para poder manipular la información. En este artículo nos enfocaremos en los tipos de datos simples en Python, que son los más básicos y fundamentales para cualquier programa.\n",
        "\n",
        "Python es un lenguaje de programación orientado a objetos, lo que significa que cada valor en Python es un objeto. Un objeto es una estructura de datos que puede tener atributos (variables) y métodos (funciones). Los objetos en Python tienen un tipo que determina qué operaciones se pueden realizar con ellos.\n",
        "\n",
        "Tipos de datos simples\n",
        "\n",
        "Los tipos de datos simples en Python se dividen en cuatro categorías: enteros, reales, booleanos y caracteres. En Python también existe un tipo de dato complejo, que nos permite trabajar con números complejos.\n",
        "\n",
        "Enteros (int)\n",
        "\n",
        "Los enteros son números sin parte decimal. En Python, los enteros se representan con el tipo de datos int. Los enteros se pueden representar en notación decimal, binaria, octal y hexadecimal.\n",
        "\n",
        "Por ejemplo, para definir una variable entera y mostrar su valor y tipo, podemos hacer lo siguiente:"
      ]
    },
    {
      "cell_type": "code",
      "execution_count": 2,
      "metadata": {
        "colab": {
          "base_uri": "https://localhost:8080/"
        },
        "id": "06T-FpltlAzM",
        "outputId": "6e671900-9d2d-4eb3-f605-5314ebd18797"
      },
      "outputs": [
        {
          "name": "stdout",
          "output_type": "stream",
          "text": [
            "Número entero: 10 Tipo: <class 'int'>\n"
          ]
        }
      ],
      "source": [
        "numero_entero = 10\n",
        "print(\"Número entero:\", numero_entero, \"Tipo:\", type(numero_entero))"
      ]
    },
    {
      "attachments": {},
      "cell_type": "markdown",
      "metadata": {
        "id": "aOIsGOpToyFL"
      },
      "source": [
        "Reales (float)\n",
        "\n",
        "Los números reales son aquellos que tienen una parte decimal. En Python, los números reales se representan con el tipo de datos float.\n",
        "\n",
        "Por ejemplo, para definir una variable real y mostrar su valor y tipo, podemos hacer lo siguiente:"
      ]
    },
    {
      "cell_type": "code",
      "execution_count": 3,
      "metadata": {
        "colab": {
          "base_uri": "https://localhost:8080/"
        },
        "id": "c70s0pL2ozrz",
        "outputId": "27ff36bc-8478-45c5-f728-c086b0198525"
      },
      "outputs": [
        {
          "name": "stdout",
          "output_type": "stream",
          "text": [
            "Número real: 3.1416 Tipo: <class 'float'>\n"
          ]
        }
      ],
      "source": [
        "numero_real = 3.1416\n",
        "print(\"Número real:\", numero_real, \"Tipo:\", type(numero_real))"
      ]
    },
    {
      "attachments": {},
      "cell_type": "markdown",
      "metadata": {
        "id": "IcuK_DDbo1V7"
      },
      "source": [
        "Booleanos (bool)\n",
        "\n",
        "Los booleanos son tipos de datos que solo pueden tomar dos valores: True (verdadero) o False (falso). En Python, los booleanos se representan con el tipo de datos bool.\n",
        "\n",
        "Por ejemplo, para definir una variable booleana y mostrar su valor y tipo, podemos hacer lo siguiente:"
      ]
    },
    {
      "cell_type": "code",
      "execution_count": null,
      "metadata": {
        "colab": {
          "base_uri": "https://localhost:8080/"
        },
        "id": "hUPItMuOo2tV",
        "outputId": "949e5f21-d262-4a00-8eeb-a390abd00480"
      },
      "outputs": [
        {
          "name": "stdout",
          "output_type": "stream",
          "text": [
            "Booleano: True Tipo: <class 'bool'>\n"
          ]
        }
      ],
      "source": [
        "verdadero = True\n",
        "print(\"Booleano:\", verdadero, \"Tipo:\", type(verdadero))"
      ]
    },
    {
      "attachments": {},
      "cell_type": "markdown",
      "metadata": {
        "id": "KjdmzyUEo4R1"
      },
      "source": [
        "Caracteres (str)\n",
        "\n",
        "Los caracteres son un tipo de dato que representa un solo carácter. En Python, los caracteres se representan con el tipo de datos str.\n",
        "\n",
        "Por ejemplo, para definir una variable de tipo carácter y mostrar su valor y tipo, podemos hacer lo siguiente:"
      ]
    },
    {
      "cell_type": "code",
      "execution_count": null,
      "metadata": {
        "colab": {
          "base_uri": "https://localhost:8080/"
        },
        "id": "kM2ChOYlo7A8",
        "outputId": "1d25a0a0-2b05-4b62-acbc-9b4351289625"
      },
      "outputs": [
        {
          "name": "stdout",
          "output_type": "stream",
          "text": [
            "Carácter: a Tipo: <class 'str'>\n"
          ]
        }
      ],
      "source": [
        "caracter = 'a'\n",
        "print(\"Carácter:\", caracter, \"Tipo:\", type(caracter))"
      ]
    },
    {
      "attachments": {},
      "cell_type": "markdown",
      "metadata": {
        "id": "EKGsVhsho8k8"
      },
      "source": [
        "Complejos (complex)\n",
        "\n",
        "Los números complejos son aquellos que tienen una parte real y una parte imaginaria. En Python, los números complejos se representan con el tipo de datos complex.\n",
        "\n",
        "Por ejemplo, para definir una variable compleja y mostrar su valor y tipo, podemos hacer lo siguiente:"
      ]
    },
    {
      "cell_type": "code",
      "execution_count": null,
      "metadata": {
        "colab": {
          "base_uri": "https://localhost:8080/"
        },
        "id": "H31l86bZo-HL",
        "outputId": "09dfea8e-e07d-46db-c29b-3eba5349b406"
      },
      "outputs": [
        {
          "name": "stdout",
          "output_type": "stream",
          "text": [
            "Número complejo: (2+3j) Tipo: <class 'complex'>\n"
          ]
        }
      ],
      "source": [
        "numero_complejo = 2+3j\n",
        "print(\"Número complejo:\", numero_complejo, \"Tipo:\", type(numero_complejo))"
      ]
    },
    {
      "attachments": {},
      "cell_type": "markdown",
      "metadata": {
        "id": "jmd7_BeKnE5v"
      },
      "source": [
        "# Operadores lógicos y de comparación"
      ]
    },
    {
      "attachments": {},
      "cell_type": "markdown",
      "metadata": {
        "id": "Y-pk7Jr1nJpo"
      },
      "source": [
        "Los operadores lógicos y de comparación son fundamentales en la programación, ya que permiten evaluar condiciones y realizar acciones basadas en el resultado de esas condiciones. En Python, tenemos operadores de comparación para comparar valores y operadores lógicos para combinar condiciones.\n",
        "\n",
        "## Operadores de comparación\n",
        "Los operadores de comparación son utilizados para comparar dos valores y devuelven un valor booleano, es decir, True o False. Los operadores de comparación en Python incluyen:\n",
        "\n",
        "* Igual (==)\n",
        "* Diferente (!=)\n",
        "* Mayor que (>)\n",
        "* Menor que (<)\n",
        "* Mayor o igual que (>=)\n",
        "* Menor o igual que (<=)\n",
        "\n",
        "Ejemplo de uso de operadores de comparación:"
      ]
    },
    {
      "cell_type": "code",
      "execution_count": null,
      "metadata": {
        "id": "TMp9NMFkrvxW"
      },
      "outputs": [],
      "source": [
        "a = 5\n",
        "b = 7\n",
        "\n",
        "print(\"a == b:\", a == b) # Falso, porque 5 no es igual a 7\n",
        "print(\"a != b:\", a != b) # Verdadero, porque 5 es diferente de 7\n",
        "print(\"a > b:\", a > b)   # Falso, porque 5 no es mayor que 7\n",
        "print(\"a < b:\", a < b)   # Verdadero, porque 5 es menor que 7\n",
        "print(\"a >= b:\", a >= b) # Falso, porque 5 no es mayor o igual que 7\n",
        "print(\"a <= b:\", a <= b) # Verdadero, porque 5 es menor o igual que 7"
      ]
    },
    {
      "attachments": {},
      "cell_type": "markdown",
      "metadata": {
        "id": "g_p9h7s6r0Dx"
      },
      "source": [
        "## Operadores lógicos\n",
        "Los operadores lógicos son utilizados para combinar condiciones. Los operadores lógicos en Python incluyen:\n",
        "\n",
        "* and: Devuelve True si ambas condiciones son verdaderas, de lo contrario devuelve False.\n",
        "* or: Devuelve True si al menos una de las condiciones es verdadera, de lo contrario devuelve False.\n",
        "* not: Devuelve True si la condición es falsa, y False si la condición es verdadera.\n",
        "\n",
        "Ejemplo de uso de operadores lógicos:"
      ]
    },
    {
      "cell_type": "code",
      "execution_count": null,
      "metadata": {
        "id": "f-1Z6R6Ir-YK"
      },
      "outputs": [],
      "source": [
        "x = 5\n",
        "y = 10\n",
        "z = 15\n",
        "\n",
        "# Comprobar si x es menor que y y si y es menor que z\n",
        "condicion1 = x < y and y < z\n",
        "print(\"Condición 1 (x < y y y < z):\", condicion1) # Verdadero\n",
        "\n",
        "# Comprobar si x es igual a y o si y es igual a z\n",
        "condicion2 = x == y or y == z\n",
        "print(\"Condición 2 (x == y o y == z):\", condicion2) # Falso\n",
        "\n",
        "# Negar la condición 1\n",
        "condicion3 = not condicion1\n",
        "print(\"Condición 3 (negación de la condición 1):\", condicion3) # Falso"
      ]
    },
    {
      "attachments": {},
      "cell_type": "markdown",
      "metadata": {
        "id": "RIylnd6csCej"
      },
      "source": [
        "En este ejemplo, hemos utilizado operadores de comparación y operadores lógicos para construir condiciones más complejas y realizar acciones basadas en el resultado de esas condiciones."
      ]
    },
    {
      "attachments": {},
      "cell_type": "markdown",
      "metadata": {
        "id": "EdyLuTFrsF-R"
      },
      "source": [
        "# Desafío\n",
        "Una característica interesante de Python es la posibilidad de realizar comparaciones encadenadas, lo que permite escribir condiciones más compactas y legibles. Veamos un ejemplo de cómo podemos utilizar comparaciones encadenadas y luego plantearemos un desafío para poner en práctica este concepto.\n",
        "\n",
        "## Comparaciones encadenadas\n",
        "En Python, se pueden encadenar comparaciones en una sola expresión. Por ejemplo, en lugar de escribir x < y and y < z, puedes escribir x < y < z. Esto es posible gracias a la evaluación de cortocircuito de Python, lo que significa que si la primera comparación devuelve False, el resto de las comparaciones no se evaluarán.\n",
        "\n",
        "Ejemplo de comparaciones encadenadas:"
      ]
    },
    {
      "cell_type": "code",
      "execution_count": null,
      "metadata": {
        "id": "VbgPr8YhstL7"
      },
      "outputs": [],
      "source": [
        "a = 5\n",
        "b = 10\n",
        "c = 15\n",
        "\n",
        "# Comprobar si a es menor que b y si b es menor que c\n",
        "condicion_encadenada = a < b < c\n",
        "print(\"Comparación encadenada (a < b < c):\", condicion_encadenada) # Verdadero"
      ]
    },
    {
      "attachments": {},
      "cell_type": "markdown",
      "metadata": {
        "id": "rjg0ZURjsv4z"
      },
      "source": [
        "## Desafío: Clasificar números\n",
        "Dado tres números distintos, clasificarlos en orden ascendente utilizando comparaciones encadenadas y operadores lógicos."
      ]
    },
    {
      "cell_type": "code",
      "execution_count": 9,
      "metadata": {
        "colab": {
          "base_uri": "https://localhost:8080/"
        },
        "id": "s8mnD2ETsy35",
        "outputId": "83e1e76e-7c64-4b9a-bfdb-ad705a21e26b"
      },
      "outputs": [
        {
          "name": "stdout",
          "output_type": "stream",
          "text": [
            "Números ordenados: 5 7 7\n"
          ]
        }
      ],
      "source": [
        "#@title Solucion\n",
        "num1 = 7\n",
        "num2 = 5\n",
        "num3 = 7\n",
        "\n",
        "# Inicializar variables para almacenar los números ordenados\n",
        "minimo = medio = maximo = None\n",
        "\n",
        "# Clasificar los números utilizando comparaciones encadenadas\n",
        "if num1 < num2 <= num3 or num1 <= num3 <= num2:\n",
        "    minimo = num1\n",
        "elif num2 <= num1 <= num3 or num2 <= num3 <= num1:\n",
        "    minimo = num2\n",
        "else:\n",
        "    minimo = num3\n",
        "\n",
        "if num1 <= num2 <= num3 or num3 <= num2 <= num1:\n",
        "    medio = num2\n",
        "elif num2 <= num1 <= num3 or num3 <= num1 <= num2:\n",
        "    medio = num1\n",
        "else:\n",
        "    medio = num3\n",
        "\n",
        "#print(num1, \">=\", num2, \">=\", num3, \" el valor es \", num1 >= num2 >= num3)\n",
        "if num1 >= num2 >= num3 or num1 >= num3 >= num2:\n",
        "    maximo = num1\n",
        "elif num2 >= num1 >= num3 or num2 >= num3 >= num1:\n",
        "    maximo = num2\n",
        "else:\n",
        "    maximo = num3\n",
        "\n",
        "print(\"Números ordenados:\", minimo, medio, maximo)\n"
      ]
    },
    {
      "attachments": {},
      "cell_type": "markdown",
      "metadata": {},
      "source": [
        "# Desafio\n",
        "Crear un programa que lea 5 calificaciones y calcule su promedio"
      ]
    },
    {
      "cell_type": "code",
      "execution_count": 18,
      "metadata": {},
      "outputs": [
        {
          "name": "stdout",
          "output_type": "stream",
          "text": [
            "Promedio es:  8.0\n"
          ]
        }
      ],
      "source": [
        "# Defino las 5 variables para las calificaciones\n",
        "nota1 = nota2 = nota3 = nota4 = nota5 = None\n",
        "promedio = 0.0\n",
        "\n",
        "nota1 = int(input(\"Ingrese la calificacion: \"))\n",
        "nota2 = int(input(\"Ingrese la calificacion: \"))\n",
        "nota3 = int(input(\"Ingrese la calificacion: \"))\n",
        "nota4 = int(input(\"Ingrese la calificacion: \"))\n",
        "nota5 = int(input(\"Ingrese la calificacion: \"))\n",
        "\n",
        "promedio = (nota1 + nota2 + nota3 + nota4 + nota5)/5\n",
        "\n",
        "#Respondo el promedio de notas\n",
        "print(\"Promedio es: \", promedio)\n"
      ]
    }
  ],
  "metadata": {
    "colab": {
      "authorship_tag": "ABX9TyMaFp6USzHcn8tq7rmtMl5T",
      "include_colab_link": true,
      "provenance": [],
      "toc_visible": true
    },
    "kernelspec": {
      "display_name": "Python 3",
      "name": "python3"
    },
    "language_info": {
      "codemirror_mode": {
        "name": "ipython",
        "version": 3
      },
      "file_extension": ".py",
      "mimetype": "text/x-python",
      "name": "python",
      "nbconvert_exporter": "python",
      "pygments_lexer": "ipython3",
      "version": "3.11.1"
    }
  },
  "nbformat": 4,
  "nbformat_minor": 0
}
