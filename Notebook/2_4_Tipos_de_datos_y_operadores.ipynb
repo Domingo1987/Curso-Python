{
  "cells": [
    {
      "cell_type": "markdown",
      "metadata": {
        "id": "Nyv5epN_RD6r"
      },
      "source": [
        "## Índice\n",
        "\n",
        "1.   [Identificadores, constantes y variables](#id1)\n",
        "2.   [Tipos de datos simples. Enteros, reales, booleanos y caracteres](#id2)\n",
        "3.   [Operadores logicos y de comparacion](#id3)\n",
        "4.   [Comparaciones encadenadas](#id4)\n",
        "5.   [Desafio 1: Clasificar números](#des1)\n",
        "6.   [Desafio 2: Calcular promedio](#des2)\n",
        "7.   [Desafio 3: Convertidor de temperaturas](#des3)\n",
        "8.   [Desafio 4: Verificar múltiplos de varios números](#des4)\n",
        "9.   [Ejemplos](#ejemplos)"
      ]
    },
    {
      "cell_type": "markdown",
      "metadata": {
        "id": "Zrf6O3RVkwZ9"
      },
      "source": [
        "<a id=\"id1\"> </a>\n",
        "# Identificadores, constantes y variables\n",
        "\n",
        "En Python, un identificador es un nombre que se utiliza para identificar una variable, función, clase, módulo u otro objeto. Los identificadores son sensibles a mayúsculas y minúsculas y deben seguir ciertas reglas de nomenclatura. Para nombrar los identificadores en Python, se utilizan letras, números y guiones bajos. Sin embargo, el primer carácter no puede ser un número y no se permiten espacios ni caracteres especiales.\n",
        "\n",
        "Para garantizar la creación correcta de identificadores en Python, es importante seguir las PEP 8, que son las guías de estilo de Python. Estas proporcionan recomendaciones sobre cómo nombrar variables, funciones y otros objetos de manera consistente y legible para otros programadores. Puedes encontrar las [PEP 8 en el sitio web oficial de Python](https://peps.python.org/pep-0008/). Siguiendo estas pautas, puedes mejorar la claridad y la legibilidad de tu código, lo que facilita su mantenimiento y colaboración con otros desarrolladores.\n",
        "\n",
        "Por ejemplo, los siguientes son identificadores válidos en Python:"
      ]
    },
    {
      "cell_type": "code",
      "execution_count": null,
      "metadata": {
        "id": "9xPs9kVyRTlE"
      },
      "outputs": [],
      "source": [
        "numero\n",
        "total_venta\n",
        "ListaDeCompras\n",
        "edad"
      ]
    },
    {
      "cell_type": "markdown",
      "metadata": {
        "id": "0nfjr3nIl2gE"
      },
      "source": [
        "Mientras que los siguientes no son identificadores válidos:"
      ]
    },
    {
      "cell_type": "code",
      "execution_count": null,
      "metadata": {
        "id": "YFSXdTXrPsHY"
      },
      "outputs": [],
      "source": [
        "2d_array  # el primer carácter no puede ser un número\n",
        "mi identificador  # no se permiten espacios\n",
        "total$  # no se permiten caracteres especiales"
      ]
    },
    {
      "cell_type": "markdown",
      "metadata": {
        "id": "N6aLbY12FxpH"
      },
      "source": [
        "*Nota 2: Cabe destacar, que por mas que no es inválido, utilizar los caracteres \"l\" (ele minúscula), \"i\" (letra i latina mayuscula), \"O\" (letra o mayúscula) y \"0\" (número cero), puede causar confusión según el caso en donde se utilicen.*"
      ]
    },
    {
      "cell_type": "markdown",
      "metadata": {
        "id": "IbEAjo90LM88"
      },
      "source": [
        "También se tiene en cuenta que, como la mayoría de lenguajes, Python tiene una lista de palabras reservadas, que no pueden utilizarse como identificadores:\n",
        "\n",
        "| Palabra reservadas |\n",
        "|---------------|\n",
        "| False         |\n",
        "| True          |\n",
        "| def           |\n",
        "| while         |\n",
        "| if            |\n",
        "| else          |"
      ]
    },
    {
      "cell_type": "markdown",
      "metadata": {},
      "source": [
        "Para ver la lista completa utiliza el siguiente codigo en Python:"
      ]
    },
    {
      "cell_type": "code",
      "execution_count": null,
      "metadata": {},
      "outputs": [],
      "source": [
        "import keyword\n",
        "\n",
        "print(keyword.kwlist)"
      ]
    },
    {
      "cell_type": "markdown",
      "metadata": {
        "id": "_4bajzrTl7mA"
      },
      "source": [
        "Las constantes son valores que no cambian durante la ejecución de un programa. En Python, se utilizan variables para almacenar constantes. Las constantes pueden ser números, cadenas de texto, booleanos o cualquier otro valor inmutable.\n",
        "\n",
        "Por ejemplo, los siguientes son constantes en Python:"
      ]
    },
    {
      "cell_type": "code",
      "execution_count": null,
      "metadata": {
        "id": "e9y8hSkyl8iM"
      },
      "outputs": [],
      "source": [
        "PI = 3.14159\n",
        "NOMBRE_EMPRESA = \"Acme Corporation\"\n",
        "ES_POSITIVO = True"
      ]
    },
    {
      "cell_type": "markdown",
      "metadata": {
        "id": "3js_bf3Tl_KU"
      },
      "source": [
        "Las variables en Python son objetos que se utilizan para almacenar datos. Las variables se crean cuando se les asigna un valor y pueden cambiar durante la ejecución de un programa.\n",
        "\n",
        "Por ejemplo, el siguiente código crea una variable llamada edad y le asigna el valor 25:"
      ]
    },
    {
      "cell_type": "code",
      "execution_count": null,
      "metadata": {
        "id": "IZqYUDokmAc9"
      },
      "outputs": [],
      "source": [
        "edad = 25"
      ]
    },
    {
      "cell_type": "markdown",
      "metadata": {
        "id": "JuC930pzmDF4"
      },
      "source": [
        "En Python, las variables no necesitan ser declaradas antes de usarlas. Python automáticamente asigna un tipo de datos a las variables basándose en el valor que se les asigna. Por ejemplo, si se asigna un número entero a una variable, Python automáticamente la considerará como una variable de tipo int. Si se asigna una cadena de texto a una variable, Python la considerará como una variable de tipo str."
      ]
    },
    {
      "cell_type": "markdown",
      "metadata": {},
      "source": [
        "Pero... ¿cómo podemos determinar el tipo de una variable? Si veo \"un número\" entero, puedo identificar que el tipo de variable es un int o si veo un texto escrito entre (\" \"), puedo determinar que es una variable str."
      ]
    },
    {
      "cell_type": "code",
      "execution_count": null,
      "metadata": {},
      "outputs": [],
      "source": [
        "edad = 12\n",
        "nombre = \"Anthony\"\n",
        "altura = 1.75\n",
        "\n",
        "print (\"la variable\", edad, \"es de tipo:\", type(edad))\n",
        "print (\"la variable\", nombre, \"es de tipo:\", type(nombre))\n",
        "print (\"la variable\", altura, \"es de tipo:\", type(altura))\n"
      ]
    },
    {
      "cell_type": "markdown",
      "metadata": {},
      "source": [
        "Es importante tener en cuenta que las variables en Python son sensibles a mayúsculas y minúsculas. Esto significa que las variables edad y Edad son dos variables diferentes en Python.\n",
        "\n",
        "Además, las variables en Python pueden ser eliminadas utilizando la palabra clave del (Siempre y cuando esten definidas). Por ejemplo, el siguiente código elimina la variable edad y nombre:"
      ]
    },
    {
      "cell_type": "code",
      "execution_count": null,
      "metadata": {
        "id": "_8Hw11Mop0yX"
      },
      "outputs": [],
      "source": [
        "del edad, nombre\n",
        "print(altura)\n"
      ]
    },
    {
      "cell_type": "markdown",
      "metadata": {},
      "source": [
        "Cuidado! Que si intento eliminar la variable edad, sin crearla de nuevo, dará error, ya que la misma no existe. Este codigo resuelve este problema:\n"
      ]
    },
    {
      "cell_type": "code",
      "execution_count": null,
      "metadata": {},
      "outputs": [],
      "source": [
        "if \"edad\" in globals():\n",
        "    del edad\n",
        "    print(\"puedo borrar edad\")\n",
        "else:\n",
        "    print(\"no puedo borrar\")"
      ]
    },
    {
      "cell_type": "markdown",
      "metadata": {},
      "source": [
        "*Nota 3: globals es un diccionario que cuenta con todas las variables globales que se utilizan en el programa actual.*"
      ]
    },
    {
      "cell_type": "markdown",
      "metadata": {
        "id": "MSeGFRBik5fO"
      },
      "source": [
        "<a id=\"id2\"> </a>\n",
        "# Tipos de datos simples. Enteros, reales, booleanos y caracteres."
      ]
    },
    {
      "cell_type": "markdown",
      "metadata": {
        "id": "oO7oT2c8ncdw"
      },
      "source": [
        "En programación, los datos son la información que se manipula. Los lenguajes de programación trabajan con diferentes tipos de datos para poder manipular la información. En este artículo nos enfocaremos en los tipos de datos simples en Python, que son los más básicos y fundamentales para cualquier programa.\n",
        "\n",
        "Python es un lenguaje de programación orientado a objetos, lo que significa que cada valor en Python es un objeto. Un objeto es una estructura de datos que puede tener atributos (variables) y métodos (funciones). Los objetos en Python tienen un tipo que determina qué operaciones se pueden realizar con ellos.\n",
        "\n",
        "## Tipos de datos simples\n",
        "\n",
        "Los tipos de datos simples en Python se dividen en cuatro categorías: enteros, reales, booleanos y caracteres. En Python también existe un tipo de dato complejo, que nos permite trabajar con números complejos.\n",
        "\n",
        "### Enteros (int)\n",
        "\n",
        "Los enteros son números sin parte decimal. En Python, los enteros se representan con el tipo de datos int. Los enteros se pueden representar en notación decimal, binaria, octal y hexadecimal.\n",
        "\n",
        "Por ejemplo, para definir una variable entera y mostrar su valor y tipo, podemos hacer lo siguiente:"
      ]
    },
    {
      "cell_type": "code",
      "execution_count": null,
      "metadata": {
        "colab": {
          "base_uri": "https://localhost:8080/"
        },
        "id": "06T-FpltlAzM",
        "outputId": "6e671900-9d2d-4eb3-f605-5314ebd18797"
      },
      "outputs": [],
      "source": [
        "numero_entero = 10\n",
        "print(\"Número entero:\", numero_entero, \"Tipo:\", type(numero_entero))"
      ]
    },
    {
      "cell_type": "code",
      "execution_count": null,
      "metadata": {},
      "outputs": [],
      "source": [
        "a = 3\n",
        "b = 5\n",
        "c = 10\n",
        "res = 0\n",
        "\n",
        "res=a+b\n",
        "print(res)\n",
        "res=a-b\n",
        "print(res)\n",
        "res=a*b\n",
        "print(res)\n",
        "res=a/b\n",
        "print(res)\n",
        "res=c/a\n",
        "print(res)\n",
        "res=a**b\n",
        "print(res)\n"
      ]
    },
    {
      "cell_type": "markdown",
      "metadata": {
        "id": "aOIsGOpToyFL"
      },
      "source": [
        "### Reales (float)\n",
        "\n",
        "Los números reales son aquellos que tienen una parte decimal. En Python, los números reales se representan con el tipo de datos float.\n",
        "\n",
        "Por ejemplo, para definir una variable real y mostrar su valor y tipo, podemos hacer lo siguiente:"
      ]
    },
    {
      "cell_type": "code",
      "execution_count": null,
      "metadata": {
        "colab": {
          "base_uri": "https://localhost:8080/"
        },
        "id": "c70s0pL2ozrz",
        "outputId": "27ff36bc-8478-45c5-f728-c086b0198525"
      },
      "outputs": [],
      "source": [
        "numero_real = 3.1416\n",
        "print(\"Número real:\", numero_real, \"Tipo:\", type(numero_real))"
      ]
    },
    {
      "cell_type": "markdown",
      "metadata": {
        "id": "IcuK_DDbo1V7"
      },
      "source": [
        "### Booleanos (bool)\n",
        "\n",
        "Los booleanos son tipos de datos que solo pueden tomar dos valores: True (verdadero) o False (falso). En Python, los booleanos se representan con el tipo de datos bool.\n",
        "\n",
        "Por ejemplo, para definir una variable booleana y mostrar su valor y tipo, podemos hacer lo siguiente:"
      ]
    },
    {
      "cell_type": "code",
      "execution_count": null,
      "metadata": {
        "colab": {
          "base_uri": "https://localhost:8080/"
        },
        "id": "hUPItMuOo2tV",
        "outputId": "949e5f21-d262-4a00-8eeb-a390abd00480"
      },
      "outputs": [],
      "source": [
        "verdadero = True\n",
        "print(\"Booleano:\", verdadero, \"Tipo:\", type(verdadero))"
      ]
    },
    {
      "cell_type": "markdown",
      "metadata": {},
      "source": [
        "Los valores booleanos tambien pueden ser utilizados "
      ]
    },
    {
      "cell_type": "code",
      "execution_count": null,
      "metadata": {},
      "outputs": [],
      "source": [
        "A = True\n",
        "B = False\n",
        "C = True\n",
        "D = A and B \n",
        "print(D)"
      ]
    },
    {
      "cell_type": "markdown",
      "metadata": {},
      "source": [
        "*Nota 5: Como operadores logicos solo existen 3, el and, or, y el not.\n",
        "Faltando: el condicional, bicondicional*"
      ]
    },
    {
      "cell_type": "markdown",
      "metadata": {
        "id": "KjdmzyUEo4R1"
      },
      "source": [
        "### Caracteres (str)\n",
        "\n",
        "Los caracteres son un tipo de dato que representa un solo carácter. En Python, los caracteres se representan con el tipo de datos str.\n",
        "\n",
        "Por ejemplo, para definir una variable de tipo carácter y mostrar su valor y tipo, podemos hacer lo siguiente:"
      ]
    },
    {
      "cell_type": "code",
      "execution_count": null,
      "metadata": {
        "colab": {
          "base_uri": "https://localhost:8080/"
        },
        "id": "kM2ChOYlo7A8",
        "outputId": "1d25a0a0-2b05-4b62-acbc-9b4351289625"
      },
      "outputs": [],
      "source": [
        "caracter = 'a'\n",
        "print(\"Carácter:\", caracter, \"Tipo:\", type(caracter))"
      ]
    },
    {
      "cell_type": "markdown",
      "metadata": {
        "id": "EKGsVhsho8k8"
      },
      "source": [
        "### Complejos (complex)\n",
        "\n",
        "Los números complejos son aquellos que tienen una parte real y una parte imaginaria. En Python, los números complejos se representan con el tipo de datos complex.\n",
        "\n",
        "Por ejemplo, para definir una variable compleja y mostrar su valor y tipo, podemos hacer lo siguiente:"
      ]
    },
    {
      "cell_type": "code",
      "execution_count": null,
      "metadata": {
        "colab": {
          "base_uri": "https://localhost:8080/"
        },
        "id": "H31l86bZo-HL",
        "outputId": "09dfea8e-e07d-46db-c29b-3eba5349b406"
      },
      "outputs": [],
      "source": [
        "numero_complejo = 2+3j\n",
        "print(\"Número complejo:\", numero_complejo, \"Tipo:\", type(numero_complejo))"
      ]
    },
    {
      "cell_type": "markdown",
      "metadata": {
        "id": "jmd7_BeKnE5v"
      },
      "source": [
        "<a id=\"id3\"> </a>\n",
        "# Operadores logicos y de comparacion"
      ]
    },
    {
      "cell_type": "markdown",
      "metadata": {
        "id": "Y-pk7Jr1nJpo"
      },
      "source": [
        "Los operadores lógicos y de comparación son fundamentales en la programación, ya que permiten evaluar condiciones y realizar acciones basadas en el resultado de esas condiciones. En Python, tenemos operadores de comparación para comparar valores y operadores lógicos para combinar condiciones.\n",
        "\n",
        "## Operadores de comparacion\n",
        "Los operadores de comparación son utilizados para comparar dos valores y devuelven un valor booleano, es decir, True o False. Los operadores de comparación en Python incluyen:\n",
        "\n",
        "* Igual (==)\n",
        "* Diferente (!=)\n",
        "* Mayor que (>)\n",
        "* Menor que (<)\n",
        "* Mayor o igual que (>=)\n",
        "* Menor o igual que (<=)\n",
        "\n",
        "Ejemplo de uso de operadores de comparación:"
      ]
    },
    {
      "cell_type": "code",
      "execution_count": null,
      "metadata": {
        "id": "TMp9NMFkrvxW",
        "outputId": "8f2ffdde-c7a0-404e-bdf4-210351a9e193"
      },
      "outputs": [],
      "source": [
        "a = 5\n",
        "b = 7\n",
        "\n",
        "print(\"a == b:\", a == b) # Falso, porque 5 no es igual a 7\n",
        "print(\"a != b:\", a != b) # Verdadero, porque 5 es diferente de 7\n",
        "print(\"a > b:\", a > b)   # Falso, porque 5 no es mayor que 7\n",
        "print(\"a < b:\", a < b)   # Verdadero, porque 5 es menor que 7\n",
        "print(\"a >= b:\", a >= b) # Falso, porque 5 no es mayor o igual que 7\n",
        "print(\"a <= b:\", a <= b) # Verdadero, porque 5 es menor o igual que 7"
      ]
    },
    {
      "cell_type": "markdown",
      "metadata": {
        "id": "g_p9h7s6r0Dx"
      },
      "source": [
        "## Operadores logicos\n",
        "Los operadores lógicos son utilizados para combinar condiciones. Los operadores lógicos en Python incluyen:\n",
        "\n",
        "* and: Devuelve True si ambas condiciones son verdaderas, de lo contrario devuelve False.\n",
        "* or: Devuelve True si al menos una de las condiciones es verdadera, de lo contrario devuelve False.\n",
        "* not: Devuelve True si la condición es falsa, y False si la condición es verdadera.\n",
        "\n",
        "Ejemplo de uso de operadores lógicos:"
      ]
    },
    {
      "cell_type": "code",
      "execution_count": null,
      "metadata": {
        "id": "f-1Z6R6Ir-YK",
        "outputId": "b51c6d6b-b3a0-4589-dd27-6a267d0f278e"
      },
      "outputs": [],
      "source": [
        "x = 5\n",
        "y = 10\n",
        "z = 15\n",
        "\n",
        "# Comprobar si x es menor que y y si y es menor que z\n",
        "condicion1 = x < y and y < z\n",
        "print(\"Condición 1 (x < y y y < z):\", condicion1) # Verdadero\n",
        "\n",
        "# Comprobar si x es igual a y o si y es igual a z\n",
        "condicion2 = x == y or y == z\n",
        "print(\"Condición 2 (x == y o y == z):\", condicion2) # Falso\n",
        "\n",
        "# Negar la condición 1\n",
        "condicion3 = not condicion1\n",
        "print(\"Condición 3 (negación de la condición 1):\", condicion3) # Falso"
      ]
    },
    {
      "cell_type": "markdown",
      "metadata": {
        "id": "RIylnd6csCej"
      },
      "source": [
        "En este ejemplo, hemos utilizado operadores de comparación y operadores lógicos para construir condiciones más complejas y realizar acciones basadas en el resultado de esas condiciones."
      ]
    },
    {
      "cell_type": "markdown",
      "metadata": {
        "id": "EdyLuTFrsF-R"
      },
      "source": [
        "<a id=\"id4\"> </a>\n",
        "# Comparaciones encadenadas\n",
        "\n",
        "Una característica interesante de Python es la posibilidad de realizar comparaciones encadenadas, lo que permite escribir condiciones más compactas y legibles. Veamos un ejemplo de cómo podemos utilizar comparaciones encadenadas y luego plantearemos un desafío para poner en práctica este concepto.\n",
        "\n",
        "En Python, se pueden encadenar comparaciones en una sola expresión. Por ejemplo, en lugar de escribir x < y and y < z, puedes escribir x < y < z. Esto es posible gracias a la evaluación de cortocircuito de Python, lo que significa que si la primera comparación devuelve False, el resto de las comparaciones no se evaluarán.\n",
        "\n",
        "Ejemplo de comparaciones encadenadas:"
      ]
    },
    {
      "cell_type": "code",
      "execution_count": null,
      "metadata": {
        "id": "VbgPr8YhstL7"
      },
      "outputs": [],
      "source": [
        "a = 5\n",
        "b = 10\n",
        "c = 15\n",
        "\n",
        "# Comprobar si a es menor que b y si b es menor que c\n",
        "condicion_encadenada = a < b < c\n",
        "print(\"Comparación encadenada (a < b < c):\", condicion_encadenada) # Verdadero"
      ]
    },
    {
      "cell_type": "markdown",
      "metadata": {
        "id": "rjg0ZURjsv4z"
      },
      "source": [
        "<a id=\"des1\"> </a>\n",
        "# Desafío 1: Clasificar numeros\n",
        "\n",
        "Dado tres números distintos, clasificarlos en orden ascendente utilizando comparaciones encadenadas y operadores lógicos."
      ]
    },
    {
      "cell_type": "markdown",
      "metadata": {
        "id": "F33J-X7dRTmh"
      },
      "source": [
        "<a id=\"des2\"> </a>\n",
        "# Desafío 2: Calcular promedio\n",
        "Crear un programa que lea 5 calificaciones y calcule su promedio"
      ]
    },
    {
      "cell_type": "markdown",
      "metadata": {},
      "source": [
        "<a id=\"des3\"> </a>\n",
        "# Desafío 3: Convertidor de temperaturas\n",
        "Realizar conversiones de una temperatura dada en Celsius a Fahrenheit y Kelvin utilizando operaciones directas sobre las variables. Los cálculos se realizarán directamente al asignar los valores a las variables."
      ]
    },
    {
      "cell_type": "markdown",
      "metadata": {},
      "source": [
        "<a id=\"des4\"> </a>\n",
        "# Desafío 4: Verificar múltiplos de varios números\n",
        "Objetivo: Determinar si un número dado es múltiplo de 2, 3, 5, 7, 9, 10, y 11 utilizando comparaciones y operadores lógicos.\n",
        "\n",
        "*Descripción:*\n",
        "Crea un programa que, dado un número, verifique si es múltiplo de los números mencionados. Para cada uno de estos números, el programa debe indicar si el número dado es o no un múltiplo de estos.\n",
        "\n",
        "_Ejemplo de lo que se debe lograr:_\n",
        "Supongamos que el número dado es 30. El programa deberá determinar:\n",
        "\n",
        "¿Es 30 múltiplo de 2? Sí\n",
        "\n",
        "¿Es 30 múltiplo de 3? Sí\n",
        "\n",
        "¿Es 30 múltiplo de 5? Sí\n",
        "\n",
        "¿Es 30 múltiplo de 7? No\n",
        "\n",
        "¿Es 30 múltiplo de 9? No\n",
        "\n",
        "¿Es 30 múltiplo de 10? Sí\n",
        "\n",
        "¿Es 30 múltiplo de 11? No\n"
      ]
    },
    {
      "cell_type": "markdown",
      "metadata": {
        "id": "fbkiEpmUI2iZ"
      },
      "source": [
        "<a id=\"ejemplos\"></a>\n",
        "# Ejemplos\n"
      ]
    },
    {
      "cell_type": "markdown",
      "metadata": {
        "id": "C2Iqf0o9I_Ca"
      },
      "source": [
        "Aquí se señala la importancia de que los identificadores sean \"sensibles a mayúsculas y minúsculas\", siendo qué numero y Numero son dos variables diferentes."
      ]
    },
    {
      "cell_type": "code",
      "execution_count": null,
      "metadata": {
        "colab": {
          "base_uri": "https://localhost:8080/"
        },
        "id": "_zUTgpPoO4mD",
        "outputId": "180b38fb-b2fe-4287-b80f-d702bfb0d042"
      },
      "outputs": [],
      "source": [
        "numero = 12 # Se crea la variable \"numero\"\n",
        "Numero = 86 # Se crea la variable \"Numero\", siendo un identificador completamente diferente\n",
        "\n",
        "print (\"La variable ´numero´, tiene un valor de:\", numero, \", mientras que la variable ´Numero´ tiene el valor de:\", Numero, \". Demostrando así que ambas son completamente diferentes para Python.\")"
      ]
    }
  ],
  "metadata": {
    "colab": {
      "collapsed_sections": [
        "jmd7_BeKnE5v"
      ],
      "provenance": []
    },
    "kernelspec": {
      "display_name": "Python 3",
      "name": "python3"
    },
    "language_info": {
      "codemirror_mode": {
        "name": "ipython",
        "version": 3
      },
      "file_extension": ".py",
      "mimetype": "text/x-python",
      "name": "python",
      "nbconvert_exporter": "python",
      "pygments_lexer": "ipython3",
      "version": "3.11.1"
    }
  },
  "nbformat": 4,
  "nbformat_minor": 0
}
