{
 "cells": [
  {
   "cell_type": "markdown",
   "metadata": {},
   "source": [
    "# Colorama: Coloreando la Consola de Python"
   ]
  },
  {
   "cell_type": "markdown",
   "metadata": {},
   "source": [
    "## Introducción\n",
    "Colorama es una librería de Python que permite imprimir textos en colores en la salida de la terminal o consola, incluyendo el fondo o estilo del texto, en múltiples plataformas. Esta herramienta es especialmente útil para mejorar la visualización de la consola y hacerla más interactiva y amigable para el usuario.\n",
    "\n",
    "En esta guía, aprenderemos cómo usar Colorama para dar color y estilo a nuestra consola."
   ]
  },
  {
   "cell_type": "markdown",
   "metadata": {},
   "source": [
    "## Como importar colorama\n",
    "\n",
    "Para poder utilizarlo, primero se debe importar escribiendo el siguiente comando"
   ]
  },
  {
   "cell_type": "code",
   "execution_count": null,
   "metadata": {},
   "outputs": [],
   "source": [
    "import colorama "
   ]
  },
  {
   "cell_type": "markdown",
   "metadata": {},
   "source": [
    "Luego de importarlo hay diferentes comandos los cuales hacen que luzca distinto.\n",
    "Como puede ser el que esta a continuación el cual es Fore o Back que seria para el cambio de color.\n",
    "Tambien estan el Style que es el que seria para cambiar la tipografia de la letra, Etc."
   ]
  },
  {
   "cell_type": "code",
   "execution_count": null,
   "metadata": {},
   "outputs": [],
   "source": [
    "from colorama import Fore, Back, Style\n"
   ]
  },
  {
   "cell_type": "markdown",
   "metadata": {},
   "source": [
    "Por ejemplo, se nos pide poner un texto con letra verde y otro en color negro pero con fondo amarillo."
   ]
  },
  {
   "cell_type": "code",
   "execution_count": null,
   "metadata": {},
   "outputs": [],
   "source": [
    "print(Fore.GREEN + \"Recursos Python\" )\n",
    "# Imprimo frase con fondo amarillo\n",
    "print(Back.YELLOW + \"Solo fondo amarillo?\" )"
   ]
  },
  {
   "cell_type": "markdown",
   "metadata": {},
   "source": [
    "## Evitar que el cambio se repita en todos los print\n",
    "\n",
    "En el ultimo codigo se pedia que el texto tuviera el color amarillo de fondo y se le cambiara el color a la letra pero los cambios realizados se van a ejecutar en todos los print que siguientes. \n",
    "Para eso se escribe el siguiente codigo dentro del print."
   ]
  },
  {
   "cell_type": "code",
   "execution_count": null,
   "metadata": {},
   "outputs": [],
   "source": [
    "print(Fore.GREEN + \"Recursos Python\" + Style.RESET_ALL) #quita la letra verde\n",
    "print(Back.YELLOW + \"Recursos Python\")"
   ]
  },
  {
   "cell_type": "markdown",
   "metadata": {},
   "source": [
    "Tambien se puede reducir el Style.RESET_ALL asignandole a una palabra que este singificado. Por ejemplo:LL"
   ]
  },
  {
   "cell_type": "code",
   "execution_count": null,
   "metadata": {},
   "outputs": [],
   "source": [
    "borr = Style.RESET_ALL\n",
    "print(Fore.GREEN + \"Recursos Python\" + borr)\n",
    "print(Back.YELLOW + \"Recursos Python\")"
   ]
  },
  {
   "cell_type": "markdown",
   "metadata": {},
   "source": [
    "## Estilos y Colores"
   ]
  },
  {
   "cell_type": "code",
   "execution_count": null,
   "metadata": {},
   "outputs": [],
   "source": [
    "# Estilos disponibles\n",
    "print(Style.DIM + \"Texto atenuado\" + Style.RESET_ALL)\n",
    "print(Style.NORMAL + \"Texto normal\" + Style.RESET_ALL)\n",
    "print(Style.BRIGHT + \"Texto brillante\" + Style.RESET_ALL)\n",
    "\n",
    "# Combinación de estilos y colores\n",
    "print(Style.BRIGHT + Fore.BLUE + \"Texto brillante en azul\" + Style.RESET_ALL)"
   ]
  },
  {
   "cell_type": "markdown",
   "metadata": {},
   "source": [
    "## Recursos Adicionales\n",
    "\n",
    "- [Documentación oficial de Colorama en PyPI](https://pypi.org/project/colorama/)\n",
    "- [Guía sobre Colorama en Recursos Python](https://recursospython.com/guias-y-manuales/colorama-texto-fondo-coloreados-la-consola/)\n",
    "- [Tutorial de Colorama en Python Desde Cero](https://pythondesdecero.home.blog/level_3/colorama/)"
   ]
  }
 ],
 "metadata": {
  "kernelspec": {
   "display_name": "Python 3",
   "language": "python",
   "name": "python3"
  },
  "language_info": {
   "codemirror_mode": {
    "name": "ipython",
    "version": 3
   },
   "file_extension": ".py",
   "mimetype": "text/x-python",
   "name": "python",
   "nbconvert_exporter": "python",
   "pygments_lexer": "ipython3",
   "version": "3.11.1"
  },
  "orig_nbformat": 4
 },
 "nbformat": 4,
 "nbformat_minor": 2
}
