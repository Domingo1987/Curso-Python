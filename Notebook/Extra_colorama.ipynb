{
 "cells": [
  {
   "cell_type": "markdown",
   "metadata": {},
   "source": [
    "escribir una situacion problema que genere la necesidad de usar colorama"
   ]
  },
  {
   "cell_type": "markdown",
   "metadata": {},
   "source": [
    "# Como importar colorama\n",
    "\n",
    "Para poder utilizarlo, primero se debe importar escribiendo el siguiente comando"
   ]
  },
  {
   "cell_type": "code",
   "execution_count": 30,
   "metadata": {},
   "outputs": [],
   "source": [
    "import colorama "
   ]
  },
  {
   "cell_type": "markdown",
   "metadata": {},
   "source": [
    "Luego de importarlo hay diferentes comandos los cuales hacen que luzca distinto.\n",
    "Como puede ser el que esta a continuación el cual es Fore o Back que seria para el cambio de color.\n",
    "Tambien estan el Style que es el que seria para cambiar la tipografia de la letra, Etc."
   ]
  },
  {
   "cell_type": "code",
   "execution_count": 40,
   "metadata": {},
   "outputs": [],
   "source": [
    "from colorama import Fore, Back, Style \n"
   ]
  },
  {
   "cell_type": "markdown",
   "metadata": {},
   "source": [
    "Por ejemplo, se nos pide poner un texto con letra verde y otro en color negro pero con fondo amarillo."
   ]
  },
  {
   "cell_type": "code",
   "execution_count": 44,
   "metadata": {},
   "outputs": [
    {
     "name": "stdout",
     "output_type": "stream",
     "text": [
      "\u001b[32mRecursos Python\n",
      "\u001b[43mSolo fondo amarillo?\n"
     ]
    }
   ],
   "source": [
    "print(Fore.GREEN + \"Recursos Python\" )\n",
    "# Imprimo frase con fondo amarillo\n",
    "print(Back.YELLOW + \"Solo fondo amarillo?\" )"
   ]
  },
  {
   "cell_type": "markdown",
   "metadata": {},
   "source": [
    "## Evitar que el cambio se repita en todos los print\n",
    "\n",
    "En el ultimo codigo se pedia que el texto tuviera el color amarillo de fondo y se le cambiara el color a la letra pero los cambios realizados se van a ejecutar en todos los print que siguientes. \n",
    "Para eso se escribe el siguiente codigo dentro del print."
   ]
  },
  {
   "cell_type": "code",
   "execution_count": 45,
   "metadata": {},
   "outputs": [
    {
     "name": "stdout",
     "output_type": "stream",
     "text": [
      "\u001b[32mRecursos Python\u001b[0m\n",
      "\u001b[43mRecursos Python\n"
     ]
    }
   ],
   "source": [
    "print(Fore.GREEN + \"Recursos Python\" + Style.RESET_ALL) #quita la letra verde\n",
    "print(Back.YELLOW + \"Recursos Python\")"
   ]
  },
  {
   "cell_type": "markdown",
   "metadata": {},
   "source": [
    "Tambien se puede reducir el Style.RESET_ALL asignandole a una palabra que este singificado. Por ejemplo:LL"
   ]
  },
  {
   "cell_type": "code",
   "execution_count": 48,
   "metadata": {},
   "outputs": [
    {
     "name": "stdout",
     "output_type": "stream",
     "text": [
      "\u001b[32mRecursos Python\u001b[0m\n",
      "\u001b[43mRecursos Python\n"
     ]
    }
   ],
   "source": [
    "borr = Style.RESET_ALL\n",
    "print(Fore.GREEN + \"Recursos Python\" + borr)\n",
    "print(Back.YELLOW + \"Recursos Python\")"
   ]
  }
 ],
 "metadata": {
  "kernelspec": {
   "display_name": "Python 3",
   "language": "python",
   "name": "python3"
  },
  "language_info": {
   "codemirror_mode": {
    "name": "ipython",
    "version": 3
   },
   "file_extension": ".py",
   "mimetype": "text/x-python",
   "name": "python",
   "nbconvert_exporter": "python",
   "pygments_lexer": "ipython3",
   "version": "3.11.1"
  },
  "orig_nbformat": 4
 },
 "nbformat": 4,
 "nbformat_minor": 2
}
