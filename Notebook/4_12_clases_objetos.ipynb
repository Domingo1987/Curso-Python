{
  "cells": [
    {
      "cell_type": "markdown",
      "metadata": {},
      "source": [
        "# Clases y Objetos en Python: Convirtiéndonos en Autores de Nuestro Conocimiento\n",
        "\n",
        "¡Bienvenido a este espacio de aprendizaje! Aquí, no solo aprenderemos sobre programación, sino que también nos convertiremos en los \"Autores\" de nuestro propio conocimiento. Al igual que un autor da vida a personajes y tramas en sus libros, nosotros daremos vida a entidades y lógicas en nuestro código.\n",
        "\n",
        "En este cuaderno, nos embarcaremos en una aventura literaria y de programación. Exploraremos el mundo de la Programación Orientada a Objetos (POO) en Python, donde cada concepto y entidad se convierte en un personaje en nuestra historia. Y, ¿cuál es el primer personaje que vamos a crear? ¡Un \"Autor\"!\n",
        "\n",
        "Pero no solo nos limitaremos a escribir sobre autores. En este viaje, cada uno de nosotros se convertirá en un autor en nuestra propia \"Clase\" o aula. A través de la POO, aprenderemos a organizar y estructurar nuestro código, creando clases y objetos que representen entidades del mundo real.\n",
        "\n",
        "Así que, ¿estás listo para tomar el lápiz (o mejor dicho, el teclado) y comenzar a escribir tu historia en el mundo de la programación? ¡Continuemos!\n"
      ]
    },
    {
      "cell_type": "markdown",
      "metadata": {},
      "source": [
        "### ¿Qué es una clase?\n",
        "\n",
        "Una clase es como un plano o plantilla que define las características (atributos) y comportamientos (métodos) que tendrá un objeto. Es una definición abstracta que provee una forma de empaquetar datos y funcionalidad juntos. Al crear una nueva clase en Python, se establece un nuevo tipo de objeto, permitiendo generar nuevas instancias de ese tipo. Cada instancia puede tener atributos para mantener su estado y métodos para modificarlo. \n",
        "\n",
        "> \"Las clases proveen una forma de empaquetar datos y funcionalidad juntos. Al crear una nueva clase, se crea un nuevo tipo de objeto, permitiendo crear nuevas instancias de ese tipo. Cada instancia de clase puede tener atributos adjuntos para mantener su estado. Las instancias de clase también pueden tener métodos (definidos por su clase) para modificar su estado.\" - [Fuente: python.org](https://docs.python.org/es/3/tutorial/classes.html)\n",
        "."
      ]
    },
    {
      "cell_type": "markdown",
      "metadata": {},
      "source": [
        "### ¿Qué es un objeto?\n",
        "\n",
        "Un objeto es una instancia de una clase. Es una representación concreta de la clase con valores reales para los atributos definidos en la clase. En el contexto de la programación en Python, según la [documentación oficial de Python](https://docs.python.org/es/3/tutorial/classes.html), un objeto es una colección de datos (variables) y métodos (funciones) que actúan sobre los datos. Es una unidad básica de la Programación Orientada a Objetos (POO).\n"
      ]
    },
    {
      "cell_type": "markdown",
      "metadata": {},
      "source": [
        "## Creando nuestra primera clase: Autor\n",
        "\n",
        "Vamos a crear una clase llamada `Autor`. Pero antes de sumergirnos en el código, reflexionemos sobre lo que queremos lograr."
      ]
    },
    {
      "cell_type": "markdown",
      "metadata": {},
      "source": [
        "### Reflexión inicial\n",
        "\n",
        "Si tuvieras que definir un autor, ¿qué características o atributos considerarías importantes? ¿Qué comportamientos o acciones asociarías con un autor?"
      ]
    },
    {
      "cell_type": "markdown",
      "metadata": {},
      "source": [
        "Probablemente hayas pensado en atributos como el nombre y la nacionalidad del autor. Estos serán los atributos que incluiremos en nuestra clase `Autor`."
      ]
    },
    {
      "cell_type": "markdown",
      "metadata": {},
      "source": [
        "### Definiendo la clase Autor\n",
        "\n",
        "Comencemos definiendo la clase `Autor` con los atributos `nombre` y `nacionalidad`."
      ]
    },
    {
      "cell_type": "code",
      "execution_count": 3,
      "metadata": {},
      "outputs": [],
      "source": [
        "class Autor:\n",
        "    def __init__(self, nombre=\"\", nacionalidad=\"\"):\n",
        "        self.nombre = nombre\n",
        "        self.nacionalidad = nacionalidad"
      ]
    },
    {
      "cell_type": "markdown",
      "metadata": {},
      "source": [
        "### Entendiendo la Clase Autor\n",
        "La clase Autor es una representación simplificada de un autor en el mundo de la programación. Vamos a desglosar su estructura y entender cada parte.\n",
        "\n",
        "### La declaración de la clase\n",
        "<span style=\"color:blue\">class</span> Autor:\n",
        "\n",
        "Con class, declaramos que estamos definiendo una nueva clase. Autor es el nombre de la clase, y en Python, por convención, los nombres de las clases suelen comenzar con una letra mayúscula."
      ]
    },
    {
      "cell_type": "markdown",
      "id": "27349e1f",
      "metadata": {},
      "source": [
        "### El método \\_\\_init__\n",
        "\n",
        "def \\_\\_init__(self, nombre=\"\", nacionalidad=\"\"):\n",
        "\n",
        "El método __init__ es un método especial en Python. Se le llama constructor y se ejecuta automáticamente cuando creamos una nueva instancia de la clase. Es decir, cuando creamos un nuevo objeto Autor, este método se invoca automáticamente.\n",
        "\n",
        "self: Es el primer parámetro que todos los métodos en una clase deben aceptar. Representa la instancia actual del objeto y permite acceder a los atributos y métodos de la clase. En otros lenguajes de programación, es equivalente a palabras como this.\n",
        "\n",
        "nombre y nacionalidad: Son parámetros con valores predeterminados de cadenas vacías. Estos representan los atributos del autor que queremos establecer cuando creamos una nueva instancia."
      ]
    },
    {
      "cell_type": "markdown",
      "id": "8d1b5760",
      "metadata": {},
      "source": [
        "### Atributos de la clase\n",
        "\n",
        "self.nombre = nombre \n",
        "\n",
        "self.nacionalidad = nacionalidad\n",
        "\n",
        "Los atributos son variables que pertenecen a la clase y representan características del objeto. En este caso, nombre y nacionalidad son atributos de la clase Autor.\n",
        "\n",
        "self.nombre y self.nacionalidad: Aquí estamos asignando los valores pasados al constructor a los atributos del objeto. El uso de self indica que estos son atributos del objeto y no simples variables locales del constructor.\n"
      ]
    },
    {
      "cell_type": "markdown",
      "metadata": {},
      "source": [
        "### Métodos --funciones--\n",
        "\n",
        "Dentro de las clases en Python, podemos definir funciones que se conocen como \"métodos\". Estos métodos operan sobre los atributos de la clase y pueden realizar diversas operaciones, desde modificar el estado del objeto hasta mostrar información sobre él.\n",
        "\n",
        "En nuestra clase Autor, hemos definido un método llamado mostrar_autor:\n"
      ]
    },
    {
      "cell_type": "code",
      "execution_count": null,
      "metadata": {},
      "outputs": [],
      "source": [
        "class Autor:\n",
        "    # Constructor de la clase\n",
        "    def __init__(self, nombre=\"\", nacionalidad=\"\"):\n",
        "        self.nombre = nombre\n",
        "        self.nacionalidad = nacionalidad\n",
        "\n",
        "    # Método para mostrar los detalles del autor\n",
        "    def mostrar_autor(self):\n",
        "        print(f\"Nombre: {self.nombre}\")\n",
        "        print(f\"Nacionalidad: {self.nacionalidad}\")"
      ]
    },
    {
      "cell_type": "markdown",
      "metadata": {},
      "source": [
        "### Instanciando objetos\n",
        "\n",
        "Ahora que tenemos nuestra clase `Autor` definida, podemos crear objetos o instancias de esta clase."
      ]
    },
    {
      "cell_type": "code",
      "execution_count": 5,
      "metadata": {},
      "outputs": [
        {
          "name": "stdout",
          "output_type": "stream",
          "text": [
            "Gabriel García Márquez\n",
            "Colombiano\n"
          ]
        }
      ],
      "source": [
        "autor1 = Autor(\"Gabriel García Márquez\", \"Colombiano\")\n",
        "print(autor1.nombre)\n",
        "print(autor1.nacionalidad)"
      ]
    },
    {
      "cell_type": "markdown",
      "metadata": {},
      "source": [
        "## Desafíos\n",
        "\n",
        "### Desafío 1\n",
        "\n",
        "Amplía la clase `Autor` para incluir una lista de libros escritos por el autor. Implementa métodos para agregar y eliminar libros de esta lista.\n",
        "\n",
        "### Desafío 2\n",
        "\n",
        "Crea una clase `Libro` con atributos como título, género e ISBN. ¿Cómo podrías relacionar esta clase con la clase `Autor`?\n",
        "\n",
        "### Desafío 3\n",
        "\n",
        "Considera cómo podrías implementar una biblioteca que almacene múltiples autores y libros. ¿Qué estructuras de datos usarías?\n",
        "\n",
        "### Desafío 4\n",
        "\n",
        "Piensa en otros atributos y métodos que podrías agregar a la clase `Autor` para hacerla más completa.\n",
        "\n",
        "### Desafío 5\n",
        "\n",
        "Reflexiona sobre cómo podrías implementar una función de búsqueda para encontrar un libro específico o autor en una biblioteca."
      ]
    },
    {
      "cell_type": "markdown",
      "metadata": {},
      "source": [
        "## Referencias\n",
        "\n",
        "- [Documentación oficial de Python sobre clases](https://docs.python.org/es/3/tutorial/classes.html)\n",
        "- [Tutorial de Recursos Python sobre clases](https://tutorial.recursospython.com/clases/)\n",
        "- [Mejorando tu programación con Python: Las clases](https://atareao.es/pyldora/mejorando-tu-programacion-con-python-las-clases/)\n",
        "- [Clases y métodos en Python - Python desde cero](https://pythones.net/clases-y-metodos-python-oop/)\n",
        "- [Curso Python: 14. POO (Clases y objetos) - YouTube](https://www.youtube.com/watch?v=G6I3od7qwRU&ab_channel=C%C3%B3digosdeProgramaci%C3%B3n-MR)\n",
        "- [Tutorial Python 13: Clases y Objetos - YouTube](https://www.youtube.com/watch?v=VYXdpjCZojA&ab_channel=codigofacilito)"
      ]
    }
  ],
  "metadata": {
    "kernelspec": {
      "display_name": "Python 3",
      "language": "python",
      "name": "python3"
    },
    "language_info": {
      "codemirror_mode": {
        "name": "ipython",
        "version": 3
      },
      "file_extension": ".py",
      "mimetype": "text/x-python",
      "name": "python",
      "nbconvert_exporter": "python",
      "pygments_lexer": "ipython3",
      "version": "3.11.1"
    }
  },
  "nbformat": 4,
  "nbformat_minor": 5
}
