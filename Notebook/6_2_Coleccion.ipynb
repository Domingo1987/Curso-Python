{
 "cells": [
  {
   "attachments": {},
   "cell_type": "markdown",
   "metadata": {},
   "source": [
    "# Colecciones Avanzadas en Python: Tuplas, Diccionarios y Conjuntos\n",
    "En este cuaderno, exploraremos colecciones avanzadas en Python: tuplas, diccionarios y conjuntos. Aunque ya hemos trabajado con listas y árboles en secciones anteriores, ahora enfrentaremos problemas que requieren estructuras de datos más especializadas para ser resueltos de manera eficiente.\n",
    "\n",
    "## Tuplas\n",
    "Problema: Registro de Coordenadas Inmutables\n",
    "Imagina que estás desarrollando un sistema de seguimiento de satélites donde necesitas almacenar las coordenadas (latitud, longitud) de cada satélite en un momento dado. Estas coordenadas no deben cambiar una vez registradas para mantener un historial preciso. ¿Cómo puedes asegurar que estos datos permanezcan inmutables y se almacenen eficientemente?\n",
    "\n",
    "### Limitaciones de las Listas\n",
    "Las listas en Python son mutables, lo que significa que sus elementos pueden cambiarse después de su creación. Esto es útil en muchos casos, pero en situaciones donde la inmutabilidad es clave, como en nuestro problema, las listas no son la mejor opción.\n",
    "\n",
    "### Definición y Uso de Tuplas\n",
    "Las tuplas en Python son colecciones ordenadas e inmutables de elementos. Se definen utilizando paréntesis () y son ideales para almacenar datos que no deben cambiar a lo largo del programa.\n",
    "\n",
    "### Creación de una Tupla"
   ]
  },
  {
   "cell_type": "code",
   "execution_count": null,
   "metadata": {},
   "outputs": [],
   "source": [
    "# Tupla de coordenadas\n",
    "coordenada = (-34.46262, -57.83976)\n",
    "print(coordenada)"
   ]
  },
  {
   "cell_type": "markdown",
   "metadata": {},
   "source": [
    "### Características de las Tuplas\n",
    "* Inmutabilidad: Una vez creada, no puedes modificar sus elementos.\n",
    "* Ordenadas: Mantienen el orden de inserción de los elementos.\n",
    "* Acceso por Índice: Puedes acceder a sus elementos utilizando índices, igual que en las listas.\n",
    "\n",
    "### Acceso a Elementos"
   ]
  },
  {
   "cell_type": "code",
   "execution_count": null,
   "metadata": {},
   "outputs": [],
   "source": [
    "latitud = coordenada[0]\n",
    "longitud = coordenada[1]\n",
    "print(f\"Latitud: {latitud}, Longitud: {longitud}\")"
   ]
  },
  {
   "cell_type": "markdown",
   "metadata": {},
   "source": [
    "### Desempaquetado de Tuplas\n",
    "El desempaquetado permite asignar los valores de una tupla a variables individuales de manera concisa."
   ]
  },
  {
   "cell_type": "code",
   "execution_count": null,
   "metadata": {},
   "outputs": [],
   "source": [
    "# Desempaquetado\n",
    "latitud, longitud = coordenada\n",
    "print(f\"Latitud: {latitud}, Longitud: {longitud}\")"
   ]
  },
  {
   "cell_type": "markdown",
   "metadata": {},
   "source": [
    "### Métodos y Operaciones con Tuplas\n",
    "Aunque las tuplas son inmutables, puedes realizar ciertas operaciones:\n",
    "\n",
    "* Concatenación: Combinar dos tuplas."
   ]
  },
  {
   "cell_type": "code",
   "execution_count": null,
   "metadata": {},
   "outputs": [],
   "source": [
    "tupla1 = (1, 2, 3)\n",
    "tupla2 = (4, 5, 6)\n",
    "tupla_concatenada = tupla1 + tupla2\n",
    "print(tupla_concatenada)"
   ]
  },
  {
   "cell_type": "markdown",
   "metadata": {},
   "source": [
    "* Repetición: Repetir los elementos de una tupla."
   ]
  },
  {
   "cell_type": "code",
   "execution_count": null,
   "metadata": {},
   "outputs": [],
   "source": [
    "tupla_repetida = tupla1 * 3\n",
    "print(tupla_repetida)"
   ]
  },
  {
   "cell_type": "markdown",
   "metadata": {},
   "source": [
    "### Métodos Disponibles:\n",
    "\n",
    "* count(): Cuenta las ocurrencias de un elemento.\n",
    "* index(): Encuentra el índice de un elemento."
   ]
  },
  {
   "cell_type": "code",
   "execution_count": null,
   "metadata": {},
   "outputs": [],
   "source": [
    "tupla = (1, 2, 3, 2, 2)\n",
    "print(tupla.count(2))     # Salida: 3\n",
    "print(tupla.index(3))     # Salida: 2"
   ]
  },
  {
   "cell_type": "markdown",
   "metadata": {},
   "source": [
    "## Diccionarios\n",
    "Problema: Traducción de Palabras en Múltiples Idiomas\n",
    "Estás creando una aplicación de traducción que necesita mapear palabras en inglés a sus equivalentes en varios idiomas. Las relaciones entre palabras no son simplemente lineales y requieren un método eficiente para acceder a las traducciones utilizando la palabra original como clave. ¿Cómo podrías implementar esto de manera eficiente?\n",
    "\n",
    "Limitaciones de las Listas y Tuplas\n",
    "Las listas y tuplas no son adecuadas para este problema porque requieren búsquedas lineales para encontrar elementos, lo cual no es eficiente para grandes conjuntos de datos. Además, no proporcionan una asociación directa entre una clave y un valor.\n",
    "\n",
    "Definición y Uso de Diccionarios\n",
    "Los diccionarios en Python son colecciones desordenadas de pares clave-valor. Se definen utilizando llaves {} y permiten un acceso rápido a los valores a través de sus claves únicas.\n",
    "\n",
    "### Creación de un Diccionario"
   ]
  },
  {
   "cell_type": "code",
   "execution_count": 10,
   "metadata": {},
   "outputs": [],
   "source": [
    "# Diccionario de traducciones\n",
    "traducciones = {\n",
    "    \"hello\": {\"es\": \"hola\", \"fr\": \"bonjour\", \"pr\": \"olá\"},\n",
    "    \"world\": {\"es\": \"mundo\", \"fr\": \"monde\", \"pr\": \"mundo\"}\n",
    "}"
   ]
  },
  {
   "cell_type": "markdown",
   "metadata": {},
   "source": [
    "En este diccionario:\n",
    "\n",
    "La clave principal es la palabra en inglés.\n",
    "El valor es otro diccionario que contiene las traducciones en diferentes idiomas:\n",
    "* \"es\": Español\n",
    "* \"fr\": Francés\n",
    "* \"pr\": Portugués"
   ]
  },
  {
   "cell_type": "markdown",
   "metadata": {},
   "source": [
    "### Acceso a Valores\n",
    "Para acceder a la traducción de una palabra en un idioma específico, utilizamos ambas claves:"
   ]
  },
  {
   "cell_type": "code",
   "execution_count": null,
   "metadata": {},
   "outputs": [],
   "source": [
    "# Obtener la traducción de \"hello\" en español\n",
    "print(traducciones[\"hello\"][\"es\"])  # Salida: hola\n",
    "\n",
    "# Obtener la traducción de \"world\" en portugués\n",
    "print(traducciones[\"world\"][\"pr\"])  # Salida: mundo"
   ]
  },
  {
   "cell_type": "markdown",
   "metadata": {},
   "source": [
    "### Operaciones Básicas con Diccionarios\n",
    "* Agregar Nuevos Elementos\n",
    "  \n",
    "  Podemos agregar nuevas palabras y sus traducciones al diccionario:"
   ]
  },
  {
   "cell_type": "code",
   "execution_count": null,
   "metadata": {},
   "outputs": [],
   "source": [
    "# Agregar una nueva palabra y sus traducciones\n",
    "traducciones[\"goodbye\"] = {\"es\": \"adiós\", \"fr\": \"au revoir\", \"pr\": \"adeus\"}\n",
    "\n",
    "print(traducciones[\"goodbye\"][\"pr\"])  # Salida: adeus"
   ]
  },
  {
   "cell_type": "markdown",
   "metadata": {},
   "source": [
    "* Modificar Valores Existentes\n",
    "  \n",
    "Si necesitamos actualizar una traducción específica, simplemente asignamos un nuevo valor:"
   ]
  },
  {
   "cell_type": "code",
   "execution_count": null,
   "metadata": {},
   "outputs": [],
   "source": [
    "# Actualizar la traducción en portugués de \"world\"\n",
    "traducciones[\"world\"][\"pr\"] = \"mundo\"\n",
    "\n",
    "print(traducciones[\"world\"][\"pr\"])  # Salida: mundo"
   ]
  },
  {
   "cell_type": "markdown",
   "metadata": {},
   "source": [
    "* Eliminar Elementos\n",
    "\n",
    "Podemos eliminar una palabra completa o una traducción específica:"
   ]
  },
  {
   "cell_type": "code",
   "execution_count": null,
   "metadata": {},
   "outputs": [],
   "source": [
    "# Eliminar una palabra completa\n",
    "del traducciones[\"goodbye\"]\n",
    "\n",
    "# Intentar acceder a \"goodbye\" genera un KeyError\n",
    "# print(traducciones[\"goodbye\"])  # Esto causaría un error\n",
    "\n",
    "# Eliminar la traducción al francés de \"hello\"\n",
    "del traducciones[\"hello\"][\"fr\"]\n",
    "\n",
    "print(traducciones[\"hello\"])  # Salida: {'es': 'hola', 'pr': 'olá'}\n"
   ]
  },
  {
   "cell_type": "markdown",
   "metadata": {},
   "source": [
    "### Iteración y Métodos Útiles\n",
    "* Iterar sobre Claves y Valores\n",
    "\n",
    "Podemos recorrer el diccionario para procesar sus elementos:"
   ]
  },
  {
   "cell_type": "code",
   "execution_count": null,
   "metadata": {},
   "outputs": [],
   "source": [
    "for palabra, traduccion in traducciones.items():\n",
    "    print(f\"{palabra}: {traduccion}\")"
   ]
  },
  {
   "cell_type": "markdown",
   "metadata": {},
   "source": [
    "* Métodos Útiles\n",
    "\n",
    "keys(): Devuelve una vista de las claves."
   ]
  },
  {
   "cell_type": "code",
   "execution_count": null,
   "metadata": {},
   "outputs": [],
   "source": [
    "print(traducciones.keys())\n",
    "# Salida: dict_keys(['hello', 'world'])"
   ]
  },
  {
   "cell_type": "markdown",
   "metadata": {},
   "source": [
    "values(): Devuelve una vista de los valores."
   ]
  },
  {
   "cell_type": "code",
   "execution_count": null,
   "metadata": {},
   "outputs": [],
   "source": [
    "print(traducciones.values())\n",
    "# Salida: dict_values([{'es': 'hola', 'pr': 'olá'}, {'es': 'mundo', 'fr': 'monde', 'pr': 'mundo'}])"
   ]
  },
  {
   "cell_type": "markdown",
   "metadata": {},
   "source": [
    "items(): Devuelve una vista de los pares clave-valor."
   ]
  },
  {
   "cell_type": "code",
   "execution_count": null,
   "metadata": {},
   "outputs": [],
   "source": [
    "print(traducciones.items())\n",
    "# Salida: dict_items([('hello', {'es': 'hola', 'pr': 'olá'}), ('world', {'es': 'mundo', 'fr': 'monde', 'pr': 'mundo'})])"
   ]
  },
  {
   "cell_type": "markdown",
   "metadata": {},
   "source": [
    "### Verificar la Existencia de una Clave\n",
    "Podemos verificar si una palabra o una traducción específica existe en el diccionario:"
   ]
  },
  {
   "cell_type": "code",
   "execution_count": null,
   "metadata": {},
   "outputs": [],
   "source": [
    "# Verificar si \"hello\" está en el diccionario\n",
    "print(\"hello\" in traducciones)  # Salida: True\n",
    "\n",
    "# Verificar si existe traducción al francés para \"hello\"\n",
    "print(\"fr\" in traducciones[\"hello\"])  # Salida: False"
   ]
  },
  {
   "cell_type": "markdown",
   "metadata": {},
   "source": [
    "### Añadir una Nueva Traducción a una Palabra Existente\n",
    "Si queremos agregar una nueva traducción a una palabra existente:"
   ]
  },
  {
   "cell_type": "code",
   "execution_count": null,
   "metadata": {},
   "outputs": [],
   "source": [
    "# Añadir traducción al francés para \"hello\"\n",
    "traducciones[\"hello\"][\"fr\"] = \"bonjour\"\n",
    "\n",
    "print(traducciones[\"hello\"])\n",
    "# Salida: {'es': 'hola', 'pr': 'olá', 'fr': 'bonjour'}"
   ]
  },
  {
   "cell_type": "markdown",
   "metadata": {},
   "source": [
    "### Aplicación Práctica: Traductor Simple\n",
    "Podemos utilizar el diccionario para crear una función que traduzca palabras:"
   ]
  },
  {
   "cell_type": "code",
   "execution_count": null,
   "metadata": {},
   "outputs": [],
   "source": [
    "def traducir(palabra_ingles, idioma):\n",
    "    try:\n",
    "        return traducciones[palabra_ingles][idioma]\n",
    "    except KeyError:\n",
    "        return \"Traducción no encontrada\"\n",
    "\n",
    "# Ejemplos de uso\n",
    "print(traducir(\"hello\", \"es\"))  # Salida: hola\n",
    "print(traducir(\"world\", \"fr\"))  # Salida: monde\n",
    "print(traducir(\"goodbye\", \"pr\"))  # Salida: Traducción no encontrada"
   ]
  },
  {
   "cell_type": "markdown",
   "metadata": {},
   "source": [
    "Por todo esto los diccionarios son ideales para:\n",
    "\n",
    "* Mapear relaciones complejas: Como palabras y sus traducciones.\n",
    "* Acceso rápido: Recuperar valores utilizando claves únicas.\n",
    "* Flexibilidad: Las claves pueden ser de tipos inmutables, y los valores pueden ser de cualquier tipo, incluyendo otros diccionarios."
   ]
  },
  {
   "cell_type": "markdown",
   "metadata": {},
   "source": [
    "# Conjuntos\n",
    "Problema: Eliminación de Elementos Duplicados en Grandes Volúmenes de Datos\n",
    "Estás analizando grandes volúmenes de datos donde necesitas identificar elementos únicos y eliminar duplicados de manera eficiente. Por ejemplo, tienes una lista con miles de direcciones de correo electrónico de usuarios registrados en tu plataforma @1001problemas.com y necesitas obtener una lista de correos únicos para enviar una notificación. ¿Qué estructura de datos puedes usar para lograr esto de forma óptima?\n",
    "\n",
    "### Limitaciones de las Listas\n",
    "Las listas permiten elementos duplicados y eliminar duplicados manualmente es ineficiente para grandes volúmenes de datos.\n",
    "\n",
    "### Definición y Uso de Conjuntos\n",
    "Los conjuntos en Python son colecciones desordenadas de elementos únicos. Se definen utilizando llaves {} o la función set().\n",
    "\n",
    "### Creación de un Conjunto"
   ]
  },
  {
   "cell_type": "code",
   "execution_count": null,
   "metadata": {},
   "outputs": [],
   "source": [
    "# Lista de correos electrónicos con duplicados\n",
    "correos = [\n",
    "    \"usuario1@1001problemas.com\",\n",
    "    \"usuario2@1001problemas.com\",\n",
    "    \"usuario3@1001problemas.com\",\n",
    "    \"usuario1@1001problemas.com\",  # Duplicado\n",
    "    \"usuario4@1001problemas.com\",\n",
    "    \"usuario2@1001problemas.com\",  # Duplicado\n",
    "]\n",
    "\n",
    "# Convertir la lista en un conjunto para eliminar duplicados\n",
    "correos_unicos = set(correos)\n",
    "print(correos_unicos)"
   ]
  },
  {
   "cell_type": "markdown",
   "metadata": {},
   "source": [
    "### Características de los Conjuntos\n",
    "* Elementos Únicos: No permite duplicados.\n",
    "* Desordenados: No mantienen un orden específico.\n",
    "* Operaciones Matemáticas: Permite realizar operaciones como unión, intersección y diferencia.\n",
    "\n",
    "### Operaciones Conjuntas\n",
    "* Unión\n",
    "\n",
    "Combina elementos de ambos conjuntos sin duplicados."
   ]
  },
  {
   "cell_type": "code",
   "execution_count": null,
   "metadata": {},
   "outputs": [],
   "source": [
    "suscriptores_newsletter = {\n",
    "    \"usuario1@1001problemas.com\",\n",
    "    \"usuario5@1001problemas.com\",\n",
    "    \"usuario6@1001problemas.com\",\n",
    "}\n",
    "\n",
    "todos_correos = correos_unicos.union(suscriptores_newsletter)\n",
    "print(todos_correos)"
   ]
  },
  {
   "cell_type": "markdown",
   "metadata": {},
   "source": [
    "* Intersección\n",
    "\n",
    "Obtiene los elementos comunes entre conjuntos."
   ]
  },
  {
   "cell_type": "code",
   "execution_count": null,
   "metadata": {},
   "outputs": [],
   "source": [
    "correos_comunes = correos_unicos.intersection(suscriptores_newsletter)\n",
    "print(correos_comunes)"
   ]
  },
  {
   "cell_type": "markdown",
   "metadata": {},
   "source": [
    "* Diferencia\n",
    "\n",
    "Elementos que están en el primer conjunto pero no en el segundo."
   ]
  },
  {
   "cell_type": "code",
   "execution_count": null,
   "metadata": {},
   "outputs": [],
   "source": [
    "solo_registrados = correos_unicos.difference(suscriptores_newsletter)\n",
    "print(solo_registrados)"
   ]
  },
  {
   "cell_type": "markdown",
   "metadata": {},
   "source": [
    "### Métodos Útiles de los Conjuntos\n",
    "* add(): Agrega un elemento al conjunto."
   ]
  },
  {
   "cell_type": "code",
   "execution_count": null,
   "metadata": {},
   "outputs": [],
   "source": [
    "correos_unicos.add(\"usuario7@1001problemas.com\")\n",
    "print(correos_unicos)"
   ]
  },
  {
   "cell_type": "markdown",
   "metadata": {},
   "source": [
    "* remove(): Elimina un elemento; lanza un error si no existe."
   ]
  },
  {
   "cell_type": "code",
   "execution_count": null,
   "metadata": {},
   "outputs": [],
   "source": [
    "correos_unicos.remove(\"usuario4@1001problemas.com\")\n",
    "print(correos_unicos)"
   ]
  },
  {
   "cell_type": "markdown",
   "metadata": {},
   "source": [
    "* discard(): Elimina un elemento si existe; no lanza error si no está."
   ]
  },
  {
   "cell_type": "code",
   "execution_count": 27,
   "metadata": {},
   "outputs": [],
   "source": [
    "correos_unicos.discard(\"usuario10@1001problemas.com\")"
   ]
  },
  {
   "cell_type": "markdown",
   "metadata": {},
   "source": [
    "* clear(): Elimina todos los elementos."
   ]
  },
  {
   "cell_type": "code",
   "execution_count": 28,
   "metadata": {},
   "outputs": [
    {
     "name": "stdout",
     "output_type": "stream",
     "text": [
      "set()\n"
     ]
    }
   ],
   "source": [
    "correos_unicos.clear()\n",
    "print(correos_unicos)  # Salida: set()"
   ]
  },
  {
   "cell_type": "markdown",
   "metadata": {},
   "source": [
    "# Desafíos Finales\n",
    "Para poner en práctica lo aprendido, aquí tienes los 8 desafíos finales del libro, enfocados en tuplas, diccionarios y conjuntos, e integrando conceptos de los cuadernos anteriores.\n",
    "\n",
    "### Desafío 1: Gestión de Coordenadas de Satélites\n",
    "Crea un programa que registre las coordenadas de varios satélites en órbita en un momento dado. Las coordenadas deben ser inmutables y representadas mediante tuplas. El programa debe:\n",
    "\n",
    "Almacenar las coordenadas de al menos cinco satélites.\n",
    "Mostrar la distancia de cada satélite respecto al origen (0, 0, 0).\n",
    "Identificar el satélite más cercano y el más lejano al origen.\n",
    "\n",
    "### Desafío 2: Traductor Multilingüe Mejorado\n",
    "Utilizando diccionarios, extiende el ejemplo de traducciones para:\n",
    "\n",
    "Incluir más palabras y más idiomas (por ejemplo, italiano \"it\", alemán \"de\").\n",
    "Implementar una función que, dada una palabra en inglés y una lista de idiomas, devuelva sus traducciones en esos idiomas.\n",
    "Manejar el caso en que una traducción no esté disponible, indicando al usuario que no se encontró.\n",
    "\n",
    "### Desafío 3: Gestión de Usuarios en Concursos\n",
    "Tienes tres listas de usuarios de @1001problemas.com que han participado en los concursos \"AStronomía\", \"Matemática\" y \"Programación\". Utiliza conjuntos para:\n",
    "\n",
    "Encontrar los usuarios que han participado en todos los concursos.\n",
    "Encontrar los usuarios que solo han participado en \"Programación\".\n",
    "Listar todos los usuarios únicos que han participado en al menos un concurso.\n",
    "\n",
    "### Desafío 4: Análisis de Datos de Ventas con Tuplas\n",
    "Una tienda en línea registra cada venta como una tupla que contiene (id_producto, cantidad, precio_unitario). Crea un programa que:\n",
    "\n",
    "Almacene una lista de ventas realizadas.\n",
    "Calcule el ingreso total generado.\n",
    "Identifique el producto más vendido en términos de cantidad.\n",
    "\n",
    "### Desafío 5: Inventario de Productos con Diccionarios\n",
    "Desarrolla un sistema de inventario para una tienda utilizando diccionarios, donde:\n",
    "\n",
    "La clave es el código del producto.\n",
    "El valor es otro diccionario con detalles como nombre, precio y cantidad en stock.\n",
    "El programa debe permitir:\n",
    "\n",
    "Agregar nuevos productos.\n",
    "Actualizar el stock de productos existentes.\n",
    "Buscar productos por código y mostrar sus detalles.\n",
    "\n",
    "### Desafío 6: Operaciones entre Conjuntos de Datos\n",
    "En un estudio de mercado, se tienen tres conjuntos de encuestados según las plataformas que usan: Facebook, Instagram, y Twitter. Utiliza conjuntos para:\n",
    "\n",
    "Encontrar usuarios que usan las tres plataformas.\n",
    "Usuarios que usan solo una de las plataformas.\n",
    "Usuarios que usan al menos dos plataformas.\n",
    "\n",
    "### Desafío 7: Registro de Eventos Inmutables\n",
    "En un sistema de registro de eventos, cada evento se representa como una tupla (timestamp, usuario, acción). Crea un programa que:\n",
    "\n",
    "Almacene una lista de eventos.\n",
    "Permita consultar los eventos de un usuario específico.\n",
    "Cuente cuántas veces se realizó cada acción.\n",
    "Desafío 8: Análisis de Texto para Detección de Palabras Únicas\n",
    "Escribe un programa que lea un texto y:\n",
    "\n",
    "Utilice un conjunto para identificar todas las palabras únicas.\n",
    "Cuente cuántas palabras únicas hay en el texto.\n",
    "Muestre las 10 palabras más largas y las 10 más cortas."
   ]
  }
 ],
 "metadata": {
  "kernelspec": {
   "display_name": "venv",
   "language": "python",
   "name": "python3"
  },
  "language_info": {
   "codemirror_mode": {
    "name": "ipython",
    "version": 3
   },
   "file_extension": ".py",
   "mimetype": "text/x-python",
   "name": "python",
   "nbconvert_exporter": "python",
   "pygments_lexer": "ipython3",
   "version": "3.11.1"
  },
  "orig_nbformat": 4
 },
 "nbformat": 4,
 "nbformat_minor": 2
}
