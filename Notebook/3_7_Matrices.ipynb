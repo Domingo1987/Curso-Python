{
  "cells": [
    {
      "cell_type": "markdown",
      "metadata": {
        "colab_type": "text",
        "id": "view-in-github"
      },
      "source": [
        "<a href=\"https://colab.research.google.com/github/Domingo1987/Curso-Python/blob/main/3_7_Matrices.ipynb\" target=\"_parent\"><img src=\"https://colab.research.google.com/assets/colab-badge.svg\" alt=\"Open In Colab\"/></a>"
      ]
    },
    {
      "cell_type": "markdown",
      "metadata": {
        "id": "iDybK60sElR1"
      },
      "source": [
        "# Introducción a las matrices en NumPy\n",
        "\n",
        "Hasta ahora, hemos trabajado con lo que podríamos llamar \"arreglos\" en Python usando listas, una funcionalidad nativa del lenguaje. Pero hemos mencionado también que Python, en su forma estándar, no tiene un verdadero soporte para \"arreglos\" como lo conocemos en otros lenguajes de programación. Y sí, eso es cierto.\n",
        "\n",
        "Pero aquí es donde NumPy entra en juego. NumPy es una biblioteca de Python que nos proporciona una estructura de datos tipo arreglo, el `ndarray`, optimizada para cálculos numéricos eficientes. En este módulo, vamos a aprender cómo trabajar con estos \"arreglos\" utilizando NumPy. Esta habilidad es esencial para muchas áreas en ciencia de datos, aprendizaje automático y computación científica, ya que nos permitirá manejar y realizar operaciones con conjuntos de datos numéricos de manera eficiente."
      ]
    },
    {
      "cell_type": "markdown",
      "metadata": {
        "id": "UfMLtKbKEsWt"
      },
      "source": [
        "# Creación de matrices en NumPy\n",
        "\n",
        "Podemos crear matrices en NumPy de varias formas. Aquí hay algunos ejemplos:"
      ]
    },
    {
      "cell_type": "code",
      "execution_count": 2,
      "metadata": {
        "colab": {
          "base_uri": "https://localhost:8080/"
        },
        "id": "qWnqpDkjEu5a",
        "outputId": "fdbae995-7910-4eb0-a75c-a8ef5e853fe1"
      },
      "outputs": [
        {
          "name": "stdout",
          "output_type": "stream",
          "text": [
            "A =\n",
            " [[1 2 3]\n",
            " [4 5 6]\n",
            " [7 8 9]]\n",
            "\n",
            "B =\n",
            " [[0. 0. 0.]\n",
            " [0. 0. 0.]\n",
            " [0. 0. 0.]]\n",
            "\n",
            "C =\n",
            " [[1. 1. 1.]\n",
            " [1. 1. 1.]\n",
            " [1. 1. 1.]]\n",
            "\n",
            "D =\n",
            " [[0.10006265 0.46459809 0.83387496]\n",
            " [0.57198245 0.14696762 0.26891065]\n",
            " [0.05126992 0.73170849 0.54119233]]\n"
          ]
        }
      ],
      "source": [
        "import numpy as np\n",
        "\n",
        "# Crear una matriz a partir de una lista de listas\n",
        "A = np.array([[1, 2, 3], [4, 5, 6], [7, 8, 9]])\n",
        "print(\"A =\\n\", A)\n",
        "\n",
        "# Crear una matriz de ceros\n",
        "B = np.zeros((3, 3))\n",
        "print(\"\\nB =\\n\", B)\n",
        "\n",
        "# Crear una matriz de unos\n",
        "C = np.ones((3, 3))\n",
        "print(\"\\nC =\\n\", C)\n",
        "\n",
        "# Crear una matriz con valores aleatorios\n",
        "D = np.random.rand(3, 3)\n",
        "print(\"\\nD =\\n\", D)"
      ]
    },
    {
      "cell_type": "markdown",
      "metadata": {
        "id": "9gZFoSDSGjD1"
      },
      "source": [
        "Seguramente habrás notado en algún desafío anterior el uso de as en líneas de código como import libreria as lib. as en Python se utiliza para crear un alias durante la importación de un módulo. En este caso, estamos importando el módulo numpy y asignándole el alias np. Esto se hace por conveniencia para hacer el código más legible y conciso.\n",
        "\n",
        "Después de esto, puedes usar el prefijo np. en lugar de numpy. para llamar a las funciones y métodos del módulo numpy. Esto es especialmente útil para módulos con nombres largos o que se utilizan con frecuencia.\n",
        "\n",
        "El alias np para numpy es una convención ampliamente adoptada por la comunidad de Python, especialmente entre los científicos de datos, ingenieros y desarrolladores que utilizan numpy para el cálculo numérico. Utilizar estas convenciones ayuda a mantener el código coherente y fácil de leer entre diferentes proyectos y equipos. Sin embargo, podrías elegir cualquier nombre que desees para el alias. Por ejemplo, import numpy as nump también sería válido, pero no es comúnmente utilizado."
      ]
    },
    {
      "cell_type": "markdown",
      "metadata": {},
      "source": [
        "_Nota_: Puede ocurrir que Python no tenga NumPy en tu instalacion, lo resuelves con pip install numpy o similar según tu sistema."
      ]
    },
    {
      "cell_type": "markdown",
      "metadata": {
        "id": "5Kq0wYFBEyi4"
      },
      "source": [
        "# Acceso y modificación de elementos de la matriz\n",
        "\n",
        "Podemos acceder y modificar elementos de la matriz utilizando índices. Veamos algunos ejemplos:"
      ]
    },
    {
      "cell_type": "code",
      "execution_count": 2,
      "metadata": {
        "colab": {
          "base_uri": "https://localhost:8080/"
        },
        "id": "_eKklfzkHpQo",
        "outputId": "a9dd194f-2fa4-4c95-8472-0eb760125fed"
      },
      "outputs": [
        {
          "name": "stdout",
          "output_type": "stream",
          "text": [
            "A[0, 0] = 1\n",
            "\n",
            "A =\n",
            " [[10  2  3]\n",
            " [ 4  5  6]\n",
            " [ 7  8  9]]\n"
          ]
        }
      ],
      "source": [
        "# Acceder a un elemento\n",
        "print(\"A[0, 0] =\", A[0, 0])\n",
        "\n",
        "# Modificar un elemento\n",
        "A[0, 0] = 10\n",
        "print(\"\\nA =\\n\", A)"
      ]
    },
    {
      "cell_type": "markdown",
      "metadata": {
        "id": "KMkaLgXRE1ww"
      },
      "source": [
        "# Operaciones básicas con matrices\n",
        "\n",
        "NumPy nos permite realizar varias operaciones con matrices, como suma, resta, producto escalar, producto de matrices y división. Veamos cómo hacerlo:"
      ]
    },
    {
      "cell_type": "code",
      "execution_count": null,
      "metadata": {
        "id": "MfxDLUW_E3vg"
      },
      "outputs": [],
      "source": [
        "# Crear dos matrices para las operaciones\n",
        "A = np.array([[1, 2], [3, 4]])\n",
        "B = np.array([[5, 6], [7, 8]])\n",
        "\n",
        "# Suma de matrices\n",
        "print(\"A + B =\\n\", A + B)\n",
        "\n",
        "# Resta de matrices\n",
        "print(\"\\nA - B =\\n\", A - B)\n",
        "\n",
        "# Producto escalar\n",
        "print(\"\\n2 * A =\\n\", 2 * A)\n",
        "\n",
        "# Producto de matrices\n",
        "print(\"\\nA @ B =\\n\", A @ B)\n",
        "\n",
        "# División de matrices\n",
        "print(\"\\nA / B =\\n\", A / B)"
      ]
    },
    {
      "cell_type": "markdown",
      "metadata": {
        "id": "IjqACVw6E7im"
      },
      "source": [
        "# Algunas operaciones especiales con matrices\n",
        "\n",
        "Además de las operaciones básicas, NumPy también nos permite realizar algunas operaciones especiales con matrices, como transposición, determinante, inversa, traza y rango. Veamos cómo hacerlo:"
      ]
    },
    {
      "cell_type": "code",
      "execution_count": 3,
      "metadata": {
        "colab": {
          "base_uri": "https://localhost:8080/"
        },
        "id": "nqVGSxq0E-eI",
        "outputId": "8805930f-cf14-4fb7-fd50-20b50db890f9"
      },
      "outputs": [
        {
          "name": "stdout",
          "output_type": "stream",
          "text": [
            "A.T =\n",
            " [[10  4  7]\n",
            " [ 2  5  8]\n",
            " [ 3  6  9]]\n",
            "\n",
            "np.linalg.det(A) = -27.0\n",
            "\n",
            "np.linalg.inv(A) =\n",
            " [[ 0.11111111 -0.22222222  0.11111111]\n",
            " [-0.22222222 -2.55555556  1.77777778]\n",
            " [ 0.11111111  2.44444444 -1.55555556]]\n",
            "\n",
            "np.trace(A) = 24\n",
            "\n",
            "np.linalg.matrix_rank(A) = 3\n"
          ]
        }
      ],
      "source": [
        "# Transposición de una matriz\n",
        "print(\"A.T =\\n\", A.T)\n",
        "\n",
        "# Determinante de una matriz\n",
        "print(\"\\nnp.linalg.det(A) =\", np.linalg.det(A))\n",
        "\n",
        "# Inversa de una matriz\n",
        "print(\"\\nnp.linalg.inv(A) =\\n\", np.linalg.inv(A))\n",
        "\n",
        "# Traza de una matriz\n",
        "print(\"\\nnp.trace(A) =\", np.trace(A))\n",
        "\n",
        "# Rango de una matriz\n",
        "print(\"\\nnp.linalg.matrix_rank(A) =\", np.linalg.matrix_rank(A))"
      ]
    },
    {
      "cell_type": "markdown",
      "metadata": {
        "id": "dMte1nstFAV1"
      },
      "source": [
        "# Desafío 1\n",
        "\n",
        "Considere las matrices \\( A \\) y \\( B \\) definidas como:\n",
        "\n",
        "\\[ A = \\begin{bmatrix} 1 & 2 \\\\ 3 & 4 \\end{bmatrix} \\]\n",
        "\n",
        "y\n",
        "\n",
        "\\[ B = \\begin{bmatrix} 5 & 6 \\\\ 7 & 8 \\end{bmatrix} \\]\n",
        "\n",
        "Tu tarea es calcular la matriz resultante de la operación \\( (2A + B^T) \\). Recuerda que \\( B^T \\) denota la transposición de la matriz \\( B \\)."
      ]
    },
    {
      "cell_type": "code",
      "execution_count": 13,
      "metadata": {
        "colab": {
          "base_uri": "https://localhost:8080/"
        },
        "id": "Xtl7TYVvFln1",
        "outputId": "5b5766a2-41a4-4f64-ee73-4b5cc717aff8"
      },
      "outputs": [
        {
          "data": {
            "text/plain": [
              "array([[ 7, 11],\n",
              "       [12, 16]])"
            ]
          },
          "execution_count": 13,
          "metadata": {},
          "output_type": "execute_result"
        }
      ],
      "source": [
        "# @title SOLUCIÓN\n",
        "A = np.array([[1, 2], [3, 4]])\n",
        "B = np.array([[5, 6], [7, 8]])\n",
        "result = (2 * A + B.T)\n",
        "result"
      ]
    },
    {
      "cell_type": "markdown",
      "metadata": {
        "id": "RzLTx9UmFtGF"
      },
      "source": [
        "# Desafío 2\n",
        "\n",
        "Dada la matriz \\( A = \\begin{bmatrix} 1 & 2 & 3 \\\\ 4 & 5 & 6 \\\\ 7 & 8 & 9 \\end{bmatrix} \\), encuentra la traza de la matriz inversa de \\( A \\)."
      ]
    },
    {
      "cell_type": "code",
      "execution_count": 10,
      "metadata": {
        "cellView": "form",
        "colab": {
          "base_uri": "https://localhost:8080/"
        },
        "id": "oFZpLNTHFvDd",
        "outputId": "a781f7a3-4079-460d-879f-a6dfeeb5de15"
      },
      "outputs": [
        {
          "data": {
            "text/plain": [
              "15.00000000000002"
            ]
          },
          "execution_count": 10,
          "metadata": {},
          "output_type": "execute_result"
        }
      ],
      "source": [
        "# @title SOLUCIÓN\n",
        "A = np.array([[1, 0, 1], [4, -1, 4], [5, 6, 7]])\n",
        "trace_inv_A = np.trace(np.linalg.inv(A))\n",
        "trace_inv_A\n"
      ]
    },
    {
      "cell_type": "markdown",
      "metadata": {
        "id": "XQ3bqWOpF6ZV"
      },
      "source": [
        "# Desafío 3\n",
        "\n",
        "Dada la matriz \\( A = \\begin{bmatrix} 1 & 2 & 3 \\\\ 4 & 5 & 6 \\\\ 7 & 8 & 9 \\end{bmatrix} \\), encuentra el rango de la matriz resultante de \\( (A + A^T) \\)."
      ]
    },
    {
      "cell_type": "code",
      "execution_count": 11,
      "metadata": {
        "cellView": "form",
        "colab": {
          "base_uri": "https://localhost:8080/"
        },
        "id": "fQ6CokL_F8Rx",
        "outputId": "97adcd33-e5d4-44d9-c024-f84869715501"
      },
      "outputs": [
        {
          "data": {
            "text/plain": [
              "2"
            ]
          },
          "execution_count": 11,
          "metadata": {},
          "output_type": "execute_result"
        }
      ],
      "source": [
        "# @title SOLUCIÓN\n",
        "A = np.array([[1, 2, 3], [4, 5, 6], [7, 8, 9]])\n",
        "rank_result = np.linalg.matrix_rank(A + A.T)\n",
        "rank_result"
      ]
    },
    {
      "cell_type": "markdown",
      "metadata": {
        "id": "peAqBspDMYt1"
      },
      "source": [
        "# Desafío de Batalla Naval\n",
        "\n",
        "Para este desafío, tendrás que implementar un juego sencillo de \"Batalla Naval\". El tablero de juego será una matriz de 5x5 donde el agua será representada por ceros (0) y los barcos por unos (1).\n",
        "\n",
        "Primero, crea un tablero de juego utilizando NumPy, que será una matriz de ceros de 5x5.\n",
        "\n",
        "Luego, coloca tres barcos en el tablero de juego. Cada barco es un 1 y debes colocarlo en una posición aleatoria en el tablero. No te preocupes por el tamaño de los barcos; cada barco ocupará solo una celda.\n",
        "\n",
        "Finalmente, crea una función que acepte dos argumentos (las coordenadas x, y), y que verifique si en esa posición hay un barco (1) o agua (0). La función debe imprimir un mensaje indicando si se golpeó un barco o si el disparo cayó al agua."
      ]
    },
    {
      "cell_type": "code",
      "execution_count": 23,
      "metadata": {
        "cellView": "form",
        "id": "iI81fGugMepZ"
      },
      "outputs": [],
      "source": [
        "# @title Solución\n",
        "import numpy as np\n",
        "\n",
        "# Crear un tablero de juego 5x5\n",
        "\n",
        "\n",
        "# Colocar tres barcos en posiciones aleatorias\n",
        "\n",
        "    #x, y = np.random.randint(0, 5, size=2)\n",
        "\n",
        "\n",
        "# Función para verificar si hay un barco o agua en las coordenadas dadas\n",
        "\n",
        "\n",
        "# Prueba la función con algunas coordenadas\n",
        "\n"
      ]
    }
  ],
  "metadata": {
    "colab": {
      "authorship_tag": "ABX9TyOWXUv9C4rEVdP4lSPIsnxi",
      "include_colab_link": true,
      "provenance": []
    },
    "kernelspec": {
      "display_name": "Python 3",
      "name": "python3"
    },
    "language_info": {
      "codemirror_mode": {
        "name": "ipython",
        "version": 3
      },
      "file_extension": ".py",
      "mimetype": "text/x-python",
      "name": "python",
      "nbconvert_exporter": "python",
      "pygments_lexer": "ipython3",
      "version": "3.11.1"
    }
  },
  "nbformat": 4,
  "nbformat_minor": 0
}
