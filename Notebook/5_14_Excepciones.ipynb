{
 "cells": [
  {
   "cell_type": "markdown",
   "metadata": {},
   "source": [
    "# Excepciones y errores"
   ]
  },
  {
   "cell_type": "markdown",
   "metadata": {},
   "source": [
    "## Excepciones\n",
    "\n",
    "\"El agua hierve a 100 grados bajo cero cuando hace calor.\"\n",
    "\n",
    "Aunque esta oración es correcta desde el punto de vista gramatical, su significado está lleno de contradicciones. Algo similar ocurre en la programación: incluso cuando el código tiene la sintaxis correcta, puede generar errores lógicos durante la ejecución. A estos errores se les conoce como excepciones, y son detectados cuando el programa se está ejecutando, generando mensajes de error que pueden, en muchos casos, ser controlados y gestionados.\n",
    "\n",
    "Ejecuta las siguientes líneas y observa que ocurre..."
   ]
  },
  {
   "cell_type": "code",
   "execution_count": null,
   "metadata": {},
   "outputs": [],
   "source": [
    "10 * (1/0)"
   ]
  },
  {
   "cell_type": "code",
   "execution_count": null,
   "metadata": {},
   "outputs": [],
   "source": [
    "4 + spam*3"
   ]
  },
  {
   "cell_type": "code",
   "execution_count": null,
   "metadata": {},
   "outputs": [],
   "source": [
    "'2' + 2"
   ]
  },
  {
   "cell_type": "markdown",
   "metadata": {},
   "source": [
    "La última línea del mensaje de error es crucial, ya que indica qué tipo de excepción ha ocurrido. Cada tipo de excepción tiene un propósito específico y se utiliza para señalar un tipo particular de error.\n",
    "\n",
    "Explicar las caracteristicas propias de los errores cometidos en los codigos anteriores."
   ]
  },
  {
   "cell_type": "markdown",
   "metadata": {},
   "source": [
    "# Como corregir esas excepciones"
   ]
  },
  {
   "cell_type": "code",
   "execution_count": null,
   "metadata": {},
   "outputs": [],
   "source": [
    "a = (int) (input(\"Ingrese el dividendo: \"))\n",
    "b = (int) (input(\"Ingrese el divisor: \"))\n",
    "\n",
    "print(a/b)"
   ]
  },
  {
   "cell_type": "markdown",
   "metadata": {},
   "source": [
    "Esto no funciona porque el usuario puede ingresar en b el valor 0.\n",
    "Mejoremos el codigo."
   ]
  },
  {
   "cell_type": "code",
   "execution_count": null,
   "metadata": {},
   "outputs": [],
   "source": [
    "# Solicitamos al usuario el dividendo y lo convertimos a entero\n",
    "a = float(input(\"Ingrese el dividendo: \"))\n",
    "\n",
    "# Solicitamos al usuario el divisor y lo convertimos a entero\n",
    "b = float(input(\"Ingrese el divisor: \"))\n",
    "\n",
    "# Intentamos realizar la división\n",
    "try:\n",
    "    resultado = a/b\n",
    "    print(resultado)\n",
    "except ZeroDivisionError:  # Si ocurre una división por cero\n",
    "    print(\"Error: División por cero no permitida.\")\n"
   ]
  },
  {
   "cell_type": "markdown",
   "metadata": {},
   "source": [
    "## Desafíos\n",
    "### Desafío 1: \n",
    "Solicita al usuario dos números enteros e implementa un try-except que maneje la división por cero y los valores no numéricos. Muestra mensajes de error apropiados en cada caso.\n",
    "\n",
    "### Desafío 2: \n",
    "Crea un programa que tome una lista de valores y realice operaciones matemáticas sobre ellos. Implementa el manejo de varias excepciones comunes como ZeroDivisionError, TypeError, y ValueError.\n",
    "\n",
    "### Desafío 3: \n",
    "Escribe una función que calcule el factorial de un número entero positivo. Maneja las excepciones si el número ingresado es negativo, no es entero, o es demasiado grande para ser procesado.\n",
    "\n",
    "### Desafío 4: \n",
    "Crea una excepción personalizada llamada NegativeNumberError que se dispare si el usuario intenta ingresar un número negativo en un programa de cálculo de raíces cuadradas. Implementa el manejo de esta excepción en el programa.\n",
    "\n",
    "### Desafío 5: \n",
    "Desarrolla un programa que abra un archivo de texto, lea su contenido y lo muestre. Implementa manejo de excepciones para archivos que no existan y usa finally para asegurarte de que el archivo se cierre adecuadamente en cualquier caso."
   ]
  }
 ],
 "metadata": {
  "kernelspec": {
   "display_name": "venv",
   "language": "python",
   "name": "python3"
  },
  "language_info": {
   "codemirror_mode": {
    "name": "ipython",
    "version": 3
   },
   "file_extension": ".py",
   "mimetype": "text/x-python",
   "name": "python",
   "nbconvert_exporter": "python",
   "pygments_lexer": "ipython3",
   "version": "3.11.1"
  },
  "orig_nbformat": 4
 },
 "nbformat": 4,
 "nbformat_minor": 2
}
