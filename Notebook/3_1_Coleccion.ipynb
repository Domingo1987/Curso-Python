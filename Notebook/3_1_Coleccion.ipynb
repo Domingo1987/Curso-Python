{
 "cells": [
  {
   "attachments": {},
   "cell_type": "markdown",
   "metadata": {},
   "source": [
    "# Coleccion de articulos"
   ]
  },
  {
   "cell_type": "code",
   "execution_count": 1,
   "metadata": {},
   "outputs": [
    {
     "name": "stdout",
     "output_type": "stream",
     "text": [
      "Producto con deficit de Stock: prod1\n",
      "Producto con deficit de Stock: prod4\n"
     ]
    }
   ],
   "source": [
    "inventario = {\"prod1\":3,\"prod2\":20,\"prod3\":7,\"prod4\":4}\n",
    "\n",
    "for i in inventario:\n",
    "    if (inventario[i] < 5):\n",
    "        print(f\"Producto con deficit de Stock: {i}\")"
   ]
  }
 ],
 "metadata": {
  "kernelspec": {
   "display_name": "Python 3",
   "language": "python",
   "name": "python3"
  },
  "language_info": {
   "codemirror_mode": {
    "name": "ipython",
    "version": 3
   },
   "file_extension": ".py",
   "mimetype": "text/x-python",
   "name": "python",
   "nbconvert_exporter": "python",
   "pygments_lexer": "ipython3",
   "version": "3.11.1"
  },
  "orig_nbformat": 4
 },
 "nbformat": 4,
 "nbformat_minor": 2
}
