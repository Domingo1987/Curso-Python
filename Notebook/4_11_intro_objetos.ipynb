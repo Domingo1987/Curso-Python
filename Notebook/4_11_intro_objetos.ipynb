{
  "cells": [
    {
      "cell_type": "markdown",
      "metadata": {},
      "source": [
        "# Paradigma de objetos. Conceptos básicos y principios"
      ]
    },
    {
      "cell_type": "markdown",
      "metadata": {},
      "source": [
        "## Situación Problema"
      ]
    },
    {
      "cell_type": "markdown",
      "metadata": {},
      "source": [
        "En el cuaderno anterior, vimos cómo implementar un TAD para una lista y discutimos algunas desventajas de ese enfoque. ¿Cómo podemos superar estas desventajas y crear una implementación más robusta, reutilizable y extensible de una lista? La respuesta está en el paradigma de objetos."
      ]
    },
    {
      "cell_type": "markdown",
      "metadata": {},
      "source": [
        "## Introducción al Paradigma de Objetos"
      ]
    },
    {
      "cell_type": "markdown",
      "metadata": {},
      "source": [
        "El paradigma de objetos es un enfoque de programación que combina datos y operaciones en entidades llamadas 'objetos'. Estos objetos son instancias de 'clases', que actúan como plantillas. A través de la herencia, el polimorfismo y el encapsulamiento, el paradigma de objetos nos permite crear programas más estructurados y modulares."
      ]
    },
    {
      "cell_type": "markdown",
      "metadata": {},
      "source": [
        "En el siguiente cuaderno, exploraremos en detalle cómo implementar clases y objetos en Python, y cómo estos conceptos pueden ayudarnos a superar las desventajas del enfoque TAD que vimos anteriormente."
      ]
    }
  ],
  "metadata": {
    "kernelspec": {
      "display_name": "Python 3",
      "language": "python",
      "name": "python3"
    }
  },
  "nbformat": 4,
  "nbformat_minor": 5
}
