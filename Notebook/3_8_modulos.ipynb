{
 "cells": [
  {
   "cell_type": "markdown",
   "id": "5cf1685f",
   "metadata": {},
   "source": [
    "# Módulos en Python"
   ]
  },
  {
   "cell_type": "markdown",
   "id": "b3a1d3c7",
   "metadata": {},
   "source": [
    "## Introducción a los módulos en Python:\n",
    "\n",
    "Al construir nuestro procesador de texto, nos damos cuenta de que algunas funciones y características que necesitamos ya existen y han sido implementadas por otros desarrolladores. En lugar de reinventar la rueda, podemos usar estos conjuntos de funciones reuniendo módulos en Python. Un módulo es simplemente un archivo que contiene definiciones, funciones, y variables que podemos importar a nuestro código.\n"
   ]
  },
  {
   "cell_type": "markdown",
   "id": "6251d15c",
   "metadata": {},
   "source": [
    "## ¿Por qué usar módulos?"
   ]
  },
  {
   "cell_type": "markdown",
   "id": "c8c0b883",
   "metadata": {},
   "source": [
    "\n",
    "Utilizar módulos nos permite mantener nuestro código organizado, reutilizar código y compartir funcionalidades entre diferentes proyectos. Imagina que en nuestro procesador de texto, quisiéramos añadir la capacidad de trabajar con fechas (como añadir fechas de creación o modificación a los documentos). En lugar de escribir todo el código desde cero para manejar fechas, podemos utilizar el módulo `datetime` de Python.\n"
   ]
  },
  {
   "cell_type": "markdown",
   "id": "070311ef",
   "metadata": {},
   "source": [
    "## Importando un módulo completo\n",
    "\n",
    "Para usar un módulo, primero debemos importarlo. A continuación, un ejemplo utilizando el módulo datetime."
   ]
  },
  {
   "cell_type": "code",
   "execution_count": null,
   "id": "6286a405",
   "metadata": {},
   "outputs": [],
   "source": [
    "\n",
    "import datetime\n",
    "\n",
    "fecha_actual = datetime.datetime.now()\n",
    "print(f\"La fecha y hora actuales son: {fecha_actual}\")\n"
   ]
  },
  {
   "cell_type": "markdown",
   "id": "26258a1e",
   "metadata": {},
   "source": [
    "## Importando solo partes de un módulo\n",
    "\n",
    "En ocasiones, solo necesitamos una función o clase específica de un módulo. Podemos importar solo esa parte en lugar de todo el módulo."
   ]
  },
  {
   "cell_type": "code",
   "execution_count": null,
   "id": "83781614",
   "metadata": {},
   "outputs": [],
   "source": [
    "\n",
    "from datetime import datetime\n",
    "\n",
    "fecha_actual = datetime.now()\n",
    "print(f\"La fecha y hora actuales son: {fecha_actual}\")\n"
   ]
  },
  {
   "cell_type": "markdown",
   "id": "9526f068",
   "metadata": {},
   "source": [
    "## Renombrando módulos al importar\n",
    "\n",
    "A veces, por conveniencia o para evitar conflictos, podemos querer renombrar un módulo o parte de él al importarlo."
   ]
  },
  {
   "cell_type": "code",
   "execution_count": null,
   "id": "eba94b52",
   "metadata": {},
   "outputs": [],
   "source": [
    "\n",
    "import datetime as dt\n",
    "\n",
    "fecha_actual = dt.datetime.now()\n",
    "print(f\"La fecha y hora actuales son: {fecha_actual}\")\n"
   ]
  },
  {
   "cell_type": "markdown",
   "id": "3258fb88",
   "metadata": {},
   "source": [
    "## Módulos personalizados\n",
    "\n",
    "En Python, no solo podemos aprovechar los módulos estándar, sino que también tenemos la libertad de crear nuestros propios módulos. Supongamos que, en el proceso de desarrollo de nuestro procesador de texto, hemos escrito varias funciones que nos ayudan a contar palabras, verificar la ortografía y ajustar márgenes. En lugar de escribir estas funciones una y otra vez en diferentes proyectos, podemos agruparlas y guardarlas en un archivo separado para reutilizarlas.\n",
    "\n",
    "Por ejemplo, imagina que hemos creado las siguientes funciones:"
   ]
  },
  {
   "cell_type": "code",
   "execution_count": null,
   "id": "caa6ac25",
   "metadata": {},
   "outputs": [],
   "source": [
    "# procesador_texto.py\n",
    "\n",
    "def contar_palabras(texto):\n",
    "    return len(texto.split())\n",
    "\n",
    "def verificar_ortografia(texto):\n",
    "    # Simulamos una función que verifica la ortografía.\n",
    "    # En una aplicación real, esto podría ser más complejo.\n",
    "    return \"Ortografía verificada.\"\n",
    "\n",
    "def ajustar_margenes(texto, margen_izquierdo=10, margen_derecho=10):\n",
    "    return ' ' * margen_izquierdo + texto + ' ' * margen_derecho"
   ]
  },
  {
   "cell_type": "markdown",
   "id": "b8ffbdf6",
   "metadata": {},
   "source": [
    "Una vez guardadas en el archivo procesador_texto.py, podemos importar este módulo personalizado en otros programas:"
   ]
  },
  {
   "cell_type": "code",
   "execution_count": null,
   "id": "02d0407f",
   "metadata": {},
   "outputs": [],
   "source": [
    "#from procesador_texto import contar_palabras, verificar_ortografia, ajustar_margenes\n",
    "\n",
    "texto = \"El procesamiento de texto en Python es poderoso.\"\n",
    "print(contar_palabras(texto))  # Imprime: 8\n",
    "print(verificar_ortografia(texto))  # Imprime: Ortografía verificada.\n",
    "print(ajustar_margenes(texto, 5, 5))  # Ajusta los márgenes del texto"
   ]
  },
  {
   "cell_type": "markdown",
   "id": "755e37df",
   "metadata": {},
   "source": [
    "Al importar nuestro módulo personalizado, podemos acceder y utilizar las funciones que contiene, facilitando la reutilización de código y manteniendo nuestros programas principales más limpios y organizados."
   ]
  },
  {
   "cell_type": "markdown",
   "id": "805c5029",
   "metadata": {},
   "source": [
    "\n",
    "## Desafíos\n"
   ]
  },
  {
   "cell_type": "markdown",
   "id": "f326e631",
   "metadata": {},
   "source": [
    "**Desafío 1:**\n",
    "\n",
    "Investiga y utiliza al menos tres funciones del módulo `string` que puedan ser útiles para mejorar nuestro procesador de texto."
   ]
  },
  {
   "cell_type": "markdown",
   "id": "e5b7bb33",
   "metadata": {},
   "source": [
    "**Desafío 2:**\n",
    "\n",
    "Crea un módulo personalizado que contenga funciones para cambiar el formato del texto (por ejemplo, a negrita, itálica, etc.) e impórtalo en un nuevo programa."
   ]
  },
  {
   "cell_type": "markdown",
   "id": "ad90daba",
   "metadata": {},
   "source": [
    "**Desafío 3:**\n",
    "\n",
    "Utiliza el módulo `os` para interactuar con el sistema operativo y añade características como guardar un archivo o leer un archivo existente en nuestro procesador de texto."
   ]
  }
 ],
 "metadata": {
  "kernelspec": {
   "display_name": "Python 3",
   "language": "python",
   "name": "python3"
  },
  "language_info": {
   "codemirror_mode": {
    "name": "ipython",
    "version": 3
   },
   "file_extension": ".py",
   "mimetype": "text/x-python",
   "name": "python",
   "nbconvert_exporter": "python",
   "pygments_lexer": "ipython3",
   "version": "3.11.1"
  }
 },
 "nbformat": 4,
 "nbformat_minor": 5
}
