{
 "cells": [
  {
   "cell_type": "markdown",
   "metadata": {},
   "source": [
    "# Polimorfismo\n",
    "\n",
    "El polimorfismo es otro concepto fundamental en la Programación Orientada a Objetos que permite que un objeto pueda adoptar múltiples formas. En el contexto de la herencia, el polimorfismo permite que un objeto de la subclase pueda ser tratado como un objeto de la clase base, lo que facilita la escritura de código más genérico y reutilizable.\n",
    "\n",
    "## Ejemplo de Polimorfismo en la Biblioteca\n",
    "\n",
    "Vamos a ver cómo podemos aplicar el polimorfismo en nuestro ejemplo de la biblioteca. Supongamos que queremos tener una función que imprima la información de cualquier autor, sin importar si es un Autor, un Escritor, un EscritorAcademico, etc."
   ]
  },
  {
   "cell_type": "code",
   "execution_count": null,
   "metadata": {
    "vscode": {
     "languageId": "plaintext"
    }
   },
   "outputs": [],
   "source": [
    "def imprimir_informacion_autor(autor):\n",
    "    print(\"Nombre:\", autor.nombre)\n",
    "    if isinstance(autor, Escritor):\n",
    "        print(\"Género Literario:\", autor.genero)\n",
    "    if isinstance(autor, Academico):\n",
    "        print(\"Universidad:\", autor.universidad)"
   ]
  },
  {
   "cell_type": "markdown",
   "metadata": {},
   "source": [
    "Ahora, podemos pasar cualquier objeto de una clase que herede de Autor a esta función, y se imprimirá la información correspondiente:"
   ]
  },
  {
   "cell_type": "code",
   "execution_count": null,
   "metadata": {
    "vscode": {
     "languageId": "plaintext"
    }
   },
   "outputs": [],
   "source": [
    "autor = Autor(\"Julio Cortázar\")\n",
    "escritor_academico = EscritorAcademico(\"Umberto Eco\", \"Novela Histórica\", \"Universidad de Bolonia\")\n",
    "\n",
    "imprimir_informacion_autor(autor)\n",
    "imprimir_informacion_autor(escritor_academico)"
   ]
  },
  {
   "cell_type": "markdown",
   "metadata": {},
   "source": [
    "## Sobrescritura de Métodos\n",
    "\n",
    "El polimorfismo también nos permite sobrescribir métodos en las subclases. Por ejemplo, podríamos tener un método informacion() en la clase Autor y sobrescribirlo en las subclases para que devuelva información adicional:"
   ]
  },
  {
   "cell_type": "code",
   "execution_count": null,
   "metadata": {
    "vscode": {
     "languageId": "plaintext"
    }
   },
   "outputs": [],
   "source": [
    "class Autor:\n",
    "    def __init__(self, nombre):\n",
    "        self.nombre = nombre\n",
    "    \n",
    "    def informacion(self):\n",
    "        return f\"Nombre: {self.nombre}\"\n",
    "\n",
    "class Escritor(Autor):\n",
    "    def __init__(self, nombre, genero):\n",
    "        super().__init__(nombre)\n",
    "        self.genero = genero\n",
    "    \n",
    "    def informacion(self):\n",
    "        return f\"{super().informacion()} - Género Literario: {self.genero}\"\n",
    "\n",
    "escritor = Escritor(\"Gabriel García Márquez\", \"Realismo Mágico\")\n",
    "print(escritor.informacion())"
   ]
  },
  {
   "cell_type": "markdown",
   "metadata": {},
   "source": [
    "El polimorfismo, junto con la herencia, nos permite escribir código más flexible y reutilizable, al permitirnos tratar objetos de subclases como si fueran objetos de la clase base y sobrescribir métodos para añadir funcionalidades específicas a las subclases."
   ]
  },
  {
   "cell_type": "markdown",
   "metadata": {},
   "source": [
    "## Ejemplos Adicionales de Polimorfismo\n",
    "### Polimorfismo con Métodos de Clase"
   ]
  },
  {
   "cell_type": "code",
   "execution_count": null,
   "metadata": {
    "vscode": {
     "languageId": "plaintext"
    }
   },
   "outputs": [],
   "source": [
    "class Animal:\n",
    "    def sonido(self):\n",
    "        return \"Algunos animales hacen sonidos\"\n",
    "\n",
    "class Perro(Animal):\n",
    "    def sonido(self):\n",
    "        return \"Guau Guau\"\n",
    "\n",
    "class Gato(Animal):\n",
    "    def sonido(self):\n",
    "        return \"Miau Miau\"\n",
    "\n",
    "animales = [Perro(), Gato(), Animal()]\n",
    "\n",
    "for animal in animales:\n",
    "    print(animal.sonido())"
   ]
  },
  {
   "cell_type": "markdown",
   "metadata": {},
   "source": [
    "## Desafíos\n",
    "\n",
    "### Desafío 1: \n",
    "Crea una clase Musico que tenga un método instrumento y crea dos subclases Guitarrista y Baterista que sobrescriban el método instrumento. Instancia objetos de estas clases y demuestra el polimorfismo.\n",
    "\n",
    "### Desafío 2: \n",
    "Añade un método biografia a la clase Autor y sobrescríbelo en la clase Escritor. Instancia un objeto de la clase Escritor y muestra cómo se puede acceder al método biografia de ambas clases.\n",
    "\n",
    "### Desafío 3: \n",
    "En este desafío, vamos a extender la clase Libro para crear una subclase `LibroEspecializado`. Un `LibroEspecializado`, además de tener un título y un autor, también tiene un campo de estudio y un nivel de especialización (básico, intermedio, avanzado).\n",
    "\n",
    "### Desafío 4: Polimorfismo en Figuras Geométricas\n",
    "En este desafío, se te pide que implementes el polimorfismo con métodos de clase en figuras geométricas. Deberás crear una clase base Figura con un método area y dos subclases Circulo y Cuadrado que sobrescriban este método para calcular el área de cada figura.\n",
    "\n",
    "### Desafío 5: Polimorfismo en Operaciones Matemáticas\n",
    "En este desafío, aplicarás el polimorfismo para realizar diferentes operaciones matemáticas. Deberás crear una clase base Operacion con un método resultado y dos subclases Suma y Multiplicacion que sobrescriban este método para realizar las operaciones correspondientes."
   ]
  },
  {
   "cell_type": "markdown",
   "metadata": {},
   "source": [
    "## Referencias\n",
    "\n",
    "- [Polimorfismo en Python - W3Schools](https://www.w3schools.com/python/python_polymorphism.asp)\n",
    "- [Python Polymorphism - Programiz](https://www.programiz.com/python-programming/polymorphism)\n"
   ]
  }
 ],
 "metadata": {
  "language_info": {
   "name": "python"
  },
  "orig_nbformat": 4
 },
 "nbformat": 4,
 "nbformat_minor": 2
}
