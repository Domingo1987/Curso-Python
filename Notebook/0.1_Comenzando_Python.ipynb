{
  "cells": [
    {
      "cell_type": "markdown",
      "id": "7d62459f",
      "metadata": {
        "id": "7d62459f"
      },
      "source": [
        "# Primeros pasos en Programación 1 en Python\n",
        "\n",
        "Este cuaderno te guiará a través de los pasos para comenzar a programar en Python, incluyendo la instalación de Python, la configuración de un entorno de desarrollo, y la ejecución de tu primer programa.\n",
        "\n",
        "# Índice\n",
        "1. [Verificar si Python está instalado](#1.)\n",
        "2. [Instalar Python](#2.)\n",
        "3. [Instalar Visual Studio Code (VSCode) como IDE](#3.)\n",
        "4. [Métodos alternativos sin instalar VSCode](#4.)\n",
        "5. [Crear y ejecutar tu primer programa en Python](#5.)\n",
        "6. [Comprobación y ejecución desde la consola](#6.)\n",
        "7. [Crear cuenta en GitHub](#7.)\n",
        "8. [Crear cuenta en Replit](#8.)\n",
        "\n",
        "\n"
      ]
    },
    {
      "cell_type": "markdown",
      "id": "5acd7d64",
      "metadata": {
        "id": "5acd7d64"
      },
      "source": [
        "## 1. Verificar si Python está instalado <a name=\"1.\"></a>\n",
        "\n",
        "Antes de instalar Python, verifica si ya está instalado en tu sistema. Abre la consola de comandos (puedes buscar `cmd` en el menú de inicio) y escribe el siguiente comando:\n",
        "\n",
        "```\n",
        "python --version\n",
        "```\n",
        "\n",
        "Si Python está instalado, verás una salida con la versión de Python. Si no, Windows te sugerirá descargarlo desde la Microsoft Store o no reconocerá el comando (como se ve en la siguiente imagen). ![Captura de pantalla 2024-03-20 095608.png](data:image/png;base64,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)\n",
        "\n"
      ]
    },
    {
      "cell_type": "markdown",
      "id": "1431742f",
      "metadata": {
        "id": "1431742f"
      },
      "source": [
        "## 2. Instalar Python <a name=\"2.\"></a>\n",
        "\n",
        "Si Python no está instalado, sigue estos pasos para instalarlo:\n",
        "\n",
        "- Visita el sitio web oficial de Python en https://www.python.org/downloads/ y descarga la última versión para Windows.\n",
        "- Ejecuta el instalador descargado. **Importante:** Asegúrate de marcar la opción `Add Python X.X to PATH` antes de hacer clic en `Install Now`.\n",
        "- Para verificar que se haya instalado en su ultima versión, repetir el [paso 1](#1.) de nuevo."
      ]
    },
    {
      "cell_type": "markdown",
      "id": "240576e5",
      "metadata": {
        "id": "240576e5"
      },
      "source": [
        "## 3. Instalar Visual Studio Code (VSCode) <a name=\"3.\"></a>\n",
        "\n",
        "Visual Studio Code (VSCode) es un editor de código fuente que soporta múltiples lenguajes de programación. Para instalarlo:\n",
        "\n",
        "- Descarga VSCode desde https://code.visualstudio.com/ y ejecuta el instalador.\n",
        "- Abre VSCode, ve a la sección de extensiones (`Ctrl+Shift+X`), busca y instala la extensión `Python` de Microsoft."
      ]
    },
    {
      "cell_type": "markdown",
      "id": "eab97f72",
      "metadata": {
        "id": "eab97f72"
      },
      "source": [
        "## 4. Métodos alternativos sin instalar VSCode <a name=\"4.\"></a>\n",
        "\n",
        "Si prefieres no instalar un IDE o editor de código por ahora, puedes utilizar IDLE (el IDE que viene con Python) o cualquier editor de texto como Notepad para escribir tu código Python y ejecutarlo desde la consola de comandos.\n",
        "\n",
        "**Usando IDLE:**\n",
        "\n",
        "- Busca `IDLE` en el menú de inicio para abrirlo, escribe tu código Python, y selecciona `Run -> Run Module` para ejecutarlo.\n",
        "\n",
        "**Usando el Bloc de notas:**\n",
        "\n",
        "- Abre el Bloc de notas, escribe tu código Python, guárdalo con la extensión `.py`, por ejemplo, `mi_programa.py`, y sigue las instrucciones de la sección 6 para ejecutarlo desde la consola."
      ]
    },
    {
      "cell_type": "markdown",
      "id": "2230c5d5",
      "metadata": {
        "id": "2230c5d5"
      },
      "source": [
        "## 5. Crear y ejecutar tu primer programa en Python <a name=\"5.\"></a>\n",
        "\n",
        "Para tu primer programa en Python, escribirás un simple script que imprima `Hola Curso 2024` en la consola. Independientemente del editor o método que elijas, el código será el mismo:\n",
        "\n",
        "\n"
      ]
    },
    {
      "cell_type": "code",
      "execution_count": 1,
      "id": "a543fae5",
      "metadata": {
        "id": "a543fae5"
      },
      "outputs": [
        {
          "name": "stdout",
          "output_type": "stream",
          "text": [
            "Hola Curso 2024\n"
          ]
        }
      ],
      "source": [
        "print('Hola Curso 2024')"
      ]
    },
    {
      "cell_type": "markdown",
      "id": "dd843aef",
      "metadata": {
        "id": "dd843aef"
      },
      "source": [
        "Guarda este código en un archivo llamado `hola_curso.py`."
      ]
    },
    {
      "cell_type": "markdown",
      "id": "279560df",
      "metadata": {
        "id": "279560df"
      },
      "source": [
        "## 6. Comprobación y ejecución desde la consola <a name=\"6.\"></a>\n",
        "\n",
        "Para ejecutar tu programa desde la consola de comandos, sigue estos pasos:\n",
        "\n",
        "- Abre la consola de comandos (`cmd` en el menú de inicio).\n",
        "- Navega al directorio donde guardaste `hola_curso.py`. Puedes usar el comando `cd` para cambiar de directorio, por ejemplo, `cd Desktop` para ir al escritorio.\n",
        "- Escribe el siguiente comando y presiona Enter:\n",
        "\n",
        "```\n",
        "python hola_curso.py\n",
        "```\n",
        "\n",
        "Verás `Hola Curso 2024` impreso en la consola. ¡Felicidades! Ahora estás listo para comenzar tu viaje en la programación con Python."
      ]
    },
    {
      "cell_type": "markdown",
      "id": "bIgs03U83PoQ",
      "metadata": {
        "id": "bIgs03U83PoQ"
      },
      "source": [
        "## 7. Crear cuenta en GitHub <a name=\"7.\"></a>\n",
        "\n",
        "GitHub es una plataforma esencial para el desarrollo de software que facilita la colaboración y el versionado de código entre desarrolladores. Crear una cuenta en GitHub te permitirá alojar tus proyectos, colaborar con otros y contribuir a proyectos de código abierto. Es una herramienta valiosa no solo para guardar y compartir tu código, sino también para aprender de la comunidad global de desarrolladores.\n",
        "\n",
        "Para crear tu cuenta, visita [GitHub](https://github.com/) y regístrate utilizando tu correo electrónico. Considera utilizar tu nombre real o una combinación de tu nombre y apellido como nombre de usuario para que sea reconocible y profesional.\n",
        "\n"
      ]
    },
    {
      "cell_type": "markdown",
      "id": "NkqJrnZZ3n73",
      "metadata": {
        "id": "NkqJrnZZ3n73"
      },
      "source": [
        "## 8. Crear cuenta en Replit <a name=\"8.\"></a>\n",
        "\n",
        "Replit es un IDE en línea poderoso y versátil que soporta múltiples lenguajes de programación, incluido Python. Te permite escribir, ejecutar y compartir código desde cualquier navegador, sin necesidad de instalaciones complejas. Es ideal para experimentar con código, aprender nuevos lenguajes y trabajar en proyectos colaborativos.\n",
        "\n",
        "Para crear una cuenta en Replit, ve a [Replit.com](https://replit.com/) y elige registrarte con tu cuenta de Gmail o GitHub. Utilizar tu cuenta existente de Gmail o GitHub simplifica el proceso de inicio de sesión y te permite comenzar rápidamente a codificar.\n",
        "\n",
        "Elegir un nombre de usuario claro, que contenga tu nombre y/o apellido, te ayudará a establecer una presencia profesional en línea, facilitando la identificación de tus proyectos por parte de profesores y colegas.\n",
        "\n",
        "#### Ejemplo y Primeros Pasos en Replit:\n",
        "\n",
        "Una vez que tengas tu cuenta, intenta crear tu primer programa en Python. Por ejemplo, puedes escribir un simple script que imprima un saludo:\n"
      ]
    },
    {
      "cell_type": "code",
      "execution_count": 1,
      "id": "91pO6acX0Q0e",
      "metadata": {
        "id": "91pO6acX0Q0e"
      },
      "outputs": [
        {
          "name": "stdout",
          "output_type": "stream",
          "text": [
            "Hola, bienvenido a Replit!\n"
          ]
        }
      ],
      "source": [
        "print('Hola, bienvenido a Replit!')"
      ]
    },
    {
      "cell_type": "markdown",
      "id": "1CbC4Kqo0VcJ",
      "metadata": {
        "id": "1CbC4Kqo0VcJ"
      },
      "source": [
        "Guarda y ejecuta tu script para ver el resultado en la consola integrada de Replit.\n",
        "\n",
        "*Para un tutorial detallado sobre cómo comenzar, te recomiendo buscar videos en YouTube que te guíen a través de la interfaz de Replit y te enseñen a aprovechar sus herramientas para tu aprendizaje en programación, como \"Primeros Pasos en Replit\" o \"Mi Primer Código en Python en Replit\".*\n",
        "\n",
        "\n"
      ]
    }
  ],
  "metadata": {
    "colab": {
      "provenance": []
    },
    "kernelspec": {
      "display_name": "Python 3",
      "language": "python",
      "name": "python3"
    },
    "language_info": {
      "codemirror_mode": {
        "name": "ipython",
        "version": 3
      },
      "file_extension": ".py",
      "mimetype": "text/x-python",
      "name": "python",
      "nbconvert_exporter": "python",
      "pygments_lexer": "ipython3",
      "version": "3.11.1"
    }
  },
  "nbformat": 4,
  "nbformat_minor": 5
}
