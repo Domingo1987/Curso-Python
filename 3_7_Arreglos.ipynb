{
  "cells": [
    {
      "cell_type": "markdown",
      "metadata": {
        "id": "view-in-github",
        "colab_type": "text"
      },
      "source": [
        "<a href=\"https://colab.research.google.com/github/Domingo1987/Curso-Python/blob/main/3_7_Arreglos.ipynb\" target=\"_parent\"><img src=\"https://colab.research.google.com/assets/colab-badge.svg\" alt=\"Open In Colab\"/></a>"
      ]
    },
    {
      "cell_type": "markdown",
      "metadata": {
        "id": "2UOj9D8HwgLm"
      },
      "source": [
        "# Introducción"
      ]
    },
    {
      "cell_type": "markdown",
      "metadata": {
        "id": "mGH096y4wjvI"
      },
      "source": [
        "¡Hola, volvimos! Seguro que están familiarizados con los tipos de datos básicos que hemos trabajado en capítulos anteriores, como los números y las cadenas. ¿Pero qué pasa si quieres almacenar un montón de números o cadenas? ¿Vas a declarar una variable para cada uno de ellos? ¡Por supuesto que no! Ahí es donde entran los arreglos. ¿Y qué son los arreglos? Bueno, estoy aquí para contarte todo sobre ellos.\n",
        "\n",
        "Imagínate que eres el dueño de una tienda y tienes varios productos. Necesitas una forma de llevar un registro de los productos que tienes en stock. Podrías tener una variable para cada producto, pero eso rápidamente se vuelve inmanejable. En lugar de eso, puedes usar un arreglo para guardar los nombres de los productos en un solo lugar. ¡Vamos a explorar cómo hacerlo!"
      ]
    },
    {
      "cell_type": "markdown",
      "metadata": {
        "id": "3Qk-rJUixMdV"
      },
      "source": [
        "# ¿Qué es un arreglo unidimensional?"
      ]
    },
    {
      "cell_type": "markdown",
      "metadata": {
        "id": "kOHq30duxPwE"
      },
      "source": [
        "En términos muy sencillos, un arreglo es una colección de elementos que son *del mismo tipo de datos*. Piensa en él como una estantería donde cada estante tiene un valor que tú decides."
      ]
    },
    {
      "cell_type": "code",
      "execution_count": null,
      "metadata": {
        "id": "8XWZdXXFxUBb"
      },
      "outputs": [],
      "source": [
        "productos = [\"manzanas\", \"bananas\", \"cerezas\", \"duraznos\", \"peras\"]"
      ]
    },
    {
      "cell_type": "markdown",
      "metadata": {
        "id": "nvfbOYiwxV0u"
      },
      "source": [
        "Aquí, productos es un arreglo (en Python, lo llamamos \"lista\") que contiene varias cadenas.\n",
        "\n",
        "*Nota:*\n",
        "*Los clásicos arrays descritos en lenguajes como C, Java, entre otros no existen en Python como tal. Una forma elegante de superar esta limitación es utilizar las llamadas listas in Python, que tienen una función similar. A diferencia de los contenedores de Java, las listas de Python pueden contener diferentes tipos de valores.*"
      ]
    },
    {
      "cell_type": "markdown",
      "metadata": {
        "id": "-cK4hNarzx0W"
      },
      "source": [
        "# Acceder a un elemento específico"
      ]
    },
    {
      "cell_type": "markdown",
      "metadata": {
        "id": "uHPO_v3fzzrt"
      },
      "source": [
        "Para acceder a los elementos de un arreglo, usamos su índice, que es la posición del elemento en el arreglo. Recuerda que en Python, los índices comienzan en 0."
      ]
    },
    {
      "cell_type": "code",
      "execution_count": null,
      "metadata": {
        "colab": {
          "base_uri": "https://localhost:8080/"
        },
        "id": "9VevZVqPz4w9",
        "outputId": "82b19312-8ad7-4717-8868-32271c901ca6"
      },
      "outputs": [
        {
          "name": "stdout",
          "output_type": "stream",
          "text": [
            "cerezas\n"
          ]
        }
      ],
      "source": [
        "primer_producto = productos[0]\n",
        "print(primer_producto)\n"
      ]
    },
    {
      "cell_type": "markdown",
      "metadata": {
        "id": "osYfhmw7z52s"
      },
      "source": [
        "# Añadir elementos a un array en Python"
      ]
    },
    {
      "cell_type": "markdown",
      "metadata": {
        "id": "GNZE2IMez9NA"
      },
      "source": [
        "En Python, puedes añadir elementos a una lista usando el método append(). Este método añade el elemento al final de la lista."
      ]
    },
    {
      "cell_type": "code",
      "execution_count": null,
      "metadata": {
        "id": "SaW_mkUuz_-u"
      },
      "outputs": [],
      "source": [
        "productos.append(\"kiwis\")\n",
        "print(productos)"
      ]
    },
    {
      "cell_type": "markdown",
      "metadata": {
        "id": "DKbrIptb0BzR"
      },
      "source": [
        "# Eliminar elementos del array con pop ( ) o remove ( )"
      ]
    },
    {
      "cell_type": "markdown",
      "metadata": {
        "id": "35tzlfOe0Io4"
      },
      "source": [
        "Para eliminar elementos de una lista, puedes usar el método pop() o remove(). pop() elimina el elemento en la posición especificada, mientras que remove() elimina el primer elemento con el valor especificado."
      ]
    },
    {
      "cell_type": "code",
      "execution_count": null,
      "metadata": {
        "id": "U-f-3-hT0MMn"
      },
      "outputs": [],
      "source": [
        "productos.pop(1)  # Elimina el elemento en el índice 1\n",
        "productos.remove(\"cerezas\")  # Elimina la primera aparición de \"cerezas\"\n",
        "print(productos)"
      ]
    },
    {
      "cell_type": "markdown",
      "metadata": {
        "id": "rtbKFNpR0RnE"
      },
      "source": [
        "# Lista de diferentes métodos para arrays en Python"
      ]
    },
    {
      "cell_type": "markdown",
      "metadata": {
        "id": "sS7prWFX0VLQ"
      },
      "source": [
        "Python ofrece muchos métodos útiles para trabajar con listas. Aquí hay una tabla con algunos de los más comunes:"
      ]
    },
    {
      "cell_type": "markdown",
      "metadata": {
        "id": "ssz5zud50WJw"
      },
      "source": [
        "|Método|Descripción|\n",
        "|---|---|\n",
        "|`append()`|Añade un elemento al final de la lista.|\n",
        "|`clear()`|Este método elimina todos los elementos de la lista.|\n",
        "|`copy()`|`copy()` produce una copia de toda la lista.|\n",
        "|`count()`|Este método da como resultado el número exacto de elementos con un valor determinado.|\n",
        "|`extend()`|`extend()` añade todos los elementos de una lista al final de un array en Python.|\n",
        "|`index()`|Muestra el número de índice del primer elemento con un valor determinado.|\n",
        "|`insert()`|Añade un elemento en una posición determinada.|\n",
        "|`len()`|Con `len()` se determina la longitud de un array en Python.|\n",
        "|`pop()`|Con `pop()` se elimina un elemento en una posición determinada.|\n",
        "|`remove()`|`remove()` elimina el primer elemento con un valor determinado.|\n",
        "|`reverse()`|Utiliza este método para invertir el orden de los elementos de tu array en Python.|\n",
        "|`sort()`|Con `sort()` puedes ordenar tu lista.|\n"
      ]
    },
    {
      "cell_type": "markdown",
      "metadata": {
        "id": "PjExNK731ZtD"
      },
      "source": [
        "# Desafío: Gestión del Stock de la Verdulería"
      ]
    },
    {
      "cell_type": "markdown",
      "metadata": {
        "id": "wbINup_O9p5F"
      },
      "source": [
        "¡Bienvenido al desafío de la verdulería! Has sido nombrado el nuevo gerente de una tienda de frutas, verduras y hortalizas. Tu tarea será manejar el stock de la tienda utilizando un arreglo. Aquí hay una serie de tareas que tendrás que completar.\n",
        "\n",
        "## Inventario inicial\n",
        "\n",
        "Aquí está el inventario inicial de la tienda:"
      ]
    },
    {
      "cell_type": "code",
      "execution_count": null,
      "metadata": {
        "id": "0ciI1vKd9yYd"
      },
      "outputs": [],
      "source": [
        "inventario = [\"manzanas\", \"bananas\", \"zanahorias\", \"espinacas\", \"brocoli\", \"cebolla\", \"kiwis\"]"
      ]
    },
    {
      "cell_type": "markdown",
      "metadata": {
        "id": "2PG6cpY7AbZN"
      },
      "source": [
        " **Pregunta 1: ¿Cuántos tipos de productos hay en el inventario inicial?**\n",
        "\n",
        " **Pregunta 2: ¿Qué producto está en la tercera posición del inventario?**"
      ]
    },
    {
      "cell_type": "markdown",
      "metadata": {
        "id": "JT8fGJI3ARwG"
      },
      "source": [
        "## Gestión del inventario\n",
        "Un cliente viene y compra todas las bananas.\n",
        "\n",
        "**Pregunta 3: ¿Cómo actualizarías el inventario después de la venta?**\n",
        "\n",
        "Ahora recibes un envío de nuevos productos: \"frutillas\", \"apio\" y \"papas\".\n",
        "\n",
        "**Pregunta 4: ¿Cómo añadirías estos productos al inventario?**\n",
        "\n",
        "**Pregunta 5: ¿Cómo verificas si las \"papas\" están ahora en el inventario?**\n",
        "\n",
        "Un agricultor viene con una rara fruta llamada \"dragonfruit\", pero sólo tienes espacio para 7 productos en tu tienda.\n",
        "\n",
        "**Pregunta 6: ¿Cómo decidirías qué producto sacar para hacer espacio para el \"dragonfruit\"?**\n"
      ]
    },
    {
      "cell_type": "markdown",
      "metadata": {
        "id": "tJUXxW1D94Qb"
      },
      "source": [
        "\n",
        "\n",
        "\n",
        "## Ordenando el inventario\n",
        "Decides que sería más fácil gestionar el inventario si estuviera ordenado alfabéticamente.\n",
        "\n",
        "**Pregunta 7: ¿Cómo ordenarías el inventario?**\n",
        "\n",
        "Un nuevo empleado viene y necesita una copia del inventario para poder reponer los estantes.\n",
        "\n",
        "**Pregunta 8: ¿Cómo proporcionarías una copia del inventario al nuevo empleado, asegurándote de que si el empleado hace cambios en su copia, el inventario original no se vea afectado?**\n",
        "\n",
        "Esperamos que disfrutes de este desafío y que te ayude a entender mejor cómo trabajar con arreglos en Python. ¡Buena suerte, gerente de la tienda!"
      ]
    },
    {
      "cell_type": "code",
      "source": [
        "# @title Solución\n",
        "#Realizar el manejo del stock correspondiente a la verduleria y fruteria anadiendo productos, verificando stock.abs\n",
        "inventario = [\"manzanas\", \"bananas\", \"zanahorias\", \"espinacas\", \"brocoli\", \"cebolla\",\"kiwis\"]\n",
        "#Pregunta 1: ¿Cuántos tipos de productos hay en el inventario inicial?\n",
        "cont_inventario = len(inventario)\n",
        "print(f\"La cantidad de productos del inventario inicial es {cont_inventario}\")\n",
        "\n",
        "#Pregunta 2: ¿Qué producto está en la tercera posición del inventario?\n",
        "tercer_producto = inventario[2]\n",
        "print(f\"El tercer producto es {tercer_producto}\")\n",
        "\n",
        "#Un cliente viene y compra todas las bananas.\n",
        "#Pregunta 3: ¿Cómo actualizarías el inventario después de la venta?\n",
        "inventario.remove(\"bananas\")\n",
        "print(inventario)\n",
        "\n",
        "#Ahora recibes un envío de nuevos productos: \"frutillas\", \"apio\" y \"papas\".\n",
        "#Pregunta 4:¿Cómo añadirias los productos al inventario?\n",
        "inventario.append(\"frutillas\")\n",
        "inventario.append(\"apio\")\n",
        "inventario.append(\"papas\")\n",
        "print(inventario)\n",
        "\n",
        "#Pregunta 5: ¿Cómo verificarias si las \"papas\"están ahora en el inventario?\n",
        "if \"papas\" in inventario:\n",
        "  print(\"Hay papas en el inventario\\n\")\n",
        "else:\n",
        "  print(\"No hay papas en el inventario\")\n",
        "\n",
        "#Pregunta 6:¿Cómo decidirías qué producto sacar para hacer espacio para el \"dragonfruit\"?\n",
        "inventario.pop(0)\n",
        "inventario.pop(0)\n",
        "inventario.pop(0)\n",
        "inventario.append(\"dragonfruit\")\n",
        "print(inventario)\n",
        "\n",
        "#Pregunta 7:¿Cómo ordenarías el inventario?\n",
        "inventario.sort()\n",
        "print(f\"El inventario ordenado queda de la siguiente manera: {inventario}\\n\")\n",
        "\n",
        "#Pregunta 8:¿Cómo proporcionarías una copia del inventario al nuevo empleado, asegurándote de que si el empleado hace cambios en su copia, el inventario original no se vea afectado?\n",
        "copia_inventario = inventario.copy()\n",
        "copia_inventario.append(\"mandarinas\")\n",
        "print(f\"Copia inventario {copia_inventario}\\n\")\n",
        "print(f\"inventario original {inventario}\")"
      ],
      "metadata": {
        "cellView": "form",
        "id": "t01-fxSoPr8y"
      },
      "execution_count": null,
      "outputs": []
    }
  ],
  "metadata": {
    "colab": {
      "provenance": [],
      "toc_visible": true,
      "include_colab_link": true
    },
    "kernelspec": {
      "display_name": "Python 3",
      "name": "python3"
    },
    "language_info": {
      "codemirror_mode": {
        "name": "ipython",
        "version": 3
      },
      "file_extension": ".py",
      "mimetype": "text/x-python",
      "name": "python",
      "nbconvert_exporter": "python",
      "pygments_lexer": "ipython3",
      "version": "3.11.1"
    }
  },
  "nbformat": 4,
  "nbformat_minor": 0
}